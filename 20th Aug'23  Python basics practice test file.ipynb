{
 "cells": [
  {
   "cell_type": "markdown",
   "id": "4b7985e1-35c9-49ff-89b7-b33b07d55a4d",
   "metadata": {},
   "source": [
    "### ```String Based assignment problem```"
   ]
  },
  {
   "cell_type": "code",
   "execution_count": 6,
   "id": "0bc2f717-07bb-4077-8c68-e5a0efa11728",
   "metadata": {},
   "outputs": [
    {
     "name": "stdin",
     "output_type": "stream",
     "text": [
      "Enter the string : hi how are you\n"
     ]
    },
    {
     "name": "stdout",
     "output_type": "stream",
     "text": [
      "reverse string is : uoy era woh ih\n"
     ]
    }
   ],
   "source": [
    "# 1 program to reverse string \n",
    "str1 = input(\"Enter the string :\")\n",
    "rev_str = str1[::-1]\n",
    "print(\"reverse string is :\",rev_str)"
   ]
  },
  {
   "cell_type": "code",
   "execution_count": 12,
   "id": "2223761d-2b54-4468-b5b0-b1d183694784",
   "metadata": {},
   "outputs": [
    {
     "name": "stdin",
     "output_type": "stream",
     "text": [
      "enter the string memory\n"
     ]
    },
    {
     "name": "stdout",
     "output_type": "stream",
     "text": [
      "the string is not pallindrome \n"
     ]
    }
   ],
   "source": [
    "# 2 check if string is pallindrome or not \n",
    "str2 = input(\"enter the string\" )\n",
    "revstr2 = str2[::-1]\n",
    "if str2 == revstr2:\n",
    "    print(\"the string is pallidrome\")\n",
    "\n",
    "else :\n",
    "    print(\"the string is not pallindrome \")"
   ]
  },
  {
   "cell_type": "code",
   "execution_count": 16,
   "id": "c62286c9-014c-480d-814e-e38858865830",
   "metadata": {},
   "outputs": [
    {
     "name": "stdin",
     "output_type": "stream",
     "text": [
      "Enter the string  hi \n"
     ]
    },
    {
     "name": "stdout",
     "output_type": "stream",
     "text": [
      "String in uppercase is : HI \n"
     ]
    }
   ],
   "source": [
    "# 3 converting a string to uppercase\n",
    "str3 = input(\"Enter the string \")\n",
    "upstr3 = str3.upper()\n",
    "print(\"String in uppercase is :\",upstr3)"
   ]
  },
  {
   "cell_type": "code",
   "execution_count": 18,
   "id": "fd905bc4-9f2a-41cb-b052-d96d6c3dc443",
   "metadata": {},
   "outputs": [
    {
     "name": "stdin",
     "output_type": "stream",
     "text": [
      "enetr the string : HI HOW ARE\\\n"
     ]
    },
    {
     "name": "stdout",
     "output_type": "stream",
     "text": [
      "string in lower case are: hi how are\\\n"
     ]
    }
   ],
   "source": [
    "# 4 convert a string to lower case \n",
    "str4 = input(\"enetr the string :\")\n",
    "lowstr4 = str4.lower()\n",
    "print(\"string in lower case are:\",lowstr4)"
   ]
  },
  {
   "cell_type": "code",
   "execution_count": 53,
   "id": "eb99e4f9-02ea-4743-b5b8-593184c961b1",
   "metadata": {},
   "outputs": [
    {
     "name": "stdin",
     "output_type": "stream",
     "text": [
      "enter the string : kfjhkfh\n"
     ]
    },
    {
     "name": "stdout",
     "output_type": "stream",
     "text": [
      "total vow in string is : 0\n"
     ]
    }
   ],
   "source": [
    "# 5 Count the number of vowels in a string.\n",
    "str5 = input(\"enter the string :\")\n",
    "v = \"AEIOUaeiou\"\n",
    "count = 0 \n",
    "for i in str5:\n",
    "    for j in v :\n",
    "        if i ==j:\n",
    "            count = count+1\n",
    "print(\"total vow in string is :\",count)"
   ]
  },
  {
   "cell_type": "markdown",
   "id": "78cc1fa9-91a1-4d3a-8b7d-d5e8f18d1503",
   "metadata": {},
   "source": [
    "### ``` 6. Count the number of consonants in a string.```"
   ]
  },
  {
   "cell_type": "code",
   "execution_count": 56,
   "id": "3f670088-382b-41c8-ab1b-4b5e6dd44e96",
   "metadata": {},
   "outputs": [
    {
     "name": "stdin",
     "output_type": "stream",
     "text": [
      "Enter the string:  hi\n"
     ]
    },
    {
     "name": "stdout",
     "output_type": "stream",
     "text": [
      "Total number of consonants: 1\n"
     ]
    }
   ],
   "source": [
    "str6 = input(\"Enter the string: \")\n",
    "vowels = \"AEIOUaeiou\"\n",
    "count = 0\n",
    "\n",
    "for char in str6:\n",
    "    if char.isalpha() and char not in vowels: # it will check only for alphabet and then check wether the alphabet is in vowels variable or not we are preventing them to count total number of spaces also  \n",
    "        count += 1\n",
    "\n",
    "print(\"Total number of consonants:\", count)\n",
    "\n",
    "            "
   ]
  },
  {
   "cell_type": "code",
   "execution_count": 64,
   "id": "0975ff0b-dceb-429c-8b0a-f33db3fefb20",
   "metadata": {},
   "outputs": [
    {
     "name": "stdin",
     "output_type": "stream",
     "text": [
      "enter the string  hi how \n"
     ]
    },
    {
     "name": "stdout",
     "output_type": "stream",
     "text": [
      "cleaned string is :  hihow\n"
     ]
    }
   ],
   "source": [
    "#7. Remove all whitespaces from a string.\n",
    "# using replace fucntion \n",
    "str7 = input(\"enter the string \")\n",
    "cleanstr = str7.replace(\" \",\"\")\n",
    "print(\"cleaned string is : \",cleanstr)\n"
   ]
  },
  {
   "cell_type": "code",
   "execution_count": 71,
   "id": "2f3766f9-369f-476d-8634-ee54dad906c7",
   "metadata": {},
   "outputs": [
    {
     "name": "stdin",
     "output_type": "stream",
     "text": [
      "enter the string : hi how \n"
     ]
    },
    {
     "name": "stdout",
     "output_type": "stream",
     "text": [
      "new cleaned string is : hihow\n"
     ]
    }
   ],
   "source": [
    "# using split and join function \n",
    "str7 = input(\"enter the string :\")\n",
    "clean = \"\".join(str8.split())\n",
    "print(\"new cleaned string is :\",clean)"
   ]
  },
  {
   "cell_type": "markdown",
   "id": "e6a3ea44-5a8f-423b-babb-4b62252e29c0",
   "metadata": {},
   "source": [
    "### 8. Find the length of a string without using the `len()` function."
   ]
  },
  {
   "cell_type": "code",
   "execution_count": 75,
   "id": "4b14763f-9edc-4e0e-841d-dcb407aca4b2",
   "metadata": {},
   "outputs": [
    {
     "name": "stdin",
     "output_type": "stream",
     "text": [
      "enter the string : hi h\n"
     ]
    },
    {
     "name": "stdout",
     "output_type": "stream",
     "text": [
      "total lenght of string is : 4\n"
     ]
    }
   ],
   "source": [
    "str8 = input(\"enter the string :\")\n",
    "count = 0\n",
    "for i in str8:\n",
    "    count +=1\n",
    "print(\"total lenght of string is :\",count)"
   ]
  },
  {
   "cell_type": "code",
   "execution_count": 101,
   "id": "f0cffa6d-ec17-4b88-bffd-3b9ecfcc14d9",
   "metadata": {},
   "outputs": [
    {
     "name": "stdin",
     "output_type": "stream",
     "text": [
      "enter the string : python \n",
      "enter the specific word you want to check : python \n"
     ]
    },
    {
     "name": "stdout",
     "output_type": "stream",
     "text": [
      "found \n"
     ]
    }
   ],
   "source": [
    "# 9. Check if a string contains a specific word.\n",
    "str9 = input(\"enter the string :\").strip()\n",
    "check = input(\"enter the specific word you want to check :\").strip()\n",
    "if check in str9:\n",
    "    print(\"found \")\n",
    "else :\n",
    "    print(\"sorry not found:\")"
   ]
  },
  {
   "cell_type": "code",
   "execution_count": 87,
   "id": "aca84114-6f4b-4726-a9e5-636c95fbb895",
   "metadata": {},
   "outputs": [
    {
     "name": "stdin",
     "output_type": "stream",
     "text": [
      "enter the string : hi\n",
      "enter a word you want to replace : i\n",
      "enter the new word you want to add: o\n"
     ]
    },
    {
     "name": "stdout",
     "output_type": "stream",
     "text": [
      "new string after replacing a word are :  ho\n"
     ]
    }
   ],
   "source": [
    "# 10 Replace a word in a string with another word.\n",
    "str10 = input(\"enter the string :\")\n",
    "rep = input(\"enter a word you want to replace :\")\n",
    "new = input(\"enter the new word you want to add:\")\n",
    "newstr = str10.replace(rep,new)\n",
    "print(\"new string after replacing a word are : \",newstr)\n",
    "\n",
    "              "
   ]
  },
  {
   "cell_type": "code",
   "execution_count": 95,
   "id": "c8de492f-306a-4a18-b4d2-f19b849cc2e8",
   "metadata": {},
   "outputs": [
    {
     "name": "stdin",
     "output_type": "stream",
     "text": [
      "enter the string : this is python program , i am python dev, soon i will write code \n",
      "enter the word to count : python \n"
     ]
    },
    {
     "name": "stdout",
     "output_type": "stream",
     "text": [
      "total occurence of the word in the string is : 2\n"
     ]
    }
   ],
   "source": [
    "#11. Count the occurrences of a word in a string.\n",
    "str11 = input(\"enter the string :\")\n",
    "word = input(\"enter the word to count :\")\n",
    "oc = str11.count(word)\n",
    "print(\"total occurence of the word in the string is :\",oc)"
   ]
  },
  {
   "cell_type": "code",
   "execution_count": 105,
   "id": "98a51a9d-1819-42d6-8810-06350420b46f",
   "metadata": {},
   "outputs": [
    {
     "name": "stdin",
     "output_type": "stream",
     "text": [
      "enter the string : hi this is python \n",
      "enter the word to find the first occurence : is \n"
     ]
    },
    {
     "name": "stdout",
     "output_type": "stream",
     "text": [
      "the first occurence of the program occur on  5\n"
     ]
    }
   ],
   "source": [
    "#12. Find the first occurrence of a word in a string.\n",
    "str12 = input(\"enter the string :\").strip()\n",
    "w = input(\"enter the word to find the first occurence :\").strip()\n",
    "print(\"the first occurence of the program occur on \",str12.find(w))"
   ]
  },
  {
   "cell_type": "code",
   "execution_count": 107,
   "id": "fd6166ae-86f4-4f66-8aab-dc5886d6579e",
   "metadata": {},
   "outputs": [
    {
     "name": "stdin",
     "output_type": "stream",
     "text": [
      "enter the string : hi this is pyhon \n",
      "enter the word you want to find : is\n"
     ]
    },
    {
     "name": "stdout",
     "output_type": "stream",
     "text": [
      "last occurence of the word will be : 8\n"
     ]
    }
   ],
   "source": [
    "#13. Find the last occurrence of a word in a string.\n",
    "str13 = input(\"enter the string :\")\n",
    "w = input(\"enter the word you want to find :\")\n",
    "# we will use .rfind()\n",
    "print(\"last occurence of the word will be :\",str13.rfind(w))"
   ]
  },
  {
   "cell_type": "code",
   "execution_count": 111,
   "id": "e6927704-9417-46cd-b852-9365942e8f4e",
   "metadata": {},
   "outputs": [
    {
     "name": "stdin",
     "output_type": "stream",
     "text": [
      "enter the string to split in list of words : hi this    is python\n"
     ]
    },
    {
     "name": "stdout",
     "output_type": "stream",
     "text": [
      "['hi', 'this', 'is', 'python']\n"
     ]
    }
   ],
   "source": [
    "#14. Split a string into a list of words.\n",
    "str14 = input(\"enter the string to split in list of words :\")\n",
    "l = str14.split()\n",
    "print(l)"
   ]
  },
  {
   "cell_type": "code",
   "execution_count": 113,
   "id": "7c68e58f-9717-430a-ae45-2f131bc0b6ff",
   "metadata": {},
   "outputs": [
    {
     "name": "stdout",
     "output_type": "stream",
     "text": [
      "joined list is : hi this is python \n"
     ]
    }
   ],
   "source": [
    "# 15 Join a list of words into a string.\n",
    "l = ['hi', 'this', 'is', 'python']\n",
    "temp = \"\"\n",
    "for i in l:\n",
    "    temp = temp+i+\" \"\n",
    "\n",
    "print(\"joined list is :\",temp)\n",
    "    \n"
   ]
  },
  {
   "cell_type": "code",
   "execution_count": 124,
   "id": "466aeda0-ae44-4c59-a3d6-3e782ab09303",
   "metadata": {},
   "outputs": [
    {
     "name": "stdin",
     "output_type": "stream",
     "text": [
      "enter the string : hi this is hacker\n"
     ]
    },
    {
     "name": "stdout",
     "output_type": "stream",
     "text": [
      "new string is :  hi_this_is_hacker\n"
     ]
    }
   ],
   "source": [
    "#16. Convert a string where words are separated by spaces to one where words are sepereated by underscores\n",
    "# usign replace function \n",
    "str16 = input(\"enter the string :\").strip()\n",
    "new = str16.replace(\" \",\"_\")\n",
    "print(\"new string is : \",new)\n"
   ]
  },
  {
   "cell_type": "code",
   "execution_count": 8,
   "id": "f62b8633-c79c-463c-98d0-e14b5d121c5c",
   "metadata": {},
   "outputs": [
    {
     "name": "stdin",
     "output_type": "stream",
     "text": [
      "enter the string : i am hacker\n",
      "enter the string to check wether it starts with this word or not : am\n"
     ]
    },
    {
     "name": "stdout",
     "output_type": "stream",
     "text": [
      "no\n"
     ]
    }
   ],
   "source": [
    "# 17. Check if a string starts with a specific word or phrase.\n",
    "str17 = input(\"enter the string :\")\n",
    "start = input(\"enter the string to check wether it starts with this word or not :\")\n",
    "if str17.startswith(start):\n",
    "    print(\"yes it starts with this word \")\n",
    "\n",
    "else :\n",
    "    print(\"no\")\n",
    "    "
   ]
  },
  {
   "cell_type": "code",
   "execution_count": 14,
   "id": "07acf2bd-4037-41f2-8811-886eb8e8944e",
   "metadata": {},
   "outputs": [
    {
     "name": "stdin",
     "output_type": "stream",
     "text": [
      "enter the string hi this is me\n",
      "enter the string me\n"
     ]
    },
    {
     "name": "stdout",
     "output_type": "stream",
     "text": [
      "yes it ends with the word that you provide \n"
     ]
    }
   ],
   "source": [
    "#18. Check if a string ends with a specific word or phrase.\n",
    "str18 = input(\"enter the string\")\n",
    "ends = input(\"enter the string\")\n",
    "if str18.endswith(ends):\n",
    "    print(\"yes it ends with the word that you provide \")\n",
    "\n",
    "else:\n",
    "    print(\"no\")\n",
    "\n"
   ]
  },
  {
   "cell_type": "code",
   "execution_count": 16,
   "id": "06ff715f-0de3-4bd0-aa9a-e326ffc6d142",
   "metadata": {},
   "outputs": [
    {
     "name": "stdin",
     "output_type": "stream",
     "text": [
      "enter the string : hi this is me \n"
     ]
    },
    {
     "name": "stdout",
     "output_type": "stream",
     "text": [
      "Hi This Is Me \n"
     ]
    }
   ],
   "source": [
    "#19. Convert a string to title case (e.g., \"hello world\" to \"Hello World\").\n",
    "str19 = input(\"enter the string :\")\n",
    "new = str19.title()\n",
    "print(new)"
   ]
  },
  {
   "cell_type": "markdown",
   "id": "ddd72ef9-8f7b-40a9-b670-c193a23f2328",
   "metadata": {},
   "source": [
    "### ```20. Find the longest word in a string.```"
   ]
  },
  {
   "cell_type": "code",
   "execution_count": 43,
   "id": "68116c54-8eb6-4415-9222-8d26afece8cb",
   "metadata": {},
   "outputs": [
    {
     "name": "stdin",
     "output_type": "stream",
     "text": [
      "enter the string : cyber hacker\n"
     ]
    },
    {
     "data": {
      "text/plain": [
       "{'hacker': 6}"
      ]
     },
     "execution_count": 43,
     "metadata": {},
     "output_type": "execute_result"
    }
   ],
   "source": [
    "# method 1 using dictionary \n",
    "str20 = input(\"enter the string :\")\n",
    "words = str20.split() # this will create a list of words \n",
    "d = {} # this will hold the key  value pair of words and its length\n",
    "for word in words:\n",
    "    d[word] = len(word)\n",
    "long  = {} # this is the dictionary to hold the longest words\n",
    "m = max(d.values())\n",
    "for (k,v) in d.items():\n",
    "    if v == m:\n",
    "        long[k] = v\n",
    "\n",
    "long"
   ]
  },
  {
   "cell_type": "code",
   "execution_count": 25,
   "id": "91e311e7-31cb-4e41-b15b-e90495dc80a8",
   "metadata": {},
   "outputs": [
    {
     "name": "stdin",
     "output_type": "stream",
     "text": [
      "enter the string : this is pythonprogram\n"
     ]
    },
    {
     "name": "stdout",
     "output_type": "stream",
     "text": [
      "longst word is : pythonprogram\n"
     ]
    }
   ],
   "source": [
    "# method 2 \n",
    "str20 = input(\"enter the string :\")\n",
    "words = str20.split()\n",
    "long_word  = \"\"\n",
    "for word in words:\n",
    "    if len(word)>len(long_word):\n",
    "        long_word = word\n",
    "\n",
    "print(\"longst word is :\",long_word)\n",
    "    "
   ]
  },
  {
   "cell_type": "markdown",
   "id": "ae52140e-fd95-47f0-9234-0739181317c3",
   "metadata": {},
   "source": [
    "### ```21. Find the shortest word in a string.```"
   ]
  },
  {
   "cell_type": "code",
   "execution_count": 20,
   "id": "2260afc8-d924-4f15-b297-72e32f5b0138",
   "metadata": {},
   "outputs": [
    {
     "name": "stdin",
     "output_type": "stream",
     "text": [
      "enter the string : python language cyberhacker\n"
     ]
    },
    {
     "name": "stdout",
     "output_type": "stream",
     "text": [
      "the shortest word in then string is : {'python': 6}\n"
     ]
    }
   ],
   "source": [
    "# using each word as key and its lenth as value in the dicttinary \n",
    "\n",
    "str21 = input(\"enter the string :\")\n",
    "words = str21.split()\n",
    "c = {}\n",
    "mindict = {}\n",
    "for word in words:\n",
    "    c[word] = len(word)\n",
    "\n",
    "minc = min(c.values())\n",
    "for (key,values) in c.items():\n",
    "    if values == minc:\n",
    "        mindict[key] = values\n",
    "\n",
    "print(\"the shortest word in then string is :\",mindict)\n",
    "        \n",
    "\n"
   ]
  },
  {
   "cell_type": "markdown",
   "id": "4c3030f1-42e9-4940-9c99-1118975931dc",
   "metadata": {},
   "source": [
    "### ``` 22. Reverse the order of words in a string.```"
   ]
  },
  {
   "cell_type": "code",
   "execution_count": 58,
   "id": "8e4f913f-76a1-455b-b82c-cfd74d0d333e",
   "metadata": {},
   "outputs": [
    {
     "name": "stdin",
     "output_type": "stream",
     "text": [
      "enter the string : this is test string \n"
     ]
    },
    {
     "name": "stdout",
     "output_type": "stream",
     "text": [
      "['string', 'test', 'is', 'this']\n",
      "string test is this \n"
     ]
    }
   ],
   "source": [
    "str22 = input(\"enter the string :\")\n",
    "revl = str22.split()[::-1]\n",
    "print(revl)\n",
    "temp = \"\"\n",
    "for i in revl:\n",
    "    temp += i+\" \"\n",
    "\n",
    "print(temp)"
   ]
  },
  {
   "cell_type": "markdown",
   "id": "092f0d80-3583-40d4-9b2a-6ae180b0c41a",
   "metadata": {},
   "source": [
    "### ```23. Check if a string is alphanumeric.```"
   ]
  },
  {
   "cell_type": "code",
   "execution_count": 70,
   "id": "7fa55c2a-5c93-4ebf-b078-caf054b02de4",
   "metadata": {},
   "outputs": [
    {
     "name": "stdin",
     "output_type": "stream",
     "text": [
      "enter the string : hi \n"
     ]
    },
    {
     "name": "stdout",
     "output_type": "stream",
     "text": [
      "yes\n"
     ]
    }
   ],
   "source": [
    "#23. Check if a string is alphanumeric.\n",
    "str23 = input(\"enter the string :\").strip()\n",
    "if str23.isalnum():\n",
    "    print(\"yes\")\n",
    "\n",
    "else :\n",
    "    print(\"no \")"
   ]
  },
  {
   "cell_type": "code",
   "execution_count": 75,
   "id": "886094f3-09d7-4a44-a4b8-3b5ea6331f5e",
   "metadata": {},
   "outputs": [
    {
     "name": "stdin",
     "output_type": "stream",
     "text": [
      "enter the string : 897987\n"
     ]
    },
    {
     "name": "stdout",
     "output_type": "stream",
     "text": [
      "Extracted digits are :\n",
      "8\n",
      "9\n",
      "7\n",
      "9\n",
      "8\n",
      "7\n"
     ]
    }
   ],
   "source": [
    "#24. Extract all digits from a string.\n",
    "str24 = input(\"enter the string :\")\n",
    "print(\"Extracted digits are :\")\n",
    "for i in str24:\n",
    "    if i.isdigit():\n",
    "        print(i)"
   ]
  },
  {
   "cell_type": "code",
   "execution_count": 81,
   "id": "6f616fe1-7a68-4a59-9a22-1a496190adc0",
   "metadata": {},
   "outputs": [
    {
     "name": "stdin",
     "output_type": "stream",
     "text": [
      "enter the string : hi34 this is ali9\n"
     ]
    },
    {
     "name": "stdout",
     "output_type": "stream",
     "text": [
      "hi this is ali\n"
     ]
    }
   ],
   "source": [
    "# 25. Extract all alphabets from a string.\n",
    "str25 = input(\"enter the string :\")\n",
    "new = \"\"\n",
    "for i in str25:\n",
    "    if i.isdigit():\n",
    "        pass\n",
    "    else:\n",
    "        new = new+i\n",
    "\n",
    "print(new)"
   ]
  },
  {
   "cell_type": "code",
   "execution_count": 87,
   "id": "01119af0-bae5-47eb-9c76-807fca37e4fe",
   "metadata": {},
   "outputs": [
    {
     "name": "stdin",
     "output_type": "stream",
     "text": [
      "enter the string : hI\n"
     ]
    },
    {
     "name": "stdout",
     "output_type": "stream",
     "text": [
      "total uppercase are : 1\n"
     ]
    }
   ],
   "source": [
    "# 26. Count the number of uppercase letters in a string.\n",
    "str26 = input(\"enter the string :\")\n",
    "count = 0\n",
    "for i in str26:\n",
    "    if i.isupper():\n",
    "        count = count+1\n",
    "\n",
    "print(\"total uppercase are :\",count)"
   ]
  },
  {
   "cell_type": "code",
   "execution_count": 91,
   "id": "a7fda6a4-9785-49a9-a893-30e128c500b1",
   "metadata": {},
   "outputs": [
    {
     "name": "stdin",
     "output_type": "stream",
     "text": [
      "enter the string : hI this\n"
     ]
    },
    {
     "name": "stdout",
     "output_type": "stream",
     "text": [
      "total lowercase are : 5\n"
     ]
    }
   ],
   "source": [
    "#27. Count the number of lowercase letters in a string.\n",
    "str27 = input(\"enter the string :\")\n",
    "count = 0 \n",
    "for i in str27:\n",
    "    if i.islower():\n",
    "        count = count+1\n",
    "\n",
    "print(\"total lowercase are :\",count)"
   ]
  },
  {
   "cell_type": "markdown",
   "id": "f217f484-e195-4213-863b-d9cd56908bce",
   "metadata": {},
   "source": [
    "### ``` 28. Swap the case of each character in a string.```"
   ]
  },
  {
   "cell_type": "code",
   "execution_count": 98,
   "id": "e92f745e-5aec-48fb-91e5-fb249c64497c",
   "metadata": {},
   "outputs": [
    {
     "name": "stdin",
     "output_type": "stream",
     "text": [
      "enter the string : cyber AttAck\n"
     ]
    },
    {
     "name": "stdout",
     "output_type": "stream",
     "text": [
      "CYBER aTTaCK\n"
     ]
    }
   ],
   "source": [
    "str28 = input(\"enter the string :\")\n",
    "print(str28.swapcase())"
   ]
  },
  {
   "cell_type": "code",
   "execution_count": 112,
   "id": "72b6bc9d-2850-4568-8529-186e90623d3d",
   "metadata": {},
   "outputs": [
    {
     "name": "stdin",
     "output_type": "stream",
     "text": [
      "enter the string : hi i wrote a python\n",
      "enetr the word to delete: a\n"
     ]
    },
    {
     "name": "stdout",
     "output_type": "stream",
     "text": [
      "hi i wrote python\n"
     ]
    }
   ],
   "source": [
    "# 29. Remove a specific word from a string.\n",
    "str29 = input(\"enter the string :\")\n",
    "word  = input(\"enetr the word to delete:\")+\" \"\n",
    "\n",
    "print(str29.replace(word,\"\").strip())"
   ]
  },
  {
   "cell_type": "markdown",
   "id": "9ff7dfdb-835a-4c59-a40b-b43e44fae796",
   "metadata": {},
   "source": [
    "### ``` 30. Check if a string is a valid email address.```"
   ]
  },
  {
   "cell_type": "code",
   "execution_count": 114,
   "id": "14b8b3ff-c8bf-4dfe-b247-ebf5bb374660",
   "metadata": {},
   "outputs": [
    {
     "name": "stdin",
     "output_type": "stream",
     "text": [
      "enter the string : str\n"
     ]
    },
    {
     "data": {
      "text/plain": [
       "'str'"
      ]
     },
     "execution_count": 114,
     "metadata": {},
     "output_type": "execute_result"
    }
   ],
   "source": [
    "str30 = input(\"enter the string :\")\n",
    "str30 "
   ]
  },
  {
   "cell_type": "code",
   "execution_count": 121,
   "id": "8f29f9af-62b6-497b-a979-b5aa55a12799",
   "metadata": {},
   "outputs": [
    {
     "name": "stdin",
     "output_type": "stream",
     "text": [
      "enter the string : hackerrank@gmail.com\n"
     ]
    },
    {
     "name": "stdout",
     "output_type": "stream",
     "text": [
      "username : hackerrank\n"
     ]
    }
   ],
   "source": [
    "# 31. Extract the username from an email address string.\n",
    "str31 = input(\"enter the email :\")\n",
    "symbol = str31.find(\"@\")\n",
    "username = str31[0:symbol]\n",
    "print(\"username :\",username)"
   ]
  },
  {
   "cell_type": "code",
   "execution_count": 123,
   "id": "dd99a499-4a32-43bb-b0a5-bb8fb2f4c110",
   "metadata": {},
   "outputs": [
    {
     "name": "stdin",
     "output_type": "stream",
     "text": [
      "enter the email : hackerrank@dbyte.com\n"
     ]
    },
    {
     "name": "stdout",
     "output_type": "stream",
     "text": [
      "domain name : dbyte.com\n"
     ]
    }
   ],
   "source": [
    "# 32. Extract the domain name from an email address string.\n",
    "str32 = input(\"enter the email :\")\n",
    "symbol = str32.find(\"@\")\n",
    "domain_web = str32[symbol+1::]\n",
    "print(\"domain name :\",domain_web)"
   ]
  },
  {
   "cell_type": "markdown",
   "id": "75f4d9a5-8c03-4d05-9cc5-2c8823da0c45",
   "metadata": {},
   "source": [
    "### ``` 33. Replace multiple spaces in a string with a single space.```"
   ]
  },
  {
   "cell_type": "code",
   "execution_count": 128,
   "id": "984e0888-535d-476b-b78b-a2761ad338fc",
   "metadata": {},
   "outputs": [
    {
     "name": "stdin",
     "output_type": "stream",
     "text": [
      "enter the string : hi             this is python \n"
     ]
    },
    {
     "name": "stdout",
     "output_type": "stream",
     "text": [
      "new string is : hi this is python\n"
     ]
    }
   ],
   "source": [
    "# note split fucntion break the string into words and make the list but it will not include the space in the list \n",
    "str33 = input(\"enter the string :\")\n",
    "new = \" \".join(str33.split())\n",
    "print(\"new string is :\",new)"
   ]
  },
  {
   "cell_type": "markdown",
   "id": "3718d375-a6c2-4df3-b85d-4e14e02ebbbb",
   "metadata": {},
   "source": [
    "### ``` 34. Check if a string is a valid URL.```"
   ]
  },
  {
   "cell_type": "code",
   "execution_count": 63,
   "id": "b7f1c63f-e534-4343-a589-467e8afe786f",
   "metadata": {},
   "outputs": [
    {
     "name": "stdin",
     "output_type": "stream",
     "text": [
      "enter the url you want to check : https:google\n"
     ]
    },
    {
     "name": "stdout",
     "output_type": "stream",
     "text": [
      "not a valid url\n"
     ]
    }
   ],
   "source": [
    "# mtehod 1 using validator \n",
    "import validators\n",
    "str34 = input(\"enter the url you want to check :\")\n",
    "verifying = validators.url(str34)\n",
    "if verifying:\n",
    "    print(\"yes its a valid url \")\n",
    "\n",
    "else :\n",
    "    print(\"not a valid url\")"
   ]
  },
  {
   "cell_type": "code",
   "execution_count": 15,
   "id": "ab6d5bb7-5379-4d5f-b1c0-7ca32b2e2121",
   "metadata": {},
   "outputs": [
    {
     "name": "stdout",
     "output_type": "stream",
     "text": [
      "True\n",
      "False\n"
     ]
    }
   ],
   "source": [
    "# method 2 \n",
    "from urllib.parse import urlparse\n",
    "\n",
    "# Example URLs\n",
    "url1 = \"https://www.example.com\"\n",
    "url2 = \"invalid-url\"\n",
    "\n",
    "try:\n",
    "    result1 = urlparse(url1)\n",
    "    valid1 = all([result1.scheme, result1.netloc])\n",
    "\n",
    "    result2 = urlparse(url2)\n",
    "    valid2 = all([result2.scheme, result2.netloc])\n",
    "\n",
    "    print(valid1)  # Should print True\n",
    "    print(valid2)  # Should print False\n",
    "except ValueError:\n",
    "    print(\"Invalid URL format\")\n"
   ]
  },
  {
   "cell_type": "code",
   "execution_count": 17,
   "id": "25ff14d9-6636-45e5-8e07-d1d1930d2f9e",
   "metadata": {},
   "outputs": [
    {
     "name": "stdout",
     "output_type": "stream",
     "text": [
      "Valid URL\n"
     ]
    }
   ],
   "source": [
    "# method 3\n",
    "import urllib.parse\n",
    "\n",
    "def is_valid_url(url):\n",
    "    parsed_url = urllib.parse.urlparse(url)\n",
    "    return all([parsed_url.scheme, parsed_url.netloc])\n",
    "\n",
    "# Example:\n",
    "url = \"https://www.example.com\"\n",
    "if is_valid_url(url):\n",
    "    print(\"Valid URL\")\n",
    "else:\n",
    "    print(\"Invalid URL\")\n"
   ]
  },
  {
   "cell_type": "markdown",
   "id": "4ef2a6b7-9219-4af2-952a-903b4fe1d968",
   "metadata": {},
   "source": [
    "### ``` # 35. Extract the protocol (http or https) from a URL string.```"
   ]
  },
  {
   "cell_type": "code",
   "execution_count": 28,
   "id": "68d2b200-3aa9-458d-9892-587d912bb760",
   "metadata": {},
   "outputs": [
    {
     "name": "stdin",
     "output_type": "stream",
     "text": [
      "enter the url : https:\n"
     ]
    },
    {
     "name": "stdout",
     "output_type": "stream",
     "text": [
      "not a valid protocol\n"
     ]
    }
   ],
   "source": [
    "\n",
    "str35 = input(\"enter the url :\")\n",
    "ind = str35.find(\"://\") # https://google.com\n",
    "if ind !=-1:\n",
    "    print(\"protocol is :\",str35[:ind:])\n",
    "else:\n",
    "    print(\"not a valid protocol\")"
   ]
  },
  {
   "cell_type": "markdown",
   "id": "b2f2db39-437c-4533-a839-74835ed0a91c",
   "metadata": {},
   "source": [
    "### ``` 36. Find the frequency of each character in a string.```"
   ]
  },
  {
   "cell_type": "code",
   "execution_count": 16,
   "id": "c44de8c0-db3a-4075-98f2-65c0e1e65fbc",
   "metadata": {},
   "outputs": [
    {
     "name": "stdin",
     "output_type": "stream",
     "text": [
      "enter the string : cyber hack\n"
     ]
    },
    {
     "name": "stdout",
     "output_type": "stream",
     "text": [
      "{'c': 2, 'y': 1, 'b': 1, 'e': 1, 'r': 1, ' ': 1, 'h': 1, 'a': 1, 'k': 1}\n",
      "character c : frequency :2\n",
      "character y : frequency :1\n",
      "character b : frequency :1\n",
      "character e : frequency :1\n",
      "character r : frequency :1\n",
      "character   : frequency :1\n",
      "character h : frequency :1\n",
      "character a : frequency :1\n",
      "character k : frequency :1\n"
     ]
    }
   ],
   "source": [
    "str36 = input(\"enter the string :\")\n",
    "empdict = {} \n",
    "for char in str36:\n",
    "    if char in empdict:\n",
    "        empdict[char] =  empdict[char]+1 # it will add the 1 to the key value of a character \n",
    "    else :\n",
    "        empdict[char] = 1 # if character is not in dictionary it will add the char as a key and gives the value 1 \n",
    "print(empdict)\n",
    "for char,freq in empdict.items():\n",
    "    print(f\"character {char} : frequency :{freq}\")"
   ]
  },
  {
   "cell_type": "markdown",
   "id": "69c37163-964a-47d0-98eb-483967cc5fb3",
   "metadata": {},
   "source": [
    "### ``` 37. Remove all punctuation from a string.```"
   ]
  },
  {
   "cell_type": "code",
   "execution_count": 19,
   "id": "624520b4-81ea-42ed-9088-2c0493616d86",
   "metadata": {},
   "outputs": [
    {
     "name": "stdin",
     "output_type": "stream",
     "text": [
      "enter the sting : hi! this, is python \n"
     ]
    },
    {
     "name": "stdout",
     "output_type": "stream",
     "text": [
      "New string without punctuation marks is : hi this is python \n"
     ]
    }
   ],
   "source": [
    "# method 1 \n",
    "str37 = input(\"enter the sting :\")\n",
    "clnstr = \"\"\n",
    "for char in str37:\n",
    "    if char.isalnum() or char.isspace():\n",
    "        clnstr += char\n",
    "\n",
    "print(\"New string without punctuation marks is :\",clnstr)\n",
    "    "
   ]
  },
  {
   "cell_type": "code",
   "execution_count": 51,
   "id": "655ff648-7624-44a4-9ce9-bfca0c72de84",
   "metadata": {},
   "outputs": [
    {
     "name": "stdin",
     "output_type": "stream",
     "text": [
      "enter the string : hi !          \n"
     ]
    },
    {
     "data": {
      "text/plain": [
       "'hi '"
      ]
     },
     "execution_count": 51,
     "metadata": {},
     "output_type": "execute_result"
    }
   ],
   "source": [
    "# method2 \n",
    "import string \n",
    "str37 = input(\"enter the string :\").strip()\n",
    "table = str.maketrans(\"\",\"\",string.punctuation)\n",
    "clnstr = str37.translate(table)\n",
    "clnstr"
   ]
  },
  {
   "cell_type": "code",
   "execution_count": 55,
   "id": "e4f69317-cdfd-4441-a78e-f77f95bfa4b1",
   "metadata": {},
   "outputs": [
    {
     "name": "stdin",
     "output_type": "stream",
     "text": [
      "enter the string : @@\n"
     ]
    },
    {
     "name": "stdout",
     "output_type": "stream",
     "text": [
      "no\n"
     ]
    }
   ],
   "source": [
    "# 38. Check if a string contains only digits.\n",
    "str38 = input(\"enter the string :\")\n",
    "flag = False\n",
    "if str38.isdigit():\n",
    "    flag = True\n",
    "\n",
    "if flag :\n",
    "    print(\"yes\")\n",
    "\n",
    "else :\n",
    "    print(\"no\")"
   ]
  },
  {
   "cell_type": "code",
   "execution_count": 67,
   "id": "5c1d1b03-7981-445f-b6b2-f7bb483351e9",
   "metadata": {},
   "outputs": [
    {
     "name": "stdin",
     "output_type": "stream",
     "text": [
      "enter the string : @\n"
     ]
    },
    {
     "name": "stdout",
     "output_type": "stream",
     "text": [
      "no\n"
     ]
    }
   ],
   "source": [
    "#39. Check if a string contains only alphabets.\n",
    "str39 = input(\"enter the string :\")\n",
    "flag = False \n",
    "if str39.isalpha():\n",
    "    flag = True\n",
    "\n",
    "if flag:\n",
    "    print(\"Yes\")\n",
    "\n",
    "else:\n",
    "    print(\"no\")\n",
    "    "
   ]
  },
  {
   "cell_type": "markdown",
   "id": "df1bfaba-2851-4e14-8fd4-5dc6dd2083c4",
   "metadata": {},
   "source": [
    "### ``` 40. Convert a string to a list of characters.```"
   ]
  },
  {
   "cell_type": "code",
   "execution_count": 74,
   "id": "bf5b8d53-a021-414f-965f-7ec7720749f7",
   "metadata": {},
   "outputs": [
    {
     "name": "stdin",
     "output_type": "stream",
     "text": [
      "enter the string : cyber \n"
     ]
    },
    {
     "name": "stdout",
     "output_type": "stream",
     "text": [
      "['c', 'y', 'b', 'e', 'r', ' ']\n"
     ]
    }
   ],
   "source": [
    "# method 1 using split fucntion \n",
    "str40 = input(\"enter the string :\")\n",
    "l = list(str40)\n",
    "print(l)"
   ]
  },
  {
   "cell_type": "markdown",
   "id": "942d576e-819b-449a-9cfe-5459b0040f49",
   "metadata": {},
   "source": [
    "### ```41. Check if two strings are anagrams.```"
   ]
  },
  {
   "cell_type": "code",
   "execution_count": 41,
   "id": "872f754c-afb3-4e75-b2e3-651da8f444ff",
   "metadata": {},
   "outputs": [
    {
     "name": "stdin",
     "output_type": "stream",
     "text": [
      "enter the first string : 02212\n",
      "enter the second string : 02221\n"
     ]
    },
    {
     "name": "stdout",
     "output_type": "stream",
     "text": [
      "its anagram\n"
     ]
    }
   ],
   "source": [
    "# method 1 using dictionary \n",
    "str41_1 = input(\"enter the first string :\").strip() #act\n",
    "str41_2 = input(\"enter the second string :\").strip() #tac\n",
    "if len(str41_1) == len(str41_2):\n",
    "    dict1 = {}\n",
    "    dict2 = {}\n",
    "    for char in str41_1:\n",
    "        if char in dict1:\n",
    "            dict1[char] +=1\n",
    "        else:\n",
    "            dict1[char] = 1\n",
    "    for char1 in str41_2:\n",
    "        if char1 in dict2:\n",
    "            dict2[char1]+=1\n",
    "        else:\n",
    "            dict2[char1]=1\n",
    "    if dict1 == dict2 :\n",
    "        print(\"its anagram\")\n",
    "    else:\n",
    "        print(\"No its not Anagram\")\n",
    "else :\n",
    "    print(\"Not an anagrams:\")\n",
    "    "
   ]
  },
  {
   "cell_type": "code",
   "execution_count": 116,
   "id": "30a865c5-c24d-49c9-86b6-948bce9a17a0",
   "metadata": {},
   "outputs": [
    {
     "name": "stdin",
     "output_type": "stream",
     "text": [
      "enter the first string : tac\n",
      "enter the second string : hack\n"
     ]
    },
    {
     "name": "stdout",
     "output_type": "stream",
     "text": [
      "Its not Anagram\n"
     ]
    }
   ],
   "source": [
    "# method 2 using sort \n",
    "str41_1 = input(\"enter the first string :\").strip() #act\n",
    "str41_2 = input(\"enter the second string :\").strip() #tac\n",
    "s1 = sorted(str41_1)\n",
    "s2 = sorted(str41_2)\n",
    "if s1 == s2:\n",
    "    print(\"Its Anagram\")\n",
    "\n",
    "else:\n",
    "    print(\"Its not Anagram\")\n"
   ]
  },
  {
   "cell_type": "markdown",
   "id": "774d1915-3e57-4887-a93c-0c4a9073116a",
   "metadata": {},
   "source": [
    "### ```42 Encode a string using a Caesar cipher.```"
   ]
  },
  {
   "cell_type": "code",
   "execution_count": 6,
   "id": "a12737be-6676-4835-88ad-a0f0ff12fa72",
   "metadata": {},
   "outputs": [
    {
     "name": "stdout",
     "output_type": "stream",
     "text": [
      "Encrypted message: KHOOR\n"
     ]
    }
   ],
   "source": [
    "# Example plaintext message\n",
    "plaintext = \"HELLO\"\n",
    "shift = 3  # Assuming the shift value is 3\n",
    "\n",
    "# Initialize an empty string for the encrypted message\n",
    "encrypted_text = \"\"\n",
    "\n",
    "# Iterate through each character in the plaintext\n",
    "for char in plaintext:\n",
    "    if char.isalpha():\n",
    "        base = ord('A') if char.isupper() else ord('a')\n",
    "        shifted_char = chr((ord(char) - base + shift) % 26 + base)\n",
    "        encrypted_text += shifted_char\n",
    "    else:\n",
    "        encrypted_text += char\n",
    "\n",
    "print(f\"Encrypted message: {encrypted_text}\")\n"
   ]
  },
  {
   "cell_type": "markdown",
   "id": "179d1d69-492a-4bf0-9d23-ff2e87475842",
   "metadata": {},
   "source": [
    "### ``` 43. Decode a Caesar cipher encoded string.```"
   ]
  },
  {
   "cell_type": "code",
   "execution_count": 4,
   "id": "58eb1f39-1a4a-4fcd-a9b2-b3c5024f8981",
   "metadata": {},
   "outputs": [
    {
     "name": "stdout",
     "output_type": "stream",
     "text": [
      "Encrypted message: KHOOR\n",
      "Decrypted message: HELLO\n"
     ]
    }
   ],
   "source": [
    "text = \"HELLO\"\n",
    "shift = 3\n",
    "encrypted_text = \"\"\n",
    "\n",
    "for char in text:\n",
    "    if char.isalpha():\n",
    "        base = ord('A') if char.isupper() else ord('a')\n",
    "        shifted_char = chr((ord(char) - base + shift) % 26 + base)\n",
    "        encrypted_text += shifted_char\n",
    "    else:\n",
    "        encrypted_text += char\n",
    "\n",
    "print(f\"Encrypted message: {encrypted_text}\")\n",
    "\n",
    "# Decryption (reverse the process)\n",
    "decrypted_text = \"\"\n",
    "for char in encrypted_text:\n",
    "    if char.isalpha():\n",
    "        base = ord('A') if char.isupper() else ord('a')\n",
    "        shifted_char = chr((ord(char) - base - shift) % 26 + base)\n",
    "        decrypted_text += shifted_char\n",
    "    else:\n",
    "        decrypted_text += char\n",
    "\n",
    "print(f\"Decrypted message: {decrypted_text}\")"
   ]
  },
  {
   "cell_type": "markdown",
   "id": "a4fb9b3d-68f6-4f86-8fed-b1a9201b5c27",
   "metadata": {},
   "source": [
    "### ``` 44. Find the most frequent word in a string.```"
   ]
  },
  {
   "cell_type": "code",
   "execution_count": 16,
   "id": "b54d96c8-7206-4ddf-99cc-d919a34a8cad",
   "metadata": {},
   "outputs": [
    {
     "name": "stdin",
     "output_type": "stream",
     "text": [
      "Enter the string : hit this \n"
     ]
    },
    {
     "name": "stdout",
     "output_type": "stream",
     "text": [
      "The most frequent words in a string is : {'hit': 1, 'this': 1}\n"
     ]
    }
   ],
   "source": [
    "str44 = input(\"Enter the string :\")\n",
    "l = str44.split() # it stores all the words in the list \n",
    "emp = {} # empty dictionary we will add all the words here as key and its value will be the number of times the word occur in the string \n",
    "max_word = {} # to store the keys which occurs most frequently and its value\n",
    "for word in l:\n",
    "    if word in emp:\n",
    "        emp[word] +=1\n",
    "    else:\n",
    "        emp[word] = 1\n",
    "max_val = max(emp.values())\n",
    "for keys,values in emp.items():\n",
    "    if values == max_val:\n",
    "        max_word[keys] = values\n",
    "\n",
    "print(\"The most frequent words in a string is :\",max_word )    "
   ]
  },
  {
   "cell_type": "markdown",
   "id": "4ccf3c40-bbf2-46c3-aa25-211f47633d0c",
   "metadata": {},
   "source": [
    "### ``` 45. Find all unique words in a string.```"
   ]
  },
  {
   "cell_type": "code",
   "execution_count": 166,
   "id": "06fa76b9-06b4-40f0-b617-431b302049fc",
   "metadata": {},
   "outputs": [
    {
     "name": "stdin",
     "output_type": "stream",
     "text": [
      "enter the string : hi this is python hi\n"
     ]
    },
    {
     "name": "stdout",
     "output_type": "stream",
     "text": [
      "unique words in the string are : {'this', 'hi', 'is', 'python'}\n"
     ]
    }
   ],
   "source": [
    "# method 1 \n",
    "str45 = input(\"enter the string :\")\n",
    "l = str45.split() # list of words \n",
    "emp_set = set()\n",
    "for i in l: # iterating over a set \n",
    "    if i.isalpha():\n",
    "        emp_set.add(i)\n",
    "print(\"unique words in the string are :\",emp_set)\n",
    "        \n",
    "    "
   ]
  },
  {
   "cell_type": "code",
   "execution_count": 176,
   "id": "f84aa6f3-d737-42e5-95a2-0f69da447b33",
   "metadata": {},
   "outputs": [
    {
     "name": "stdin",
     "output_type": "stream",
     "text": [
      "enter the string : hi this is python hi\n"
     ]
    },
    {
     "name": "stdout",
     "output_type": "stream",
     "text": [
      "unique words in the string are : ['hi', 'this', 'is', 'python']\n"
     ]
    }
   ],
   "source": [
    "# method 2  , since the set method gives result in unordered way so we will use list to get the result in ordered way\n",
    "str45_1 = input(\"enter the string :\")\n",
    "l1 = str45_1.split()\n",
    "emp_list = []\n",
    "for i in l1:\n",
    "    if i in emp_list:\n",
    "        pass\n",
    "    else:\n",
    "        emp_list.append(i)  # dont assign this value in the variable because it return none so variable will store the none if you assight it to a variable so remember that \n",
    "print(\"unique words in the string are :\",emp_list)\n",
    "    "
   ]
  },
  {
   "cell_type": "markdown",
   "id": "ec048128-3fe8-4849-bfa6-8abef16d428c",
   "metadata": {},
   "source": [
    "### ``` 46. Count the number of syllables in a string.```"
   ]
  },
  {
   "cell_type": "code",
   "execution_count": 7,
   "id": "285b38ea-46d1-4c13-bd04-5a05a0e98dc4",
   "metadata": {},
   "outputs": [
    {
     "name": "stdin",
     "output_type": "stream",
     "text": [
      "Enter the string : cyber hack\n"
     ]
    },
    {
     "name": "stdout",
     "output_type": "stream",
     "text": [
      "String does not contain any special character\n"
     ]
    }
   ],
   "source": [
    "# 47. Check if a string contains any special characters.\n",
    "str47 = input(\"Enter the string :\")\n",
    "flag = False\n",
    "for char in str47:\n",
    "    if char.isalnum() or char.isspace():\n",
    "        pass\n",
    "    else:\n",
    "        flag = True\n",
    "\n",
    "if flag:\n",
    "    print(\"String contains the special character\")\n",
    "else:\n",
    "    print(\"String does not contain any special character\")"
   ]
  },
  {
   "cell_type": "markdown",
   "id": "e9d4620c-62c4-4224-824e-63d3f452647e",
   "metadata": {},
   "source": [
    "### ``` 48 Remove the nth word from the string```"
   ]
  },
  {
   "cell_type": "code",
   "execution_count": 29,
   "id": "69425f7d-807d-46d8-afae-939e389e54ba",
   "metadata": {},
   "outputs": [
    {
     "name": "stdin",
     "output_type": "stream",
     "text": [
      "enter the string : hi this is python\n",
      "enter the nth word you want to remove : 3\n"
     ]
    },
    {
     "name": "stdout",
     "output_type": "stream",
     "text": [
      "the new string : hi this python\n"
     ]
    }
   ],
   "source": [
    "str48 = input(\"enter the string :\")\n",
    "n = int(input(\"enter the nth word you want to remove :\")) \n",
    "l = str48.split() # we will remove the n-1 index \n",
    "l.pop(n-1)\n",
    "new = \" \".join(l)\n",
    "print(\"the new string :\",new)\n"
   ]
  },
  {
   "cell_type": "code",
   "execution_count": 24,
   "id": "034192e6-d165-4d46-84c3-dd56f32fb1f3",
   "metadata": {},
   "outputs": [
    {
     "name": "stdin",
     "output_type": "stream",
     "text": [
      "enter the string:  python command ollamna\n",
      "enter the nth word you want to remove:  3\n"
     ]
    },
    {
     "name": "stdout",
     "output_type": "stream",
     "text": [
      "the new string : python command\n"
     ]
    }
   ],
   "source": [
    "str48 = input(\"enter the string: \")\n",
    "n = int(input(\"enter the nth word you want to remove: \")) \n",
    "l = str48.split()  # Split the string into a list of words\n",
    "l.pop(n - 1)       # Remove the nth word (adjusting for 0-based indexing)\n",
    "new = \" \".join(l)\n",
    "print(\"the new string :\",new)"
   ]
  },
  {
   "cell_type": "code",
   "execution_count": 42,
   "id": "ca14edc2-c790-4861-a565-941d8889f145",
   "metadata": {},
   "outputs": [
    {
     "name": "stdin",
     "output_type": "stream",
     "text": [
      "enter the string : this is python \n",
      "enter the nth position at which you want to add the new word : 4\n",
      "enter the word you want to add : program\n"
     ]
    },
    {
     "name": "stdout",
     "output_type": "stream",
     "text": [
      "the new updated string is : this is python program\n"
     ]
    }
   ],
   "source": [
    "# 49. Insert a word at the nth position in a string.\n",
    "str49 = input(\"enter the string :\").strip() # this is python for data science \n",
    "n = int(input(\"enter the nth position at which you want to add the new word :\"))\n",
    "new = input(\"enter the word you want to add :\").strip()\n",
    "l = str49.split()\n",
    "l.insert(n - 1,new)\n",
    "nl = \" \".join(l)\n",
    "print(\"the new updated string is :\",nl)\n"
   ]
  },
  {
   "cell_type": "markdown",
   "id": "5430f04c-6d6f-428c-8e71-9510002e4450",
   "metadata": {},
   "source": [
    "### ``` 50. Convert a CSV string to a list of lists.```"
   ]
  },
  {
   "cell_type": "code",
   "execution_count": 8,
   "id": "80403ddc-e785-4c66-b915-5024d7c8afe9",
   "metadata": {},
   "outputs": [
    {
     "name": "stdout",
     "output_type": "stream",
     "text": [
      "['text', 'with', 'Polish', 'non-Latin', 'letters']\n",
      "['1', '2', '3', '4', '5', '6']\n",
      "['a', 'b', 'c', 'd', 'e', 'f']\n",
      "['gęś', 'zółty', 'wąż', 'idzie', 'wąską', 'dróżką']\n"
     ]
    }
   ],
   "source": [
    "from io import StringIO\n",
    "import csv\n",
    "\n",
    "csv_string = \"\"\"text,with,Polish,non-Latin,letters\n",
    "1,2,3,4,5,6\n",
    "a,b,c,d,e,f\n",
    "gęś,zółty,wąż,idzie,wąską,dróżką\n",
    "\"\"\"\n",
    "\n",
    "# Create a file-like object from the CSV string\n",
    "f = StringIO(csv_string)\n",
    "\n",
    "# Read the CSV data into a list of lists\n",
    "reader = csv.reader(f, delimiter=',')\n",
    "list_of_lists = [row for row in reader]\n",
    "\n",
    "# Print the result\n",
    "for row in list_of_lists:\n",
    "    print(row)\n"
   ]
  },
  {
   "cell_type": "markdown",
   "id": "83dabac3-99a7-4676-9c51-903c13dd857d",
   "metadata": {},
   "source": [
    "### ``` Lists based Practic problems```"
   ]
  },
  {
   "cell_type": "code",
   "execution_count": 66,
   "id": "944d7bde-7d34-44ae-ad2f-b427e2fa04bd",
   "metadata": {},
   "outputs": [
    {
     "name": "stdout",
     "output_type": "stream",
     "text": [
      "[1, 2, 3, 4, 5, 6, 7, 8, 9, 10]\n"
     ]
    }
   ],
   "source": [
    "# 1. Create a list with integers from 1 to 10.\n",
    "l = [] \n",
    "for i in range(1,11):\n",
    "    l.append(i)\n",
    "\n",
    "print(l)"
   ]
  },
  {
   "cell_type": "code",
   "execution_count": 70,
   "id": "d501a174-2724-49ea-8b72-ae3fea443578",
   "metadata": {},
   "outputs": [
    {
     "name": "stdout",
     "output_type": "stream",
     "text": [
      "total length of list is : 10\n"
     ]
    }
   ],
   "source": [
    "# 2. Find the length of a list without using the `len()` function.\n",
    "l = [1, 2, 3, 4, 5, 6, 7, 8, 9, 10]\n",
    "count = 0 \n",
    "for i in l:\n",
    "    count = count+1\n",
    "\n",
    "print(\"total length of list is :\",count)"
   ]
  },
  {
   "cell_type": "code",
   "execution_count": 74,
   "id": "0f82a21e-657a-4043-a394-ff091930f7e0",
   "metadata": {},
   "outputs": [
    {
     "name": "stdout",
     "output_type": "stream",
     "text": [
      "[1, 2, 3, 4, 5, 6, 7, 8, 9, 10, 11]\n"
     ]
    }
   ],
   "source": [
    "# 3. append an element to the end of the list \n",
    "l = [1, 2, 3, 4, 5, 6, 7, 8, 9, 10]\n",
    "l.append(11)\n",
    "print(l)"
   ]
  },
  {
   "cell_type": "code",
   "execution_count": 78,
   "id": "82e79407-5c2e-4cb5-a353-3dd31fcd4721",
   "metadata": {},
   "outputs": [
    {
     "name": "stdout",
     "output_type": "stream",
     "text": [
      "[1, 2, 3, 4, 5, 6, 7, 8]\n"
     ]
    }
   ],
   "source": [
    "# 4. Insert an element at a specific index in a list.\n",
    "l = [1,2,3,4,6,7,8]\n",
    "l.insert(4,5)\n",
    "print(l)"
   ]
  },
  {
   "cell_type": "code",
   "execution_count": 80,
   "id": "1cd75504-c7e4-4f6b-a9ed-ac39bd0cf3f4",
   "metadata": {},
   "outputs": [
    {
     "data": {
      "text/plain": [
       "[1, 3, 4, 5, 6, 7, 8]"
      ]
     },
     "execution_count": 80,
     "metadata": {},
     "output_type": "execute_result"
    }
   ],
   "source": [
    "# 5. Remove an element from a list by its value.\n",
    "l = [1, 2, 3, 4, 5, 6, 7, 8]\n",
    "l.remove(2)\n",
    "l"
   ]
  },
  {
   "cell_type": "code",
   "execution_count": 84,
   "id": "44d7a014-6086-488e-90a8-ba532c2cc3ef",
   "metadata": {},
   "outputs": [
    {
     "data": {
      "text/plain": [
       "[2, 3, 4, 5]"
      ]
     },
     "execution_count": 84,
     "metadata": {},
     "output_type": "execute_result"
    }
   ],
   "source": [
    "# 6. Remove an element from a list by its index.\n",
    "l = [1,2,3,4,5]\n",
    "del l[0]\n",
    "l"
   ]
  },
  {
   "cell_type": "markdown",
   "id": "271ae669-1828-4583-8c03-45f08ac6dfe0",
   "metadata": {},
   "source": [
    "### ```7 check if an element exits in a list ```"
   ]
  },
  {
   "cell_type": "code",
   "execution_count": 40,
   "id": "de50706d-7dc7-437c-b003-fdb5b2a4be93",
   "metadata": {},
   "outputs": [
    {
     "name": "stdin",
     "output_type": "stream",
     "text": [
      "enter the element to check  7\n"
     ]
    },
    {
     "name": "stdout",
     "output_type": "stream",
     "text": [
      "not found\n",
      "not found\n",
      "not found\n",
      "not found\n",
      "not found\n",
      "not found\n",
      "not found\n"
     ]
    }
   ],
   "source": [
    "# 7. Check if an element exists in a list.\n",
    "l = [1,2,3,\"test\"]\n",
    "n = input(\"enter the element to check \")\n",
    "if i in l:\n",
    "    \n",
    "        "
   ]
  },
  {
   "cell_type": "code",
   "execution_count": 22,
   "id": "4dfc3af8-3386-45f6-a6ed-3ee817ffefe5",
   "metadata": {},
   "outputs": [
    {
     "name": "stdin",
     "output_type": "stream",
     "text": [
      "enter the string : this is python \n",
      "enter the element to find : python   \n"
     ]
    },
    {
     "name": "stdout",
     "output_type": "stream",
     "text": [
      "the index will be  2\n"
     ]
    }
   ],
   "source": [
    "# 8. Find the index of the first occurrence of an element in a list.\n",
    "str8 = input(\"enter the string :\").strip()\n",
    "l = str8.split()\n",
    "ele = input(\"enter the element to find :\").strip()\n",
    "n = l.index(ele)\n",
    "print(\"the index will be \",n)"
   ]
  },
  {
   "cell_type": "code",
   "execution_count": 26,
   "id": "d9eb8411-0c3c-438b-a7c6-69d5eb3318fb",
   "metadata": {},
   "outputs": [
    {
     "name": "stdin",
     "output_type": "stream",
     "text": [
      "enter the string : cyber hack\n",
      "enter the string : hack\n"
     ]
    },
    {
     "name": "stdout",
     "output_type": "stream",
     "text": [
      "the occurence of the hack in the list ['cyber', 'hack'] is 1\n"
     ]
    }
   ],
   "source": [
    "# 9. Count the occurrences of an element in a list.\n",
    "# count fucntion is used to count the occurence of the element \n",
    "str9 = input(\"enter the string :\").strip()\n",
    "check = input(\"enter the string :\").strip()\n",
    "l = str9.split()\n",
    "c = l.count(check)\n",
    "print(f\"the occurence of the {check} in the list {l} is {c}\")\n"
   ]
  },
  {
   "cell_type": "code",
   "execution_count": 28,
   "id": "33b16b27-a99b-48e0-96d5-bc734fb32a2b",
   "metadata": {},
   "outputs": [
    {
     "data": {
      "text/plain": [
       "[9, 8, 7, 6, 5, 4, 3, 2, 1]"
      ]
     },
     "execution_count": 28,
     "metadata": {},
     "output_type": "execute_result"
    }
   ],
   "source": [
    "# 10. Reverse the order of elements in a list.\n",
    "l = [1,2,3,4,5,6,7,8,9]\n",
    "l.reverse()\n",
    "l"
   ]
  },
  {
   "cell_type": "code",
   "execution_count": 38,
   "id": "e7a95584-81a3-4df3-a0d0-1556247314a9",
   "metadata": {},
   "outputs": [
    {
     "name": "stdout",
     "output_type": "stream",
     "text": [
      "the sorted list is : [1, 2, 3, 4, 5, 6, 7, 8, 9]\n"
     ]
    }
   ],
   "source": [
    "# 11 sort a list into ascending order\n",
    "l = [9,8,7,6,5,4,3,2,1]\n",
    "l.sort()\n",
    "print(\"the sorted list is :\",l)"
   ]
  },
  {
   "cell_type": "code",
   "execution_count": 46,
   "id": "f845c1ad-4d51-420e-8114-55ecf44107fc",
   "metadata": {},
   "outputs": [
    {
     "name": "stdout",
     "output_type": "stream",
     "text": [
      "the sorted list is : [9, 8, 7, 6, 5, 4, 3, 2, 1]\n"
     ]
    }
   ],
   "source": [
    "# 12 sort list to descending order \n",
    "l = [1, 2, 3, 4, 5, 6, 7, 8, 9]\n",
    "l.sort(reverse = True)\n",
    "print(\"the sorted list is :\",l)"
   ]
  },
  {
   "cell_type": "code",
   "execution_count": 88,
   "id": "3de76e14-4f52-4ad6-807f-4d3ab5aa9c6b",
   "metadata": {},
   "outputs": [
    {
     "data": {
      "text/plain": [
       "[2, 4, 6, 8, 10, 12, 14, 16, 18, 20]"
      ]
     },
     "execution_count": 88,
     "metadata": {},
     "output_type": "execute_result"
    }
   ],
   "source": [
    "# 13. Create a list of even numbers from 1 to 20.\n",
    "l = [i for i in range(1,21) if i %2 ==0]\n",
    "l"
   ]
  },
  {
   "cell_type": "code",
   "execution_count": 90,
   "id": "98a558c2-ccda-4361-bcf5-d376aab2d28a",
   "metadata": {},
   "outputs": [
    {
     "data": {
      "text/plain": [
       "[1, 3, 5, 7, 9, 11, 13, 15, 17, 19]"
      ]
     },
     "execution_count": 90,
     "metadata": {},
     "output_type": "execute_result"
    }
   ],
   "source": [
    "# 14. Create a list of odd numbers from 1 to 20.\n",
    "l = [i for i in range(1,21,2)]\n",
    "l"
   ]
  },
  {
   "cell_type": "code",
   "execution_count": 26,
   "id": "09eaad8f-3f8c-4416-8239-558b524a1a11",
   "metadata": {},
   "outputs": [
    {
     "name": "stdout",
     "output_type": "stream",
     "text": [
      "total sum 21\n"
     ]
    }
   ],
   "source": [
    "# 15. Find the sum of all elements in a list.\n",
    "l = [1,2,3,4,5,6]\n",
    "tsum = sum(l)\n",
    "print(\"total sum\",tsum)"
   ]
  },
  {
   "cell_type": "code",
   "execution_count": 1,
   "id": "9615c984-b903-4262-bf6d-4c2d54577691",
   "metadata": {},
   "outputs": [
    {
     "data": {
      "text/plain": [
       "5"
      ]
     },
     "execution_count": 1,
     "metadata": {},
     "output_type": "execute_result"
    }
   ],
   "source": [
    "# 16. Find the maximum value in a list.\n",
    "l = [1,2,3,4,5]\n",
    "p = max(l)\n",
    "p\n"
   ]
  },
  {
   "cell_type": "code",
   "execution_count": 5,
   "id": "c963cc58-903d-42a9-b19a-0a1af4bf1820",
   "metadata": {},
   "outputs": [
    {
     "data": {
      "text/plain": [
       "1"
      ]
     },
     "execution_count": 5,
     "metadata": {},
     "output_type": "execute_result"
    }
   ],
   "source": [
    "# 17 find the minimum value in a list\n",
    "l = [1,2,3,4]\n",
    "m = min(l)\n",
    "m"
   ]
  },
  {
   "cell_type": "code",
   "execution_count": 7,
   "id": "cc3aec0c-44a4-4a6b-ac82-b744869cbe1d",
   "metadata": {},
   "outputs": [
    {
     "data": {
      "text/plain": [
       "[1, 4, 9, 16, 25, 36, 49, 64, 81, 100]"
      ]
     },
     "execution_count": 7,
     "metadata": {},
     "output_type": "execute_result"
    }
   ],
   "source": [
    "# 18. Create a list of squares of numbers from 1 to 10.\n",
    "l = [i**2 for i in range(1,11)]\n",
    "l"
   ]
  },
  {
   "cell_type": "code",
   "execution_count": 25,
   "id": "077fcf42-acaa-4923-9fcf-42ccb0234304",
   "metadata": {},
   "outputs": [
    {
     "data": {
      "text/plain": [
       "[78, 46, 49, 54, 37, 87, 34, 59, 23, 88]"
      ]
     },
     "execution_count": 25,
     "metadata": {},
     "output_type": "execute_result"
    }
   ],
   "source": [
    "# 19 create a list of random values \n",
    "l = []\n",
    "for i in range(1,11):\n",
    "    l.append(random.randint(1,100))\n",
    "\n",
    "l"
   ]
  },
  {
   "cell_type": "code",
   "execution_count": 43,
   "id": "a577b409-7c9d-4dd8-a0ca-0f3805ed5834",
   "metadata": {},
   "outputs": [
    {
     "data": {
      "text/plain": [
       "[1, 2, 3, 4, 5, 6, 67, 7]"
      ]
     },
     "execution_count": 43,
     "metadata": {},
     "output_type": "execute_result"
    }
   ],
   "source": [
    "# 20 remove duplicat from the list \n",
    "# we will use set to remove the duplicate \n",
    "l = [1,2,3,4,5,5,6,6,67,7]\n",
    "l = list(set(l))\n",
    "l"
   ]
  },
  {
   "cell_type": "code",
   "execution_count": 1,
   "id": "e493ad3f-041a-4201-aff0-eff4b8ce8cf2",
   "metadata": {},
   "outputs": [
    {
     "name": "stdout",
     "output_type": "stream",
     "text": [
      "the new list will be : ['python', 3, 3]\n"
     ]
    }
   ],
   "source": [
    "# 21 find the common element between two list \n",
    "l1 = [1,2,\"python\",3,3]\n",
    "l2 = [\"python\",3,4,5]\n",
    "p = len(l1)\n",
    "q = len(l2)\n",
    "l = []\n",
    "if p<q:\n",
    "    for i in l1:\n",
    "        for j in l2:\n",
    "            if i ==j:\n",
    "                l.append(i)\n",
    "\n",
    "if q<p:\n",
    "    for i in l2:\n",
    "        for j in l1:\n",
    "            if i==j:\n",
    "                l.append(i)\n",
    "\n",
    "print(\"the new list will be :\",l)\n",
    "                \n"
   ]
  },
  {
   "cell_type": "code",
   "execution_count": 47,
   "id": "86fcd66b-0fd4-4485-a80d-e5e2490bf3cc",
   "metadata": {},
   "outputs": [
    {
     "name": "stdout",
     "output_type": "stream",
     "text": [
      "list difference  [10, 20]\n"
     ]
    }
   ],
   "source": [
    "# 22 find the difference between the two list \n",
    "list1 = [10, 20, 30, 40, 50]\n",
    "list2 = [30, 40, 50, 60, 70]\n",
    "diff = list(set(list1).difference(set(list2)))\n",
    "print(\"list difference \",diff)"
   ]
  },
  {
   "cell_type": "code",
   "execution_count": 49,
   "id": "0d3905d1-299d-4575-9136-00fdd2d1c645",
   "metadata": {},
   "outputs": [
    {
     "data": {
      "text/plain": [
       "[10, 20, 30, 40, 50, 60]"
      ]
     },
     "execution_count": 49,
     "metadata": {},
     "output_type": "execute_result"
    }
   ],
   "source": [
    "# 23 merge two list \n",
    "# method 1 using +\n",
    "l1 = [10,20,30]\n",
    "l2 = [40,50,60]\n",
    "l1+l2"
   ]
  },
  {
   "cell_type": "code",
   "execution_count": 55,
   "id": "6945ba0e-42da-47c2-9d35-d38d612ddc3e",
   "metadata": {},
   "outputs": [
    {
     "data": {
      "text/plain": [
       "[10, 20, 30, 40, 50, 60]"
      ]
     },
     "execution_count": 55,
     "metadata": {},
     "output_type": "execute_result"
    }
   ],
   "source": [
    "# method 2 using extend()\n",
    "l1 = [10,20,30]\n",
    "l2 = [40,50,60]\n",
    "l1.extend(l2)\n",
    "l1"
   ]
  },
  {
   "cell_type": "code",
   "execution_count": 59,
   "id": "78d379ba-ce76-4ca6-935b-12eb5c52cde5",
   "metadata": {},
   "outputs": [
    {
     "data": {
      "text/plain": [
       "[2, 4, 6, 8, 10]"
      ]
     },
     "execution_count": 59,
     "metadata": {},
     "output_type": "execute_result"
    }
   ],
   "source": [
    "# 24. Multiply all elements in a list by 2.\n",
    "l = [1,2,3,4,5]\n",
    "m = [i*2 for i in l]\n",
    "m"
   ]
  },
  {
   "cell_type": "code",
   "execution_count": 61,
   "id": "f61e46ef-3be7-4f3d-91b1-4d430b61f29d",
   "metadata": {},
   "outputs": [
    {
     "data": {
      "text/plain": [
       "[2, 4, 6, 6, 8, 10]"
      ]
     },
     "execution_count": 61,
     "metadata": {},
     "output_type": "execute_result"
    }
   ],
   "source": [
    "# 25 filter out all the even number from a list \n",
    "l= [1,2,4,5,6,6,7,8,9,10]\n",
    "p = [i for i in l if i%2 ==0]\n",
    "p"
   ]
  },
  {
   "cell_type": "code",
   "execution_count": 67,
   "id": "6bb2daa6-67be-4479-80fa-1644d7eecdb2",
   "metadata": {},
   "outputs": [
    {
     "data": {
      "text/plain": [
       "[12, 123, 90]"
      ]
     },
     "execution_count": 67,
     "metadata": {},
     "output_type": "execute_result"
    }
   ],
   "source": [
    "# 26 comverting a list of string to a list of integer \n",
    "l = [\"12\",\"123\",\"90\"]\n",
    "p = [int(i) for i in l]\n",
    "p\n"
   ]
  },
  {
   "cell_type": "code",
   "execution_count": 69,
   "id": "acd9aef7-a107-4658-89f4-7e69e58b463b",
   "metadata": {},
   "outputs": [
    {
     "data": {
      "text/plain": [
       "['12', '123', '90']"
      ]
     },
     "execution_count": 69,
     "metadata": {},
     "output_type": "execute_result"
    }
   ],
   "source": [
    "# 27. Convert a list of integers to a list of strings.\n",
    "l = [12, 123, 90]\n",
    "p = [str(i) for i in l]\n",
    "p"
   ]
  },
  {
   "cell_type": "markdown",
   "id": "6c85a988-d2c8-4a71-b0f7-e02d18c88d83",
   "metadata": {},
   "source": [
    "### ```28 Flatten a nested list ```"
   ]
  },
  {
   "cell_type": "code",
   "execution_count": 44,
   "id": "f6835dd7-c866-44db-b19e-bb41f0c7dc98",
   "metadata": {},
   "outputs": [
    {
     "ename": "TypeError",
     "evalue": "'int' object is not iterable",
     "output_type": "error",
     "traceback": [
      "\u001b[1;31m---------------------------------------------------------------------------\u001b[0m",
      "\u001b[1;31mTypeError\u001b[0m                                 Traceback (most recent call last)",
      "Cell \u001b[1;32mIn[44], line 6\u001b[0m\n\u001b[0;32m      3\u001b[0m flattened \u001b[38;5;241m=\u001b[39m []\n\u001b[0;32m      5\u001b[0m \u001b[38;5;28;01mfor\u001b[39;00m sublist1 \u001b[38;5;129;01min\u001b[39;00m nested_list:\n\u001b[1;32m----> 6\u001b[0m     \u001b[38;5;28;01mfor\u001b[39;00m sublist2 \u001b[38;5;129;01min\u001b[39;00m sublist1:\n\u001b[0;32m      7\u001b[0m         \u001b[38;5;28;01mfor\u001b[39;00m num \u001b[38;5;129;01min\u001b[39;00m sublist2:\n\u001b[0;32m      8\u001b[0m             flattened\u001b[38;5;241m.\u001b[39mappend(num)\n",
      "\u001b[1;31mTypeError\u001b[0m: 'int' object is not iterable"
     ]
    }
   ],
   "source": [
    "#nested_list = [[[1, 2], [3, 4]], [[5, 6], [7]]]\n",
    "nested_list = [1,2,[3,4,5]]\n",
    "flattened = []\n",
    "\n",
    "for sublist1 in nested_list:\n",
    "    for sublist2 in sublist1:\n",
    "        for num in sublist2:\n",
    "            flattened.append(num)\n",
    "\n",
    "print(flattened)  # Output: [1, 2, 3, 4, 5, 6, 7]\n"
   ]
  },
  {
   "cell_type": "code",
   "execution_count": 46,
   "id": "5d7b2290-89bb-43f4-9f2f-b44899e3fffa",
   "metadata": {},
   "outputs": [],
   "source": [
    "def flatten_list(nested_list):\n",
    "    flattened = []\n",
    "    for sublist in nested_list:\n",
    "        for item in sublist:\n",
    "            flattened.append(item)\n",
    "    return flattened\n"
   ]
  },
  {
   "cell_type": "code",
   "execution_count": 96,
   "id": "9420349b-0fa3-46b7-bf8b-8205ce114518",
   "metadata": {},
   "outputs": [
    {
     "name": "stdin",
     "output_type": "stream",
     "text": [
      "enter the string : 8\n"
     ]
    },
    {
     "data": {
      "text/plain": [
       "[0, 1, 1, 2, 3, 5, 8, 13, 21]"
      ]
     },
     "execution_count": 96,
     "metadata": {},
     "output_type": "execute_result"
    }
   ],
   "source": [
    "# 29. Create a list of the first 10 Fibonacci numbers.\n",
    "n1 = 0\n",
    "n2 = 1\n",
    "# 0,1,1,2,3,5,8,13,21,34\n",
    "l = [0]\n",
    "term = int(input(\"enter the string :\"))\n",
    "for i in range(0,term): # 4 times \n",
    "    n = n1+n2 #1 2 3\n",
    "    n1 = n2 # 1 1 2\n",
    "    n2 = n #1 2 3\n",
    "    l.append(n1)\n",
    "\n",
    "l\n",
    "    \n",
    "           \n",
    "\n",
    "\n"
   ]
  },
  {
   "cell_type": "markdown",
   "id": "bbb32b64-2718-4621-8db9-fb95cb1cd84a",
   "metadata": {},
   "source": [
    "### ``` 30 check if a list is sorted or not ```"
   ]
  },
  {
   "cell_type": "code",
   "execution_count": 108,
   "id": "5ad9c593-c22c-4e46-98d4-c0ca40756251",
   "metadata": {},
   "outputs": [
    {
     "name": "stdout",
     "output_type": "stream",
     "text": [
      "the list is sortd \n"
     ]
    }
   ],
   "source": [
    "# 30 check if a list is sorted in ascending order \n",
    "alist = [10, 20, 30, 40, 50]\n",
    "l = len(alist) # 5 , 0 1 2 3 4 \n",
    "flag = True \n",
    "for i in range(0,l):\n",
    "    if i ==4 :\n",
    "        break \n",
    "    if alist[i]<alist[i+1]:\n",
    "        pass\n",
    "    else:\n",
    "        flag = False\n",
    "\n",
    "if flag:\n",
    "    print(\"the list is sortd \")\n",
    "else :\n",
    "    print(\"the list is not sorted\")\n",
    "    \n",
    "    \n",
    "\n"
   ]
  },
  {
   "cell_type": "markdown",
   "id": "0d45da4e-d6b1-46cd-98ba-aad2afb59464",
   "metadata": {},
   "source": [
    "### ``` 31 rotate a llist to the left by nth positionn ```"
   ]
  },
  {
   "cell_type": "code",
   "execution_count": 121,
   "id": "2b29cdd7-800d-4fe2-8d6e-c5ceba67558b",
   "metadata": {},
   "outputs": [
    {
     "name": "stdin",
     "output_type": "stream",
     "text": [
      "enter the position on which you want to rotate : 5\n"
     ]
    },
    {
     "data": {
      "text/plain": [
       "[5, 6, 7, 8, 9, 1, 2, 3, 4]"
      ]
     },
     "execution_count": 121,
     "metadata": {},
     "output_type": "execute_result"
    }
   ],
   "source": [
    "l_32 = [1,2,3,4,5,6,7,8,9]\n",
    "m = len(l_32)\n",
    "n = int(input(\"enter the position on which you want to rotate :\")) # 5\n",
    "if n >m :\n",
    "    print(\"please enter the position which is less than the list length\")\n",
    "else :\n",
    "    rotate = l_32[n-1::]+l_32[0:n-1]\n",
    "\n",
    "rotate\n",
    "    \n",
    "\n"
   ]
  },
  {
   "cell_type": "markdown",
   "id": "16a72d4e-9000-4090-92c5-d6f920ed0194",
   "metadata": {},
   "source": [
    "### ``` 32 rotate a list to the right by nth position ```\n"
   ]
  },
  {
   "cell_type": "code",
   "execution_count": 117,
   "id": "fd1b2712-bdbc-4239-aec3-b97ef39ba16d",
   "metadata": {},
   "outputs": [
    {
     "name": "stdin",
     "output_type": "stream",
     "text": [
      "enter the position on which you want to rotate : 7\n"
     ]
    },
    {
     "data": {
      "text/plain": [
       "[1, 2, 3, 4, 5, 6, 7, 8, 9]"
      ]
     },
     "execution_count": 117,
     "metadata": {},
     "output_type": "execute_result"
    }
   ],
   "source": [
    "# 32 32. Rotate a list to the right by `n` positions. it means from back \n",
    "l_32 = [1,2,3,4,5,6,7,8,9]\n",
    "m = len(l_32)\n",
    "n = int(input(\"enter the position on which you want to rotate :\")) # 5\n",
    "if n >m :\n",
    "    print(\"please enter the position which is less than the list length\")\n",
    "else :\n",
    "    rotate = l_32[0:n-1]+l_32[n-1::]\n",
    "\n",
    "rotate"
   ]
  },
  {
   "cell_type": "code",
   "execution_count": 11,
   "id": "d459302d-f3ae-4815-bef1-c6aeed127718",
   "metadata": {},
   "outputs": [
    {
     "data": {
      "text/plain": [
       "[2, 3, 5, 7, 11, 13, 17, 19, 23, 29, 31, 37, 41, 43, 47]"
      ]
     },
     "execution_count": 11,
     "metadata": {},
     "output_type": "execute_result"
    }
   ],
   "source": [
    "# 33. Create a list of prime numbers up to 50.\n",
    "l = []\n",
    "for i in range(2,51):\n",
    "    flag = False \n",
    "    for j in range(2,i):\n",
    "        if i%j==0:\n",
    "            flag = True\n",
    "            break\n",
    "    if flag:\n",
    "        pass\n",
    "    else:\n",
    "        l.append(i)\n",
    "\n",
    "l\n",
    "        \n",
    "        "
   ]
  },
  {
   "cell_type": "markdown",
   "id": "b5882c37-fd85-4274-90bf-33a137bb836d",
   "metadata": {},
   "source": [
    "### ``` 34. Split a list into chunks of size `n`.```"
   ]
  },
  {
   "cell_type": "code",
   "execution_count": 43,
   "id": "0b6ab3c1-49ed-47d4-b19b-5efb771d8220",
   "metadata": {},
   "outputs": [
    {
     "name": "stdin",
     "output_type": "stream",
     "text": [
      "enter the nth split number  9\n"
     ]
    },
    {
     "data": {
      "text/plain": [
       "[[1, 2], [2, 3], [3, 4], [4, 5], [5, 6], [6, 7], [7, 8], [8, 9], [9]]"
      ]
     },
     "execution_count": 43,
     "metadata": {},
     "output_type": "execute_result"
    }
   ],
   "source": [
    "ltest = [1,2,3,4,5,6,7,8,9] # 1,2    3,4,   5,6,   7,8,   9\n",
    "temp = []\n",
    "n = int(input(\"enter the nth split number \"))\n",
    "for i in range(0,len(ltest)):\n",
    "    broken_list = ltest[i:i+2:1]\n",
    "    temp.append(broken_list)\n",
    "\n",
    "temp\n"
   ]
  },
  {
   "cell_type": "code",
   "execution_count": 16,
   "id": "b91449fb-4730-4c9b-8f78-7b9e09dc39cf",
   "metadata": {},
   "outputs": [
    {
     "name": "stdout",
     "output_type": "stream",
     "text": [
      "the second largest value in list is : 4\n"
     ]
    }
   ],
   "source": [
    "# 35 find the second largest number inside the list \n",
    "# we will use sort method \n",
    "l = [3,4,5,2,1,5]\n",
    "s = set(l) # to remove the duplicate in the list \n",
    "l = list(s)\n",
    "print(\"the second largest value in list is :\",l[-2])"
   ]
  },
  {
   "cell_type": "code",
   "execution_count": 18,
   "id": "df519447-071e-414c-b98c-b85e3d8977c5",
   "metadata": {},
   "outputs": [
    {
     "data": {
      "text/plain": [
       "[4, 9, 16, 25, 36]"
      ]
     },
     "execution_count": 18,
     "metadata": {},
     "output_type": "execute_result"
    }
   ],
   "source": [
    "# 36. Replace every element in a list with its square.\n",
    "l = [2,3,4,4,5,6]\n",
    "s = set(l) # to remove duplicarte values \n",
    "l = list(s)\n",
    "l = [i**2 for i in l]\n",
    "l\n"
   ]
  },
  {
   "cell_type": "markdown",
   "id": "47a66402-3e68-4899-88f8-03150ee5d90a",
   "metadata": {},
   "source": [
    "### ``` 37. Convert a list to a dictionary where list elements become keys and their indices become values.```"
   ]
  },
  {
   "cell_type": "code",
   "execution_count": 21,
   "id": "dcfd6c11-583d-4628-a3b2-2599167acbf9",
   "metadata": {},
   "outputs": [
    {
     "data": {
      "text/plain": [
       "{4: 0, 5: 1, 6: 2, 7: 3}"
      ]
     },
     "execution_count": 21,
     "metadata": {},
     "output_type": "execute_result"
    }
   ],
   "source": [
    "l = [4,5,6,7]\n",
    "d = {}\n",
    "for i in l:\n",
    "    d[i] = l.index(i)\n",
    "\n",
    "d"
   ]
  },
  {
   "cell_type": "markdown",
   "id": "6a6d7fbd-433a-497d-9a01-846061e7328e",
   "metadata": {},
   "source": [
    "### ``` 38. Shuffle the elements of a list randomly.```"
   ]
  },
  {
   "cell_type": "code",
   "execution_count": 30,
   "id": "f1fb2e28-e5ce-47f6-87fc-9870202fc2e7",
   "metadata": {},
   "outputs": [
    {
     "data": {
      "text/plain": [
       "[4, 3, 2, 1, 5]"
      ]
     },
     "execution_count": 30,
     "metadata": {},
     "output_type": "execute_result"
    }
   ],
   "source": [
    "import random\n",
    "l = [1,2,3,4,5]\n",
    "random.shuffle(l)\n",
    "l"
   ]
  },
  {
   "cell_type": "code",
   "execution_count": 40,
   "id": "c9b8bea4-a64e-4db9-a524-a8d2195aabe1",
   "metadata": {},
   "outputs": [
    {
     "name": "stdin",
     "output_type": "stream",
     "text": [
      "enter the n value : 6\n"
     ]
    },
    {
     "data": {
      "text/plain": [
       "[1, 2, 6, 24, 120, 720]"
      ]
     },
     "execution_count": 40,
     "metadata": {},
     "output_type": "execute_result"
    }
   ],
   "source": [
    "# 39. Create a list of the first 10 factorial numbers.\n",
    "n = int(input(\"enter the n value :\"))\n",
    "l = []\n",
    "for i in range(1,n+1):\n",
    "    temp = 1\n",
    "    for j in range(1,i+1):\n",
    "        temp = temp*j\n",
    "    l.append(temp)\n",
    "\n",
    "l\n",
    "    "
   ]
  },
  {
   "cell_type": "markdown",
   "id": "f033c35b-f5b2-4cac-8216-e2e2bfd95bd5",
   "metadata": {},
   "source": [
    "### ```40 check if two list have at least one electemt in common ```"
   ]
  },
  {
   "cell_type": "code",
   "execution_count": 21,
   "id": "6de3af7e-926e-43b9-8728-ac4b7b59450f",
   "metadata": {},
   "outputs": [
    {
     "name": "stdout",
     "output_type": "stream",
     "text": [
      "found\n"
     ]
    }
   ],
   "source": [
    "l1 = [1,2,3,4]\n",
    "l2 = [3,5,6,7]\n",
    "flag = False\n",
    "for i in l1:\n",
    "    for j in l2:\n",
    "        if i ==j:\n",
    "            flag = True\n",
    "\n",
    "if flag:\n",
    "    print(\"found\")\n",
    "else:\n",
    "    print(\"not found\")\n",
    "            "
   ]
  },
  {
   "cell_type": "code",
   "execution_count": 1,
   "id": "ffd1ed60-cb38-48fe-8532-25e926a29232",
   "metadata": {},
   "outputs": [
    {
     "data": {
      "text/plain": [
       "[]"
      ]
     },
     "execution_count": 1,
     "metadata": {},
     "output_type": "execute_result"
    }
   ],
   "source": [
    "#  41. Remove all elements from a list.\n",
    "l = [1,2,3,4,5]\n",
    "l.clear()\n",
    "l"
   ]
  },
  {
   "cell_type": "code",
   "execution_count": 3,
   "id": "080801f9-48c9-4e60-b668-742c4205ae87",
   "metadata": {},
   "outputs": [
    {
     "name": "stdout",
     "output_type": "stream",
     "text": [
      "[0, 2, 3, 0, 6, 7, 0]\n"
     ]
    }
   ],
   "source": [
    "# 42. Replace negative numbers in a list with 0.\n",
    "l = [-1,2,3,-32,6,7,-89]\n",
    "for i in range(0,len(l)):\n",
    "    if l[i] < 0:\n",
    "        l[i] = 0\n",
    "\n",
    "print(l)\n",
    "\n"
   ]
  },
  {
   "cell_type": "code",
   "execution_count": 5,
   "id": "b72e49e1-aa7f-48a9-8431-f57654dc7840",
   "metadata": {},
   "outputs": [
    {
     "name": "stdout",
     "output_type": "stream",
     "text": [
      "List of words: ['Hi', 'this', 'is', 'python']\n"
     ]
    }
   ],
   "source": [
    "#43 convert a string into a list of words \n",
    "my_string = \"Hi this is python\"\n",
    "\n",
    "# Convert the string into a list of words\n",
    "wordlist = my_string.split()\n",
    "\n",
    "# Print the list of words\n",
    "print(\"List of words:\", wordlist)"
   ]
  },
  {
   "cell_type": "code",
   "execution_count": 9,
   "id": "aea30b96-ffb1-422a-8ba6-07880da70af2",
   "metadata": {},
   "outputs": [
    {
     "data": {
      "text/plain": [
       "'Hi this is python '"
      ]
     },
     "execution_count": 9,
     "metadata": {},
     "output_type": "execute_result"
    }
   ],
   "source": [
    "# 44. Convert a list of words into a string.\n",
    "l = ['Hi', 'this', 'is', 'python']\n",
    "str = \"\"\n",
    "for i in l:\n",
    "    str = str+i+\" \"\n",
    "\n",
    "str"
   ]
  },
  {
   "cell_type": "code",
   "execution_count": 13,
   "id": "486f1be7-b4aa-4511-adc0-7db4ee8e7678",
   "metadata": {},
   "outputs": [
    {
     "name": "stdout",
     "output_type": "stream",
     "text": [
      "List of the first 7 powers of 2: [1, 2, 4, 8, 16, 32, 64]\n"
     ]
    }
   ],
   "source": [
    "# 45. Create a list of the first `n` powers of 2.\n",
    "n1 = 7\n",
    "\n",
    "# Create a list of the first n powers of 2 using a loop\n",
    "power_list = [2 ** j for j in range(n1)]\n",
    "\n",
    "# Print the list of powers of 2\n",
    "print(\"List of the first\", n1, \"powers of 2:\", power_list)"
   ]
  },
  {
   "cell_type": "code",
   "execution_count": 16,
   "id": "4026d801-0f4e-4581-81ad-547b95bf7bd8",
   "metadata": {},
   "outputs": [
    {
     "name": "stdout",
     "output_type": "stream",
     "text": [
      "longest words in a list of string are : {'qwerty': 6, 'ytrewq': 6}\n"
     ]
    }
   ],
   "source": [
    "# 46. Find the longest string in a list of strings.\n",
    "l = [\"hi\",\"this\",\"is\",\"qwerty\",\"ytrewq\"]\n",
    "dicti = {}\n",
    "longdict = {}\n",
    "for i in l:\n",
    "    dicti[i] = len(i)\n",
    "\n",
    "for (keys,values) in dicti.items():\n",
    "    if values == max(dicti.values()):\n",
    "        longdict[keys] = values\n",
    "print(\"longest words in a list of string are :\",longdict)\n",
    "        \n",
    "    \n",
    "    "
   ]
  },
  {
   "cell_type": "code",
   "execution_count": 24,
   "id": "8ffc696b-6b12-4115-8ce8-1c75731d4a31",
   "metadata": {},
   "outputs": [
    {
     "name": "stdout",
     "output_type": "stream",
     "text": [
      "hi\n",
      "is\n",
      "my\n"
     ]
    }
   ],
   "source": [
    "# 47. Find the shortest string in a list of strings.\n",
    "s = \"hi this is my python program\"\n",
    "l = s.split()\n",
    "dicti = {}\n",
    "for i in l:\n",
    "    dicti[i] = len(i)\n",
    "for (keys,values) in dicti.items():\n",
    "    if values == min(dicti.values()):\n",
    "        print(keys)\n",
    "        "
   ]
  },
  {
   "cell_type": "code",
   "execution_count": 32,
   "id": "5f9676ca-09ce-4981-b422-27297d60b05b",
   "metadata": {},
   "outputs": [
    {
     "name": "stdin",
     "output_type": "stream",
     "text": [
      "enter the n terms till you want the numbers : 8\n"
     ]
    },
    {
     "data": {
      "text/plain": [
       "[1, 3, 6, 10, 15, 21, 28, 36]"
      ]
     },
     "execution_count": 32,
     "metadata": {},
     "output_type": "execute_result"
    }
   ],
   "source": [
    "# 48 create a list of first triangular number \n",
    "# formula = {n(n+1)}/2\n",
    "n = int(input(\"enter the n terms till you want the numbers :\"))\n",
    "l = []\n",
    "for i in range(1,n+1):\n",
    "    sum = 0\n",
    "    for j in range(1,i+1):\n",
    "        sum = sum+j\n",
    "    l.append(sum)\n",
    "l"
   ]
  },
  {
   "cell_type": "markdown",
   "id": "e9d9e092-c3f7-4f47-9862-db52d2bdcadb",
   "metadata": {},
   "source": [
    "### ``` 49 check if a list contains another list as subsequence ```"
   ]
  },
  {
   "cell_type": "code",
   "execution_count": 38,
   "id": "3ed6a6c0-a1de-47dd-a1e8-05568cf1bc27",
   "metadata": {},
   "outputs": [
    {
     "data": {
      "text/plain": [
       "True"
      ]
     },
     "execution_count": 38,
     "metadata": {},
     "output_type": "execute_result"
    }
   ],
   "source": [
    "\n",
    "l1 = [4,5,6,7,8,9]\n",
    "l2 = [4,7,9] # check wether its a subsequence of l1 or not \n",
    "flag = False \n",
    "for i in l1:\n",
    "    for j in l2:\n",
    "        if "
   ]
  },
  {
   "cell_type": "code",
   "execution_count": 40,
   "id": "3985dd6c-f9a8-4713-826b-c934280b39f6",
   "metadata": {},
   "outputs": [
    {
     "name": "stdout",
     "output_type": "stream",
     "text": [
      "False\n"
     ]
    }
   ],
   "source": [
    "a = [1,3,5]\n",
    "b = [1, 2, 3, 4, 5]\n",
    "\n",
    "# Check if 'a' is a subsequence of 'b'\n",
    "is_subsequence = b[:len(a)] == a\n",
    "\n",
    "print(is_subsequence)  # Output: True\n"
   ]
  },
  {
   "cell_type": "code",
   "execution_count": 1,
   "id": "a4c5cab9-a557-4d96-a25c-3d50d775517f",
   "metadata": {},
   "outputs": [
    {
     "data": {
      "text/plain": [
       "[4, 2, 3, 1, 5, 6, 7]"
      ]
     },
     "execution_count": 1,
     "metadata": {},
     "output_type": "execute_result"
    }
   ],
   "source": [
    "# 50 swap two elements in a list by using indices\n",
    "l = [1,2,3,4,5,6,7]\n",
    "i = 0\n",
    "j = 3\n",
    "l[i],l[j] = l[j],l[i]\n",
    "l"
   ]
  },
  {
   "cell_type": "markdown",
   "id": "012195f6-da98-4dc2-81ec-72d67780bdfe",
   "metadata": {},
   "source": [
    "#### ``` Tuples based practice problems```"
   ]
  },
  {
   "cell_type": "code",
   "execution_count": 6,
   "id": "a79c9135-380c-4aa5-ae39-469d5a9c2dbd",
   "metadata": {},
   "outputs": [
    {
     "name": "stdout",
     "output_type": "stream",
     "text": [
      "<class 'tuple'>\n",
      "(1, 2, 3, 4, 5)\n"
     ]
    }
   ],
   "source": [
    "# 1 create a tuples from 1 to 5\n",
    "my_tup = (1,2,3,4,5)\n",
    "print(type(my_tup))\n",
    "print(my_tup)"
   ]
  },
  {
   "cell_type": "code",
   "execution_count": 10,
   "id": "57009ce1-fa0c-45d1-a007-fb89e9936a8c",
   "metadata": {},
   "outputs": [
    {
     "data": {
      "text/plain": [
       "3"
      ]
     },
     "execution_count": 10,
     "metadata": {},
     "output_type": "execute_result"
    }
   ],
   "source": [
    "# 2 access the third element of a tuples \n",
    "tup2 = (1,2,3,4,5)\n",
    "tup2[2] # accessing the third element in the tuple"
   ]
  },
  {
   "cell_type": "code",
   "execution_count": 14,
   "id": "8fadec2c-22f8-4865-a2a7-953b644f4c78",
   "metadata": {},
   "outputs": [
    {
     "data": {
      "text/plain": [
       "6"
      ]
     },
     "execution_count": 14,
     "metadata": {},
     "output_type": "execute_result"
    }
   ],
   "source": [
    "# 3 find the length of a tuples without usign the len function \n",
    "tup3 = (1,2,3,4,5,6)\n",
    "count = 0\n",
    "for i in tup3:\n",
    "    count += 1 \n",
    "count"
   ]
  },
  {
   "cell_type": "markdown",
   "id": "5f67077d-a45c-4b64-afb6-9572f9deb1f3",
   "metadata": {},
   "source": [
    "### ``` 4 count the occurences of an element in a tuple ```"
   ]
  },
  {
   "cell_type": "code",
   "execution_count": 1,
   "id": "e391a6fc-3034-4f8b-b318-a1b72efcbc65",
   "metadata": {},
   "outputs": [
    {
     "name": "stdout",
     "output_type": "stream",
     "text": [
      "the occurence of the 1 is 2\n"
     ]
    }
   ],
   "source": [
    "# method 1 using simple for loop \n",
    "tup4 = (1,2,3,1,4,5,4)\n",
    "ele = 1\n",
    "count = 0\n",
    "for i in tup4:\n",
    "    if i == ele:\n",
    "        count  += 1 \n",
    "\n",
    "print(f\"the occurence of the {ele} is {count}\")\n"
   ]
  },
  {
   "cell_type": "code",
   "execution_count": 3,
   "id": "cb1fc6ac-344d-431e-9b93-9a53b1467482",
   "metadata": {},
   "outputs": [
    {
     "data": {
      "text/plain": [
       "{1: 1, 3: 1, 4: 1, 5: 1, 6: 1}"
      ]
     },
     "execution_count": 3,
     "metadata": {},
     "output_type": "execute_result"
    }
   ],
   "source": [
    "# method 2 using dictionary \n",
    "tup4 = (1,3,4,5,6,3,3)\n",
    "ele = 3 \n",
    "dicti = {}\n",
    "count = 0\n",
    "for i in tup4:\n",
    "    if i in dicti:\n",
    "        dicti[i] = count+1\n",
    "    else :\n",
    "        dicti[i] = 1\n",
    "\n",
    "dicti\n"
   ]
  },
  {
   "cell_type": "code",
   "execution_count": 5,
   "id": "fe15b2ad-506e-411e-bd95-ba1a0600f306",
   "metadata": {},
   "outputs": [
    {
     "data": {
      "text/plain": [
       "2"
      ]
     },
     "execution_count": 5,
     "metadata": {},
     "output_type": "execute_result"
    }
   ],
   "source": [
    "# 5 find the index of the fist occurence of the element in the tuple \n",
    "tup5 = (3,4,5,5,6,3)\n",
    "ele= 5\n",
    "ind = tup5.index(ele)\n",
    "ind"
   ]
  },
  {
   "cell_type": "code",
   "execution_count": 7,
   "id": "1bc77840-85bb-4c33-b35c-6dd7b4718e12",
   "metadata": {},
   "outputs": [
    {
     "name": "stdout",
     "output_type": "stream",
     "text": [
      "exist\n"
     ]
    }
   ],
   "source": [
    "# 6 check if an element exist in tuples \n",
    "tup6 = (1,2,3,54,5,6)\n",
    "ele = 5\n",
    "if ele in tup6:\n",
    "    print(\"exist\")\n",
    "else:\n",
    "    print(\"not exist\")"
   ]
  },
  {
   "cell_type": "code",
   "execution_count": 9,
   "id": "6038cea4-787a-4f4b-9e7e-94fee9f9983d",
   "metadata": {},
   "outputs": [
    {
     "data": {
      "text/plain": [
       "[1, 2, 3, 5]"
      ]
     },
     "execution_count": 9,
     "metadata": {},
     "output_type": "execute_result"
    }
   ],
   "source": [
    "# 7 convert a tuples to a list \n",
    "tup7 = (1,2,3,5)\n",
    "l = list(tup7)\n",
    "l"
   ]
  },
  {
   "cell_type": "code",
   "execution_count": 16,
   "id": "f6d42d93-c7ea-49f9-907b-4f9fb69a0cc1",
   "metadata": {},
   "outputs": [
    {
     "data": {
      "text/plain": [
       "(1, 2, 3, 4, 5)"
      ]
     },
     "execution_count": 16,
     "metadata": {},
     "output_type": "execute_result"
    }
   ],
   "source": [
    "# 8 convert a list to a tuples \n",
    "l8 = [1,2,3,4,5]\n",
    "tup8 = tuple(l8)\n",
    "tup8"
   ]
  },
  {
   "cell_type": "code",
   "execution_count": 18,
   "id": "572765f8-74a6-402f-9011-7c29115e8fbd",
   "metadata": {},
   "outputs": [
    {
     "name": "stdout",
     "output_type": "stream",
     "text": [
      "1\n",
      "2\n",
      "3\n",
      "[43, 54]\n"
     ]
    }
   ],
   "source": [
    "# 9 unpack the elements of a tuples in to variable \n",
    "tup9 = (1,2,3,43,54)\n",
    "a,b,c,*others = tup9\n",
    "print(a)\n",
    "print(b)\n",
    "print(c)\n",
    "print(others)"
   ]
  },
  {
   "cell_type": "code",
   "execution_count": 20,
   "id": "451e3421-0550-49b1-832c-9076ed59d94b",
   "metadata": {},
   "outputs": [
    {
     "data": {
      "text/plain": [
       "(2, 4, 6, 8, 10)"
      ]
     },
     "execution_count": 20,
     "metadata": {},
     "output_type": "execute_result"
    }
   ],
   "source": [
    "# 10 create a tupels o even numebr from 1 to 10 \n",
    "l = [i for i in range(1,11) if i %2==0]\n",
    "tup10 = tuple(l)\n",
    "tup10"
   ]
  },
  {
   "cell_type": "code",
   "execution_count": 26,
   "id": "a2b3cb3c-8b9f-46b1-aa44-a2960fc7923a",
   "metadata": {},
   "outputs": [
    {
     "data": {
      "text/plain": [
       "(1, 3, 5, 7, 9)"
      ]
     },
     "execution_count": 26,
     "metadata": {},
     "output_type": "execute_result"
    }
   ],
   "source": [
    "# 11 create a tuple of odd numbers from 1 to 10 \n",
    "l = [i for i in range(1,11) if i%2!= 0]\n",
    "tup11 = tuple(l)\n",
    "tup11"
   ]
  },
  {
   "cell_type": "code",
   "execution_count": 28,
   "id": "b0770ec9-54e4-4527-975e-aa49000ce36c",
   "metadata": {},
   "outputs": [
    {
     "data": {
      "text/plain": [
       "(1, 2, 23, 24, 25, 26)"
      ]
     },
     "execution_count": 28,
     "metadata": {},
     "output_type": "execute_result"
    }
   ],
   "source": [
    "# 12 concatenate two tuples \n",
    "tup1 = (1,2,23)\n",
    "tup2 = (24,25,26)\n",
    "t = tup1+tup2\n",
    "t"
   ]
  },
  {
   "cell_type": "code",
   "execution_count": 30,
   "id": "ec65d59a-39d7-4177-b446-68431812c07b",
   "metadata": {},
   "outputs": [
    {
     "data": {
      "text/plain": [
       "(1, 2, 3, 1, 2, 3, 1, 2, 3)"
      ]
     },
     "execution_count": 30,
     "metadata": {},
     "output_type": "execute_result"
    }
   ],
   "source": [
    "# 13 repeat a tuples three times \n",
    "t13 = (1,2,3)\n",
    "three = t13*3\n",
    "three"
   ]
  },
  {
   "cell_type": "code",
   "execution_count": 32,
   "id": "313d461a-3af3-4ba8-84d4-dc5ade654913",
   "metadata": {},
   "outputs": [
    {
     "name": "stdout",
     "output_type": "stream",
     "text": [
      "tuples is empty\n"
     ]
    }
   ],
   "source": [
    "# 14 check if a tuple is empty or not \n",
    "tup14 = ()\n",
    "l = len(tup14)\n",
    "if l ==0:\n",
    "    print(\"tuples is empty\")\n",
    "\n",
    "else:\n",
    "    print(\"no its not empty\")"
   ]
  },
  {
   "cell_type": "code",
   "execution_count": 34,
   "id": "d8424038-0d66-460e-a98c-1c45dc7c4871",
   "metadata": {},
   "outputs": [
    {
     "name": "stdout",
     "output_type": "stream",
     "text": [
      "(1, 2, 'hello', (1, 2, 3))\n"
     ]
    }
   ],
   "source": [
    "# 15 create a nested tuples \n",
    "tup15 = (1,2,(\"hello\"),(1,2,3))\n",
    "print(tup15)"
   ]
  },
  {
   "cell_type": "code",
   "execution_count": 36,
   "id": "195c5b2d-111b-46ad-b4e1-013cfe34ce6a",
   "metadata": {},
   "outputs": [
    {
     "data": {
      "text/plain": [
       "'nested'"
      ]
     },
     "execution_count": 36,
     "metadata": {},
     "output_type": "execute_result"
    }
   ],
   "source": [
    "# 16 access the first element of a nestedl tuuples\n",
    "tup16 = (1,2,(\"hello\"),(\"nested\",\"loop\"))\n",
    "tup16[3][0]"
   ]
  },
  {
   "cell_type": "code",
   "execution_count": 43,
   "id": "c47ce432-3dca-4ff1-b0fa-0320ac1a9bd0",
   "metadata": {},
   "outputs": [
    {
     "name": "stdout",
     "output_type": "stream",
     "text": [
      "<class 'tuple'>\n"
     ]
    }
   ],
   "source": [
    "# 17 create a tuple with a single element \n",
    "tup17 = (\"single element\",)\n",
    "print(type(tup17))"
   ]
  },
  {
   "cell_type": "code",
   "execution_count": 45,
   "id": "22593370-ebf3-42f1-8184-4d319d302b41",
   "metadata": {},
   "outputs": [
    {
     "name": "stdout",
     "output_type": "stream",
     "text": [
      "tuple1 == tuple2: False\n",
      "tuple1 != tuple2: True\n",
      "tuple1 < tuple2: True\n",
      "tuple1 <= tuple2: True\n",
      "tuple1 > tuple2: False\n",
      "tuple1 >= tuple2: False\n"
     ]
    }
   ],
   "source": [
    "# 18 compare two tuples\n",
    "# Step 1: Create two tuples\n",
    "tuple1 = (1, 2, 3)\n",
    "tuple2 = (1, 2, 4)\n",
    "\n",
    "# Step 2: Compare the two tuples using comparison operators\n",
    "print(\"tuple1 == tuple2:\", tuple1 == tuple2)  # Equality check\n",
    "print(\"tuple1 != tuple2:\", tuple1 != tuple2)  # Inequality check\n",
    "print(\"tuple1 < tuple2:\", tuple1 < tuple2)    # Less than check\n",
    "print(\"tuple1 <= tuple2:\", tuple1 <= tuple2)  # Less than or equal to check\n",
    "print(\"tuple1 > tuple2:\", tuple1 > tuple2)    # Greater than check\n",
    "print(\"tuple1 >= tuple2:\", tuple1 >= tuple2)  # Greater than or equal to check"
   ]
  },
  {
   "cell_type": "code",
   "execution_count": 47,
   "id": "3cff2b1f-5749-4c7c-b1ed-d8f5c88284e7",
   "metadata": {},
   "outputs": [
    {
     "ename": "SyntaxError",
     "evalue": "invalid syntax (2636810465.py, line 4)",
     "output_type": "error",
     "traceback": [
      "\u001b[1;36m  Cell \u001b[1;32mIn[47], line 4\u001b[1;36m\u001b[0m\n\u001b[1;33m    del\u001b[0m\n\u001b[1;37m       ^\u001b[0m\n\u001b[1;31mSyntaxError\u001b[0m\u001b[1;31m:\u001b[0m invalid syntax\n"
     ]
    }
   ],
   "source": [
    "# 19 deleting a whole tuples \n",
    "tup19 = (1,2,3,4,5,5)\n",
    "del tup19\n",
    "del"
   ]
  },
  {
   "cell_type": "code",
   "execution_count": 50,
   "id": "0773dc76-036e-4160-8e8b-aad959f152bc",
   "metadata": {},
   "outputs": [
    {
     "data": {
      "text/plain": [
       "(1, 2)"
      ]
     },
     "execution_count": 50,
     "metadata": {},
     "output_type": "execute_result"
    }
   ],
   "source": [
    "# 20 slice a tuple\n",
    "tup20 = (1,2,3,4)\n",
    "tup20[0:2]"
   ]
  },
  {
   "cell_type": "code",
   "execution_count": 54,
   "id": "a769c52f-8503-4025-809e-26ea09362586",
   "metadata": {},
   "outputs": [
    {
     "data": {
      "text/plain": [
       "7"
      ]
     },
     "execution_count": 54,
     "metadata": {},
     "output_type": "execute_result"
    }
   ],
   "source": [
    "#21 find the maximum value in tuple \n",
    "tup21 = (1,2,3,4,5,6,7)\n",
    "m = max(tup21)\n",
    "m"
   ]
  },
  {
   "cell_type": "code",
   "execution_count": 2,
   "id": "2c418c33-5a91-4a63-aae9-52071b5deaea",
   "metadata": {},
   "outputs": [
    {
     "data": {
      "text/plain": [
       "1"
      ]
     },
     "execution_count": 2,
     "metadata": {},
     "output_type": "execute_result"
    }
   ],
   "source": [
    "# 22 find the minimum value in a tuple \n",
    "tup22 = (1,2,3,4)\n",
    "mini = min(tup22)\n",
    "mini"
   ]
  },
  {
   "cell_type": "code",
   "execution_count": 30,
   "id": "bc42b17a-b24b-4a9a-9748-717cb19864f3",
   "metadata": {},
   "outputs": [
    {
     "name": "stdin",
     "output_type": "stream",
     "text": [
      "enter the string: i am learning data science \n"
     ]
    },
    {
     "name": "stdout",
     "output_type": "stream",
     "text": [
      "tuples of charatcter are :\n",
      "('i', ' ', 'a', 'm', ' ', 'l', 'e', 'a', 'r', 'n', 'i', 'n', 'g', ' ', 'd', 'a', 't', 'a', ' ', 's', 'c', 'i', 'e', 'n', 'c', 'e')\n"
     ]
    }
   ],
   "source": [
    "# 23 convert a string into tuples of character\n",
    "str23 = input(\"enter the string:\").strip()\n",
    "tup23 = ()\n",
    "for i in str23:\n",
    "        tup23 = tup23+(i,)\n",
    "    \n",
    "\n",
    "print(\"tuples of charatcter are :\")\n",
    "print(tup23)"
   ]
  },
  {
   "cell_type": "code",
   "execution_count": 34,
   "id": "e9d5164e-9ad4-4182-80aa-8d3d3211d266",
   "metadata": {},
   "outputs": [
    {
     "name": "stdout",
     "output_type": "stream",
     "text": [
      "i am learning data science\n"
     ]
    }
   ],
   "source": [
    "#24 convert a tuples of charatcter into a string \n",
    "tup24 = ('i', ' ', 'a', 'm', ' ', 'l', 'e', 'a', 'r', 'n', 'i', 'n', 'g', ' ', 'd', 'a', 't', 'a', ' ', 's', 'c', 'i', 'e', 'n', 'c', 'e')\n",
    "str24 = \"\"\n",
    "for i in tup24:\n",
    "    str24 = str24+i\n",
    "\n",
    "print(str24)"
   ]
  },
  {
   "cell_type": "code",
   "execution_count": 36,
   "id": "f30be8e1-4a99-4237-babf-d7abbc278465",
   "metadata": {},
   "outputs": [
    {
     "name": "stdout",
     "output_type": "stream",
     "text": [
      "(1, 2, 'hello', True)\n"
     ]
    }
   ],
   "source": [
    "# 25 create a tuple of mixed datatype\n",
    "tup25 = (1,2,\"hello\",True)\n",
    "print(tup25)"
   ]
  },
  {
   "cell_type": "code",
   "execution_count": 38,
   "id": "31251ce3-ec9e-4423-a297-507537b5bd7c",
   "metadata": {},
   "outputs": [
    {
     "name": "stdout",
     "output_type": "stream",
     "text": [
      "tuple1 and tuple2 are identical: True\n",
      "tuple1 and tuple3 are identical: False\n",
      "tuple3 and tuple4 are identical : False\n"
     ]
    }
   ],
   "source": [
    "# 26 check if twi tuples are identical\n",
    "tuple1 = (1, 2, 3)\n",
    "tuple2 = (1, 2, 3)\n",
    "tuple3 = (4, 5, 6)\n",
    "tuple4 = (3,2,1)\n",
    "\n",
    "# Step 2: Compare the tuples for identity using the equality operator\n",
    "are_identical1 = tuple1 == tuple2\n",
    "are_identical2 = tuple1 == tuple3\n",
    "are_identical3 = tuple3 == tuple4\n",
    "\n",
    "# Step 3: Print the results\n",
    "print(\"tuple1 and tuple2 are identical:\", are_identical1)\n",
    "print(\"tuple1 and tuple3 are identical:\", are_identical2)\n",
    "print(\"tuple3 and tuple4 are identical :\",are_identical3)"
   ]
  },
  {
   "cell_type": "code",
   "execution_count": 3,
   "id": "18b26614-a154-4341-933f-ca8ac4bec55f",
   "metadata": {},
   "outputs": [
    {
     "name": "stdout",
     "output_type": "stream",
     "text": [
      "[2, 3, 3, 4, 7, 8, 56]\n"
     ]
    }
   ],
   "source": [
    "# 27 sort the element of a tuple \n",
    "tup27 = (3,4,56,2,3,7,8)\n",
    "print(sorted(tup27))"
   ]
  },
  {
   "cell_type": "code",
   "execution_count": 7,
   "id": "67c0b42e-96fe-4706-a2f3-b4e9eb92e59d",
   "metadata": {},
   "outputs": [
    {
     "data": {
      "text/plain": [
       "('1', '2', '23', '45', '67', '87', '98')"
      ]
     },
     "execution_count": 7,
     "metadata": {},
     "output_type": "execute_result"
    }
   ],
   "source": [
    "# 28 convert a tuple of intergers to a list of strings\n",
    "tup28 = (1,2,23,45,67,87,98)\n",
    "tup28_ = ()\n",
    "for i in tup28:\n",
    "    tup28_ = tup28_+(str(i),)\n",
    "\n",
    "tup28_"
   ]
  },
  {
   "cell_type": "code",
   "execution_count": 17,
   "id": "28d422f3-02cb-4542-b63f-27e4f8c5712d",
   "metadata": {},
   "outputs": [
    {
     "data": {
      "text/plain": [
       "(1, 2, 23, 45, 67, 87, 98)"
      ]
     },
     "execution_count": 17,
     "metadata": {},
     "output_type": "execute_result"
    }
   ],
   "source": [
    "# 29 convert a tuples of string into a integer\n",
    "tup29 = ('1', '2', '23', '45', '67', '87', '98')\n",
    "tupnew = ()\n",
    "for k in tup29:\n",
    "    tupnew = tupnew+(int(k),)\n",
    "tupnew\n",
    "                "
   ]
  },
  {
   "cell_type": "code",
   "execution_count": 19,
   "id": "4d19c5c0-b44a-488b-8421-f28cafe33f06",
   "metadata": {},
   "outputs": [
    {
     "name": "stdout",
     "output_type": "stream",
     "text": [
      "(1, 2, 3, 4, 5, 6, 7, 8)\n"
     ]
    }
   ],
   "source": [
    "# 30 merge two tuples \n",
    "t1 = (1,2,3,4,5)\n",
    "t2 = (6,7,8)\n",
    "merge = t1+t2\n",
    "print(merge)"
   ]
  },
  {
   "cell_type": "markdown",
   "id": "94a7d4f5-6b1a-4925-81a2-794f2fdd3be2",
   "metadata": {},
   "source": [
    "### ``` 31. Flatten a nested tuple.```"
   ]
  },
  {
   "cell_type": "code",
   "execution_count": 13,
   "id": "32571db8-3acf-4d8d-985f-a5fa5dd99518",
   "metadata": {},
   "outputs": [
    {
     "name": "stdout",
     "output_type": "stream",
     "text": [
      "Original tuple: ((4, 5), ((4, 7), (8, 9), (10, 11)), ((9, 10), (3, 4)))\n",
      "Flattened tuple: ((4, 5), (4, 7), (8, 9), (10, 11), (9, 10), (3, 4))\n"
     ]
    }
   ],
   "source": [
    "def flatten(test_tuple):\n",
    "    if isinstance(test_tuple, tuple) and len(test_tuple) == 2 and not isinstance(test_tuple[0], tuple):\n",
    "        return tuple([test_tuple])\n",
    "    res = []\n",
    "    for sub in test_tuple:\n",
    "        res += flatten(sub)\n",
    "    return tuple(res)\n",
    "\n",
    "# Example usage\n",
    "test_tuple = ((4, 5), ((4, 7), (8, 9), (10, 11)), ((9, 10), (3, 4)))\n",
    "print(\"Original tuple:\", test_tuple)\n",
    "flattened_tuple = flatten(test_tuple)\n",
    "print(\"Flattened tuple:\", flattened_tuple)\n"
   ]
  },
  {
   "cell_type": "code",
   "execution_count": 9,
   "id": "156d53de-c327-46d2-b75e-1ae8fdaf7b1a",
   "metadata": {},
   "outputs": [
    {
     "data": {
      "text/plain": [
       "(2, 3, 5, 7, 11)"
      ]
     },
     "execution_count": 9,
     "metadata": {},
     "output_type": "execute_result"
    }
   ],
   "source": [
    "# 32 create a tuple of the first 5 prime number \n",
    "l = []\n",
    "count = 0\n",
    "for i in range(2,100):\n",
    "    flag = True\n",
    "    for j in range(2,i):\n",
    "        if i%j==0:\n",
    "            flag = False\n",
    "    if flag:\n",
    "        count = count+1\n",
    "        l.append(i)\n",
    "        if count>=5:\n",
    "            break\n",
    "       \n",
    "tup32 = tuple(l)\n",
    "tup32\n",
    "        \n",
    "            \n",
    "            \n",
    "            "
   ]
  },
  {
   "cell_type": "code",
   "execution_count": 13,
   "id": "2f2ddd8f-97bd-46f7-919e-c57fc1f614d2",
   "metadata": {},
   "outputs": [
    {
     "name": "stdout",
     "output_type": "stream",
     "text": [
      "tuple is pallindrome\n"
     ]
    }
   ],
   "source": [
    "# 33 check if a tuple is a pallindrome or not \n",
    "tup1 = (1,2,3,3,2,1)\n",
    "if tup1[::] ==tup1[::-1]:\n",
    "    print(\"tuple is pallindrome\")\n",
    "\n",
    "else:\n",
    "    print(\"no its not pallindrome :\")"
   ]
  },
  {
   "cell_type": "code",
   "execution_count": 26,
   "id": "cce06dbc-94d4-45b2-b8fe-c27a21798c11",
   "metadata": {},
   "outputs": [
    {
     "data": {
      "text/plain": [
       "(1, 4, 9, 16, 25)"
      ]
     },
     "execution_count": 26,
     "metadata": {},
     "output_type": "execute_result"
    }
   ],
   "source": [
    "# 34 create a tuple of square of number from 1 to 5 \n",
    "l = [i**2 for i in range(1,6)]\n",
    "l = tuple(l)\n",
    "l"
   ]
  },
  {
   "cell_type": "code",
   "execution_count": 38,
   "id": "bbfac270-c165-47e1-93d3-3444e72a0aba",
   "metadata": {},
   "outputs": [
    {
     "data": {
      "text/plain": [
       "(1, 3, 5, 7, 9, 13, 55)"
      ]
     },
     "execution_count": 38,
     "metadata": {},
     "output_type": "execute_result"
    }
   ],
   "source": [
    "# 35 filter out all the even numbers from a tuple\n",
    "tup35 = (1,2,3,4,5,6,7,8,8,9,10,12,13,34,55)\n",
    "tup_even = tuple(i for i in tup35 if i%2!=0)\n",
    "tup_even"
   ]
  },
  {
   "cell_type": "code",
   "execution_count": 40,
   "id": "5047578c-2091-437c-b6d5-32aeb4139b19",
   "metadata": {},
   "outputs": [
    {
     "data": {
      "text/plain": [
       "(2, 4, 6, 8, 10, 12, 14, 16, 18)"
      ]
     },
     "execution_count": 40,
     "metadata": {},
     "output_type": "execute_result"
    }
   ],
   "source": [
    "# 36 multiply all the elements in a tuple by 2\n",
    "tup36 = (1,2,3,4,5,6,7,8,9)\n",
    "l = tuple(i*2 for i in tup36)\n",
    "l\n"
   ]
  },
  {
   "cell_type": "code",
   "execution_count": 51,
   "id": "7104a053-d79c-41bd-b856-0a8fe64fe721",
   "metadata": {},
   "outputs": [
    {
     "data": {
      "text/plain": [
       "(57, 69, 79, 55, 32, 87, 75, 17, 57, 17)"
      ]
     },
     "execution_count": 51,
     "metadata": {},
     "output_type": "execute_result"
    }
   ],
   "source": [
    "# 37 create a tuple of random number \n",
    "import random \n",
    "tup37 = ()\n",
    "for i in range(0,10):\n",
    "    tup37 = tup37+(random.randint(1,100),)\n",
    "\n",
    "tup37"
   ]
  },
  {
   "cell_type": "code",
   "execution_count": 56,
   "id": "0e276abf-9a2a-4fe8-8be8-bfab2f582a4c",
   "metadata": {},
   "outputs": [
    {
     "name": "stdout",
     "output_type": "stream",
     "text": [
      "True\n",
      "False\n"
     ]
    }
   ],
   "source": [
    "# 38 check if a tuple is sorted or not \n",
    "# Create tuples for testing\n",
    "sorted_tuple = (1, 2, 3, 4, 5)\n",
    "unsorted_tuple = (5, 3, 1, 4, 2)\n",
    "def issorted(tup):\n",
    "    for i in range(len(tup)-1):\n",
    "        if tup[i]>tup[i+1]:\n",
    "            return False\n",
    "        else :\n",
    "            return True\n",
    "\n",
    "print(issorted(sorted_tuple))\n",
    "print(issorted(unsorted_tuple))\n",
    "    "
   ]
  },
  {
   "cell_type": "code",
   "execution_count": 60,
   "id": "891880cf-e001-4918-a1d0-384fe68f7fa7",
   "metadata": {},
   "outputs": [
    {
     "name": "stdin",
     "output_type": "stream",
     "text": [
      "enter the value of n : 2\n"
     ]
    },
    {
     "data": {
      "text/plain": [
       "(3, 4, 5, 6, 7, 8, 9, 1, 2)"
      ]
     },
     "execution_count": 60,
     "metadata": {},
     "output_type": "execute_result"
    }
   ],
   "source": [
    "# 39 rotate a tuple to the left by n position \n",
    "tup39 = (1,2,3,4,5,6,7,8,9)\n",
    "n = int(input(\"enter the value of n :\"))\n",
    "rotate_tup = tup39[n::]+tup39[0:n]\n",
    "rotate_tup"
   ]
  },
  {
   "cell_type": "markdown",
   "id": "b86edf19-3506-48be-9000-b38a7b9efbd9",
   "metadata": {},
   "source": [
    "### ```40 rotate a tuple to the right by the nth position```\n"
   ]
  },
  {
   "cell_type": "code",
   "execution_count": 15,
   "id": "4dfc3140-a844-424a-837b-3de3e446980a",
   "metadata": {},
   "outputs": [
    {
     "name": "stdout",
     "output_type": "stream",
     "text": [
      "(4, 5, 6, 1, 2, 3)\n"
     ]
    }
   ],
   "source": [
    "def right_rotate_tuple(tup, n):\n",
    "    if not tup or not n:\n",
    "        return tup\n",
    "    n %= len(tup)\n",
    "    return tup[-n:] + tup[:-n]\n",
    "\n",
    "# Example usage\n",
    "sample_tuple = (1, 2, 3, 4, 5, 6)\n",
    "rotate_num = 3\n",
    "rotated_tuple = right_rotate_tuple(sample_tuple, rotate_num)\n",
    "print(rotated_tuple)  # Output: (4, 5, 6, 1, 2, 3)\n"
   ]
  },
  {
   "cell_type": "code",
   "execution_count": 93,
   "id": "4dad6d41-f320-436d-8291-687c8acdd94e",
   "metadata": {},
   "outputs": [
    {
     "data": {
      "text/plain": [
       "(0, 1, 1, 2, 3)"
      ]
     },
     "execution_count": 93,
     "metadata": {},
     "output_type": "execute_result"
    }
   ],
   "source": [
    "# 41 create a tuple of 5 fibonacci numbers\n",
    "# 0, 1, 1, 2, 3, 5, 8, 13, 21, 34 this is fibonacci sequence \n",
    "n1 = 0\n",
    "n2 = 1 \n",
    "tup41 = ()\n",
    "for i in range(1,6):\n",
    "    tup41 = tup41+(n1,)\n",
    "    n = n1+n2 #1 2 3\n",
    "    n1 = n2 # 1 1 2\n",
    "    n2 = n\n",
    "tup41\n",
    "    "
   ]
  },
  {
   "cell_type": "markdown",
   "id": "d19eab6e-2e3d-4f78-8a63-5d77c1c66a17",
   "metadata": {},
   "source": [
    "### ```42 Create a tuple from user input```"
   ]
  },
  {
   "cell_type": "code",
   "execution_count": 21,
   "id": "bfefadae-da6c-4169-b77a-d3c9b4758b05",
   "metadata": {},
   "outputs": [
    {
     "name": "stdin",
     "output_type": "stream",
     "text": [
      "enter the comma seprerated value  hi,1,2,3,true,false\n"
     ]
    },
    {
     "name": "stdout",
     "output_type": "stream",
     "text": [
      "the user generated tuple is : ('hi', 1, 2, 3, True, False)\n"
     ]
    }
   ],
   "source": [
    "tup42 = input(\"enter the comma seprerated value \").split(\",\")\n",
    "l = []\n",
    "for i in tup42:\n",
    "    if i.isdigit():\n",
    "        l.append(int(i))\n",
    "    elif i.lower() == \"false\":\n",
    "        l.append(False)\n",
    "    elif i.lower() == \"true\":\n",
    "        l.append(True)\n",
    "    else:\n",
    "        l.append(i)\n",
    "\n",
    "dynamic_tup = tuple(l)\n",
    "print(\"the user generated tuple is :\",dynamic_tup)\n",
    "        \n",
    "\n"
   ]
  },
  {
   "cell_type": "markdown",
   "id": "25daa95c-4704-4287-aa83-0bf143518d0f",
   "metadata": {},
   "source": [
    "### ```43 Swapping the values in tuples```"
   ]
  },
  {
   "cell_type": "code",
   "execution_count": 17,
   "id": "b377acd6-35df-4858-a039-8419d19b1b7e",
   "metadata": {},
   "outputs": [
    {
     "name": "stdout",
     "output_type": "stream",
     "text": [
      "Original tuple: (3, 7)\n",
      "Swapped tuple: (7, 3)\n"
     ]
    }
   ],
   "source": [
    "#43 swapping two elements in a tuples\n",
    "# Example tuple\n",
    "sample_tuple = (3, 7)\n",
    "\n",
    "# Swap the values\n",
    "swapped_tuple = (sample_tuple[1], sample_tuple[0])\n",
    "\n",
    "print(\"Original tuple:\", sample_tuple)\n",
    "print(\"Swapped tuple:\", swapped_tuple)\n"
   ]
  },
  {
   "cell_type": "code",
   "execution_count": 28,
   "id": "1f44c802-c6a0-4a1b-95a9-dfe0e74b5dda",
   "metadata": {},
   "outputs": [
    {
     "data": {
      "text/plain": [
       "(5, 4, 3, 2, 1)"
      ]
     },
     "execution_count": 28,
     "metadata": {},
     "output_type": "execute_result"
    }
   ],
   "source": [
    "# 44 reverse the element of  a tuple \n",
    "tup44 = (1,2,3,4,5)\n",
    "rev = tup44[::-1]\n",
    "rev"
   ]
  },
  {
   "cell_type": "code",
   "execution_count": 32,
   "id": "e1338c1d-0b25-4bc8-9c44-022d884e7054",
   "metadata": {},
   "outputs": [
    {
     "name": "stdin",
     "output_type": "stream",
     "text": [
      "enter the value of n  5\n"
     ]
    },
    {
     "data": {
      "text/plain": [
       "(2, 4, 8, 16)"
      ]
     },
     "execution_count": 32,
     "metadata": {},
     "output_type": "execute_result"
    }
   ],
   "source": [
    "# 45 cerate a tuple of first n power of 2 \n",
    "n = int(input(\"enter the value of n \"))\n",
    "tup45 = tuple(2**i for i in range(1,n))\n",
    "tup45"
   ]
  },
  {
   "cell_type": "code",
   "execution_count": 44,
   "id": "fe17d538-3bc4-45a6-9335-6926015a120f",
   "metadata": {},
   "outputs": [
    {
     "name": "stdin",
     "output_type": "stream",
     "text": [
      "enter the string words in comma seperated to make a tuple of string : this,four\n"
     ]
    },
    {
     "name": "stdout",
     "output_type": "stream",
     "text": [
      "the longest word in tuple ('this', 'four') is :\n",
      "this\n",
      "four\n"
     ]
    }
   ],
   "source": [
    "# 46 find the longest string in the tuple of strings\n",
    "tup42 = input(\"enter the string words in comma seperated to make a tuple of string :\").split(\",\") # we made a list of all the words\n",
    "dicti = {}\n",
    "tuple1 = tuple(tup42)\n",
    "\n",
    "\n",
    "print(f\"the longest word in tuple {tuple1} is :\")\n",
    "for i in tuple1:\n",
    "    dicti[i] = len(i)\n",
    "\n",
    "for (key,value) in dicti.items():\n",
    "    if value == max(dicti.values()):\n",
    "        print(key)\n"
   ]
  },
  {
   "cell_type": "code",
   "execution_count": 46,
   "id": "294b1c56-da48-4a04-966d-8744d7804e32",
   "metadata": {},
   "outputs": [
    {
     "name": "stdin",
     "output_type": "stream",
     "text": [
      "enter the string words in comma seperated to make a tuple of string : hi,this,is\n"
     ]
    },
    {
     "name": "stdout",
     "output_type": "stream",
     "text": [
      "the shortest word in tuple ('hi', 'this', 'is') is :\n",
      "hi\n",
      "is\n"
     ]
    }
   ],
   "source": [
    "# 47 the stortest string in the tuple of string is \n",
    "tup42 = input(\"enter the string words in comma seperated to make a tuple of string :\").split(\",\") # we made a list of all the words\n",
    "dicti = {}\n",
    "tuple1 = tuple(tup42)\n",
    "\n",
    "\n",
    "print(f\"the shortest word in tuple {tuple1} is :\")\n",
    "for i in tuple1:\n",
    "    dicti[i] = len(i)\n",
    "\n",
    "for (key,value) in dicti.items():\n",
    "    if value == min(dicti.values()):\n",
    "        print(key)"
   ]
  },
  {
   "cell_type": "code",
   "execution_count": 60,
   "id": "fef63927-21f8-402e-b063-f47a681b9316",
   "metadata": {},
   "outputs": [
    {
     "name": "stdin",
     "output_type": "stream",
     "text": [
      "enter the n value till you want triangular number tuple : 5\n"
     ]
    },
    {
     "name": "stdout",
     "output_type": "stream",
     "text": [
      "the tuples of triangular number are : (1, 3, 6, 10, 15)\n"
     ]
    }
   ],
   "source": [
    "# 48 tuple of first n triangular number \n",
    "tup48 = ()\n",
    "n = int(input(\"enter the n value till you want triangular number tuple :\"))\n",
    "for i in range(1,n+1):\n",
    "    tup48 = tup48+(int((i*(i+1))/2),)\n",
    "\n",
    "print(\"the tuples of triangular number are :\",tup48)"
   ]
  },
  {
   "cell_type": "markdown",
   "id": "0d504c5d-cc8c-4d70-ba58-53c042d6c8b8",
   "metadata": {},
   "source": [
    "### ``` 49 check if a tuple contains another tuples as a subsequence ```"
   ]
  },
  {
   "cell_type": "code",
   "execution_count": null,
   "id": "4d6d2a7c-529d-416c-8262-3d23eef056f8",
   "metadata": {},
   "outputs": [],
   "source": [
    "# 49 check if a tuple contains another tuples as a subsequence \n",
    "tup49 = (1,2,3,(4,5,6,7)) # this is 2d tuple means there is one tuple inside the tuple \n",
    "\n",
    "\n"
   ]
  },
  {
   "cell_type": "markdown",
   "id": "1e591c22-c218-4ff7-bd8d-85da8d597f68",
   "metadata": {},
   "source": [
    "### ``` 50. Create a tuple of alternating 1s and 0s of length n.```"
   ]
  },
  {
   "cell_type": "code",
   "execution_count": 65,
   "id": "de352591-9b54-429b-9777-3684c80d26e6",
   "metadata": {},
   "outputs": [
    {
     "name": "stdin",
     "output_type": "stream",
     "text": [
      "enter the n value : 6\n"
     ]
    },
    {
     "data": {
      "text/plain": [
       "(1, 0, 1, 0, 1, 0)"
      ]
     },
     "execution_count": 65,
     "metadata": {},
     "output_type": "execute_result"
    }
   ],
   "source": [
    "n = int(input(\"enter the n value :\"))\n",
    "tup50 = tuple(i%2 for i in range(1,n+1))\n",
    "tup50"
   ]
  },
  {
   "cell_type": "markdown",
   "id": "f26e5db6-ac84-4973-ba0e-c15224fbad95",
   "metadata": {},
   "source": [
    "### ```SETS BASED PRACTICE PROBLEMS```"
   ]
  },
  {
   "cell_type": "code",
   "execution_count": 87,
   "id": "4702ed92-74ef-4880-b6b6-93687052657f",
   "metadata": {},
   "outputs": [
    {
     "name": "stdin",
     "output_type": "stream",
     "text": [
      "enter the numbers in comma seperated : 1,2,3\n"
     ]
    },
    {
     "data": {
      "text/plain": [
       "{1, 2, 3}"
      ]
     },
     "execution_count": 87,
     "metadata": {},
     "output_type": "execute_result"
    }
   ],
   "source": [
    "# 1. Create a set with integers from 1 to 5.\n",
    "setl1 = input(\"enter the numbers in comma seperated :\").split(\",\")\n",
    "set1 = set()\n",
    "for i in setl1:\n",
    "    set1.add(int(i))\n",
    "\n",
    "set1"
   ]
  },
  {
   "cell_type": "code",
   "execution_count": 89,
   "id": "de9602cd-561b-4809-a7d7-894d590bdbba",
   "metadata": {},
   "outputs": [
    {
     "data": {
      "text/plain": [
       "{1, 2, 3, 4}"
      ]
     },
     "execution_count": 89,
     "metadata": {},
     "output_type": "execute_result"
    }
   ],
   "source": [
    "# 2 add an element to a set \n",
    "s2 = {1, 2, 3}\n",
    "s2.add(4)\n",
    "s2"
   ]
  },
  {
   "cell_type": "code",
   "execution_count": 3,
   "id": "f601fdcb-a0b0-440e-b9cc-5e8a173bbd3a",
   "metadata": {},
   "outputs": [
    {
     "data": {
      "text/plain": [
       "{1, 3, 4, 5}"
      ]
     },
     "execution_count": 3,
     "metadata": {},
     "output_type": "execute_result"
    }
   ],
   "source": [
    "# 3 remove an element from a set \n",
    "s3 = {1,2,3,4,5}\n",
    "s3.discard(2)\n",
    "s3"
   ]
  },
  {
   "cell_type": "code",
   "execution_count": 7,
   "id": "84396c33-f6d1-417b-a59e-435ba800ba56",
   "metadata": {},
   "outputs": [
    {
     "name": "stdin",
     "output_type": "stream",
     "text": [
      "enter the integer value you want to find: 9\n"
     ]
    },
    {
     "name": "stdout",
     "output_type": "stream",
     "text": [
      "no\n"
     ]
    }
   ],
   "source": [
    "# 4 check if an element exist in a set or not \n",
    "s4 = {1,2,3,4,5,6,7}\n",
    "ele = int(input(\"enter the integer value you want to find:\") )\n",
    "if ele in s4:\n",
    "    print(\"it is found\")\n",
    "\n",
    "else:\n",
    "    print(\"no\")\n",
    "    "
   ]
  },
  {
   "cell_type": "code",
   "execution_count": 9,
   "id": "6b3529d4-82c9-47af-b991-c1b5037aa15c",
   "metadata": {},
   "outputs": [
    {
     "data": {
      "text/plain": [
       "6"
      ]
     },
     "execution_count": 9,
     "metadata": {},
     "output_type": "execute_result"
    }
   ],
   "source": [
    "# 5 find the lenght of a set without using the len function \n",
    "s5 = {1,2,3,4,5,6}\n",
    "count = 0\n",
    "for i in s5:\n",
    "    count += 1\n",
    "\n",
    "count"
   ]
  },
  {
   "cell_type": "code",
   "execution_count": 13,
   "id": "4024629b-027a-4575-aabf-f4e9ec9e6c7a",
   "metadata": {},
   "outputs": [
    {
     "data": {
      "text/plain": [
       "set()"
      ]
     },
     "execution_count": 13,
     "metadata": {},
     "output_type": "execute_result"
    }
   ],
   "source": [
    "# 6 clear all elements from set \n",
    "s6 = {1,2,3,4}\n",
    "s6.clear() # it will make set empty set \n",
    "s6"
   ]
  },
  {
   "cell_type": "code",
   "execution_count": 15,
   "id": "447ce601-6238-4fb1-9e36-d7a9c066a5f6",
   "metadata": {},
   "outputs": [
    {
     "data": {
      "text/plain": [
       "{2, 4, 6, 8, 10}"
      ]
     },
     "execution_count": 15,
     "metadata": {},
     "output_type": "execute_result"
    }
   ],
   "source": [
    "#  7 create a set of even numbers from 1 to 10 \n",
    "s7 = set()\n",
    "for i in range(1,11):\n",
    "    if i%2 ==0:\n",
    "        s7.add(i)\n",
    "\n",
    "s7"
   ]
  },
  {
   "cell_type": "code",
   "execution_count": 17,
   "id": "6efd88f7-50df-4a2b-9993-2a87b28d3748",
   "metadata": {},
   "outputs": [
    {
     "data": {
      "text/plain": [
       "{1, 3, 5, 7, 9}"
      ]
     },
     "execution_count": 17,
     "metadata": {},
     "output_type": "execute_result"
    }
   ],
   "source": [
    "# 8 create a set of odd numbers from 1 to 10 \n",
    "s8 = set()\n",
    "for i in range(1,11):\n",
    "    if i%2!=0:\n",
    "        s8.add(i)\n",
    "\n",
    "s8"
   ]
  },
  {
   "cell_type": "code",
   "execution_count": 25,
   "id": "dae46cd0-d7ef-4cd7-946e-83a832aa1e50",
   "metadata": {},
   "outputs": [
    {
     "data": {
      "text/plain": [
       "{1, 2, 3, 4, 5, 6, 7, 8}"
      ]
     },
     "execution_count": 25,
     "metadata": {},
     "output_type": "execute_result"
    }
   ],
   "source": [
    "# 9 find the union of two sets \n",
    "s9 = {1,2,3,4}\n",
    "s9_ = {5,6,7,8}\n",
    "un = s9.union(s9_)\n",
    "un "
   ]
  },
  {
   "cell_type": "code",
   "execution_count": 27,
   "id": "b47d54a3-5655-4bb0-bb4e-158675a7ea70",
   "metadata": {},
   "outputs": [
    {
     "data": {
      "text/plain": [
       "{3, 4}"
      ]
     },
     "execution_count": 27,
     "metadata": {},
     "output_type": "execute_result"
    }
   ],
   "source": [
    "# 10 find the interesection of two sets\n",
    "s10 = {1,2,3,4,5}\n",
    "s10_ = {3,4,6,7,8,9}\n",
    "inter = s10.intersection(s10_)\n",
    "inter"
   ]
  },
  {
   "cell_type": "code",
   "execution_count": 31,
   "id": "42cd1058-d667-443e-98b2-f9c7e216e5b9",
   "metadata": {},
   "outputs": [
    {
     "data": {
      "text/plain": [
       "{1, 2, 3, 6, 7}"
      ]
     },
     "execution_count": 31,
     "metadata": {},
     "output_type": "execute_result"
    }
   ],
   "source": [
    "# 11 find the difference between two sets \n",
    "s11 = {1,2,3,4,5,6,7}\n",
    "s12 = {4,5,8,9}\n",
    "diff = s11-s12 # differe in set means, the element which are in s11 and not in s12\n",
    "diff"
   ]
  },
  {
   "cell_type": "code",
   "execution_count": 33,
   "id": "62db487b-ffb6-423f-a88b-d9547b5eff42",
   "metadata": {},
   "outputs": [
    {
     "data": {
      "text/plain": [
       "True"
      ]
     },
     "execution_count": 33,
     "metadata": {},
     "output_type": "execute_result"
    }
   ],
   "source": [
    "# 12 check if a set is subset of another set \n",
    "s12 = {1,2,3,4,5,6}\n",
    "s12_ = {1,3,6}\n",
    "s12_.issubset(s12)"
   ]
  },
  {
   "cell_type": "code",
   "execution_count": 37,
   "id": "c9b8bbf9-28d2-4348-883a-0daf233aaed2",
   "metadata": {},
   "outputs": [
    {
     "data": {
      "text/plain": [
       "True"
      ]
     },
     "execution_count": 37,
     "metadata": {},
     "output_type": "execute_result"
    }
   ],
   "source": [
    "# 13 check if a set is superset of another set \n",
    "s13 = {1,2,3,4,5,6,7,88}\n",
    "s13_ = {3,4}\n",
    "s13.issuperset(s13_)"
   ]
  },
  {
   "cell_type": "code",
   "execution_count": 39,
   "id": "f39cd198-86f2-443e-a1e9-9ac6d47509d1",
   "metadata": {},
   "outputs": [
    {
     "data": {
      "text/plain": [
       "{1, 2, 3, 5, 6, 7, 77}"
      ]
     },
     "execution_count": 39,
     "metadata": {},
     "output_type": "execute_result"
    }
   ],
   "source": [
    "# 14 create a set from a list \n",
    "ls14 = [1,2,3,5,5,6,7,7,77]\n",
    "s14 = set(ls14)\n",
    "s14"
   ]
  },
  {
   "cell_type": "code",
   "execution_count": 41,
   "id": "116018f0-8ca7-4403-8195-0cfe0ddb6161",
   "metadata": {},
   "outputs": [
    {
     "data": {
      "text/plain": [
       "[1, 2, 3, 5, 6, 7, 77]"
      ]
     },
     "execution_count": 41,
     "metadata": {},
     "output_type": "execute_result"
    }
   ],
   "source": [
    "# 15 convert a set to a list \n",
    "s15 = {1, 2, 3, 5, 6, 7, 77}\n",
    "ls15 = list(s15)\n",
    "ls15"
   ]
  },
  {
   "cell_type": "markdown",
   "id": "9881f420-52e8-4a43-a3ed-f1ba6664cab8",
   "metadata": {},
   "source": [
    "### ``` 16 remove a random element from a set ```"
   ]
  },
  {
   "cell_type": "code",
   "execution_count": 65,
   "id": "f6489919-bf2c-4516-a7d9-a5166008ab36",
   "metadata": {},
   "outputs": [
    {
     "ename": "TypeError",
     "evalue": "'set' object is not subscriptable",
     "output_type": "error",
     "traceback": [
      "\u001b[1;31m---------------------------------------------------------------------------\u001b[0m",
      "\u001b[1;31mTypeError\u001b[0m                                 Traceback (most recent call last)",
      "Cell \u001b[1;32mIn[65], line 4\u001b[0m\n\u001b[0;32m      2\u001b[0m \u001b[38;5;28;01mimport\u001b[39;00m \u001b[38;5;21;01mrandom\u001b[39;00m \n\u001b[0;32m      3\u001b[0m s16 \u001b[38;5;241m=\u001b[39m {\u001b[38;5;241m1\u001b[39m,\u001b[38;5;241m2\u001b[39m,\u001b[38;5;241m3\u001b[39m,\u001b[38;5;241m4\u001b[39m,\u001b[38;5;241m5\u001b[39m,\u001b[38;5;241m6\u001b[39m,\u001b[38;5;241m7\u001b[39m}\n\u001b[1;32m----> 4\u001b[0m random_ele \u001b[38;5;241m=\u001b[39m random\u001b[38;5;241m.\u001b[39mchoice(s16)\n\u001b[0;32m      5\u001b[0m s16\u001b[38;5;241m.\u001b[39mdiscard(random_ele)\n\u001b[0;32m      6\u001b[0m s16\n",
      "File \u001b[1;32m~\\anaconda3\\Lib\\random.py:374\u001b[0m, in \u001b[0;36mRandom.choice\u001b[1;34m(self, seq)\u001b[0m\n\u001b[0;32m    372\u001b[0m \u001b[38;5;28;01mif\u001b[39;00m \u001b[38;5;129;01mnot\u001b[39;00m \u001b[38;5;28mlen\u001b[39m(seq):\n\u001b[0;32m    373\u001b[0m     \u001b[38;5;28;01mraise\u001b[39;00m \u001b[38;5;167;01mIndexError\u001b[39;00m(\u001b[38;5;124m'\u001b[39m\u001b[38;5;124mCannot choose from an empty sequence\u001b[39m\u001b[38;5;124m'\u001b[39m)\n\u001b[1;32m--> 374\u001b[0m \u001b[38;5;28;01mreturn\u001b[39;00m seq[\u001b[38;5;28mself\u001b[39m\u001b[38;5;241m.\u001b[39m_randbelow(\u001b[38;5;28mlen\u001b[39m(seq))]\n",
      "\u001b[1;31mTypeError\u001b[0m: 'set' object is not subscriptable"
     ]
    }
   ],
   "source": [
    "# 16 remove a random element from a set \n",
    "import random \n",
    "s16 = {1,2,3,4,5,6,7}\n",
    "random_ele = random.choice(s16)\n",
    "s16.discard(random_ele)\n",
    "s16"
   ]
  },
  {
   "cell_type": "code",
   "execution_count": 70,
   "id": "567d578c-db3a-49af-bf0f-86939d77a598",
   "metadata": {},
   "outputs": [
    {
     "data": {
      "text/plain": [
       "{2, 3, 4, 5, 6}"
      ]
     },
     "execution_count": 70,
     "metadata": {},
     "output_type": "execute_result"
    }
   ],
   "source": [
    "# 17 pop an element from a set \n",
    "s17 = {1,2,3,4,5,6}\n",
    "popval = s17.pop() # in set the pop function works different it randomly dekete any value \n",
    "s17"
   ]
  },
  {
   "cell_type": "code",
   "execution_count": 75,
   "id": "ed98b5c8-55e3-4bb3-91e4-8ec8517dc0ae",
   "metadata": {},
   "outputs": [
    {
     "name": "stdout",
     "output_type": "stream",
     "text": [
      "yes there is common element\n"
     ]
    }
   ],
   "source": [
    "# 18 check if two sets have no element in common \n",
    "s18 = {1,2,3,4,5,6,7}\n",
    "s18_ = {8,9,10,3}\n",
    "inter = s18_.intersection(s18)\n",
    "if not inter:\n",
    "    print(\"nothing is common\")\n",
    "\n",
    "else:\n",
    "    print(\"yes there is common element\")\n",
    "    \n"
   ]
  },
  {
   "cell_type": "code",
   "execution_count": 77,
   "id": "c2424fe2-c1e6-4310-8f28-065d8ab781de",
   "metadata": {},
   "outputs": [
    {
     "data": {
      "text/plain": [
       "{0, 1, 2, 3, 4, 5, 8}"
      ]
     },
     "execution_count": 77,
     "metadata": {},
     "output_type": "execute_result"
    }
   ],
   "source": [
    "# 19 find the symmetric difference between two sets \n",
    "\n",
    "s19 = {1,2,3,4,5,6,7}\n",
    "s19_ = {6,7,8,0}\n",
    "# you can say symmetric difference is union of set - intersection of set \n",
    "s19^s19_"
   ]
  },
  {
   "cell_type": "code",
   "execution_count": 87,
   "id": "e1694875-6023-4f79-b737-92b8df6d39ce",
   "metadata": {},
   "outputs": [
    {
     "name": "stdout",
     "output_type": "stream",
     "text": [
      "set1 is {1, 2, 3, 4, 5, 6}\n",
      "set20_ is {8, 9, 7}\n",
      "upated set : {1, 2, 3, 4, 5, 6, 7, 8, 9}\n"
     ]
    }
   ],
   "source": [
    "# 20 update a set with elements from another set \n",
    "s20 = {1,2,3,4,5,6}\n",
    "print(f\"set1 is {s20}\")\n",
    "s20_ = {7,8,9}\n",
    "print(f\"set20_ is {s20_}\")\n",
    "s20.update(s20_)\n",
    "s20\n",
    "print(\"upated set :\",s20)"
   ]
  },
  {
   "cell_type": "code",
   "execution_count": 93,
   "id": "589572a6-f5f6-4b94-915d-75a30fd5a2a1",
   "metadata": {},
   "outputs": [
    {
     "data": {
      "text/plain": [
       "{2, 3, 5, 7, 11}"
      ]
     },
     "execution_count": 93,
     "metadata": {},
     "output_type": "execute_result"
    }
   ],
   "source": [
    "# 21 create a set of 5 prime numbers\n",
    "count = 0\n",
    "s21 = set()\n",
    "for i in range(2,50):\n",
    "    flag = True\n",
    "    for j in range(2,i):\n",
    "        if i%j==0:\n",
    "            flag = False\n",
    "    if flag:\n",
    "        count+=1\n",
    "        s21.add(i)\n",
    "        if count ==5:\n",
    "            break\n",
    "\n",
    "s21\n",
    "        \n",
    "\n",
    "    "
   ]
  },
  {
   "cell_type": "code",
   "execution_count": 99,
   "id": "bed7f0dd-84ac-4b62-8d7b-9e9295a80d02",
   "metadata": {},
   "outputs": [
    {
     "name": "stdout",
     "output_type": "stream",
     "text": [
      "yes two sets are identical\n"
     ]
    }
   ],
   "source": [
    "# 22 check if two sets ar identical or not \n",
    "s22 = {1,2,3,4}\n",
    "s22_ = {3,2,4,1}\n",
    "if s22== s22_:\n",
    "    print(\"yes two sets are identical\")\n",
    "\n",
    "else:\n",
    "    print(\"no they are not identical\")"
   ]
  },
  {
   "cell_type": "markdown",
   "id": "5d9451f6-d52a-4e4f-a12e-1ec9d30e7449",
   "metadata": {},
   "source": [
    "### ```23  Create  a frozen set ```"
   ]
  },
  {
   "cell_type": "code",
   "execution_count": 104,
   "id": "fbd2fd13-a6be-4dc1-83ea-87b7792f248c",
   "metadata": {},
   "outputs": [
    {
     "data": {
      "text/plain": [
       "frozenset({1, 2, 3, 4})"
      ]
     },
     "execution_count": 104,
     "metadata": {},
     "output_type": "execute_result"
    }
   ],
   "source": [
    "fs = frozenset([1,2,3,3,4]) # frozen sets are similar to set but they are immutable in nature \n",
    "fs"
   ]
  },
  {
   "cell_type": "code",
   "execution_count": 108,
   "id": "66750b92-5dcc-48f0-bc86-bd6d673e4e21",
   "metadata": {},
   "outputs": [
    {
     "data": {
      "text/plain": [
       "True"
      ]
     },
     "execution_count": 108,
     "metadata": {},
     "output_type": "execute_result"
    }
   ],
   "source": [
    "# 24 check if a set is a disjoint \n",
    "# of no elements is common between two sets then the sets are considered as disjoint \n",
    "s24 = {1,2,3,4}\n",
    "s24_ = {5,6,7}\n",
    "s24.isdisjoint(s24_)"
   ]
  },
  {
   "cell_type": "code",
   "execution_count": 110,
   "id": "72e26e36-8d9b-4b83-85e9-bd00db43d8b5",
   "metadata": {},
   "outputs": [
    {
     "data": {
      "text/plain": [
       "{1, 4, 9, 16, 25}"
      ]
     },
     "execution_count": 110,
     "metadata": {},
     "output_type": "execute_result"
    }
   ],
   "source": [
    "# 25 create a set of squares of numbers from 1 to 5 \n",
    "s25 = set(i**2 for i in range(1,6))\n",
    "s25"
   ]
  },
  {
   "cell_type": "code",
   "execution_count": 116,
   "id": "23a038a9-99de-4096-b804-650b91ccb67a",
   "metadata": {},
   "outputs": [
    {
     "data": {
      "text/plain": [
       "{1, 3, 5, 7, 9}"
      ]
     },
     "execution_count": 116,
     "metadata": {},
     "output_type": "execute_result"
    }
   ],
   "source": [
    "# 26 filter out all the even number from a set \n",
    "s26 = {1,2,3,4,5,6,7,8,9}\n",
    "s27 = set(i for i in s26 if i%2!=0)\n",
    "s27"
   ]
  },
  {
   "cell_type": "code",
   "execution_count": 118,
   "id": "71593e2c-eb60-47d4-ae38-b380f5741123",
   "metadata": {},
   "outputs": [
    {
     "data": {
      "text/plain": [
       "{2, 4, 6, 8, 10, 12}"
      ]
     },
     "execution_count": 118,
     "metadata": {},
     "output_type": "execute_result"
    }
   ],
   "source": [
    "# 27 multiply all elements in a set by 2 \n",
    "s27 = {1,2,3,4,5,6}\n",
    "s27 = set(i*2 for i in range(1,7))\n",
    "s27"
   ]
  },
  {
   "cell_type": "code",
   "execution_count": 122,
   "id": "3fde0460-e55c-4eae-82e6-95de4d747fad",
   "metadata": {},
   "outputs": [
    {
     "data": {
      "text/plain": [
       "{1, 2, 3, 5, 7, 8, 9, 10}"
      ]
     },
     "execution_count": 122,
     "metadata": {},
     "output_type": "execute_result"
    }
   ],
   "source": [
    "# 28 create a set of random numbers \n",
    "s28 = set() # empty set \n",
    "for i in range(1,11):\n",
    "    s28.add(random.randint(1,10))\n",
    "\n",
    "s28"
   ]
  },
  {
   "cell_type": "code",
   "execution_count": 126,
   "id": "2df46dbf-e000-4c42-83ed-c3c477f09c0d",
   "metadata": {},
   "outputs": [
    {
     "name": "stdout",
     "output_type": "stream",
     "text": [
      "yes this is empty\n"
     ]
    }
   ],
   "source": [
    "# 29 check if a set is empty or not \n",
    "s29 = set()\n",
    "if not s29:  # if not false , in python empty containers liek empty list string or dictionary are considered as False value \n",
    "    print(\"yes this is empty\")\n",
    "\n",
    "else:\n",
    "    print(\"no its not empty\")"
   ]
  },
  {
   "cell_type": "markdown",
   "id": "e60efb87-82e7-404d-bb5e-c76016e39e15",
   "metadata": {},
   "source": [
    "### ``` 30 create a nested set (hint: use frozen set )```"
   ]
  },
  {
   "cell_type": "code",
   "execution_count": 131,
   "id": "d4bbee06-da85-403f-b61b-6a8f2fa6f4f6",
   "metadata": {},
   "outputs": [
    {
     "data": {
      "text/plain": [
       "{frozenset({1, 2, 3, 4, 5}), frozenset({6, 7, 8, 9})}"
      ]
     },
     "execution_count": 131,
     "metadata": {},
     "output_type": "execute_result"
    }
   ],
   "source": [
    "set30_1 = {1,2,3,4,5}\n",
    "set30_2 = {6,7,8,9}\n",
    "frozenset1  = frozenset(set30_1)\n",
    "frozenset2 =  frozenset(set30_2)\n",
    "nested_set = {frozenset1,frozenset2}\n",
    "nested_set"
   ]
  },
  {
   "cell_type": "code",
   "execution_count": 133,
   "id": "9210ad7e-4cb0-4a7a-95d2-69d87b4aa37a",
   "metadata": {},
   "outputs": [
    {
     "data": {
      "text/plain": [
       "{1, 3, 4, 5, 6, 7, 8}"
      ]
     },
     "execution_count": 133,
     "metadata": {},
     "output_type": "execute_result"
    }
   ],
   "source": [
    "# 31 remove an element from a set using the discard method \n",
    "s31 = {1,2,3,4,5,6,7,8}\n",
    "s31.discard(2)\n",
    "s31"
   ]
  },
  {
   "cell_type": "markdown",
   "id": "82efb9c9-385e-481c-b135-e49bba938ab4",
   "metadata": {},
   "source": [
    "### ``` 32 compare two set ```"
   ]
  },
  {
   "cell_type": "code",
   "execution_count": 136,
   "id": "aaf94c53-6de3-44e4-9775-cdc996a9dab5",
   "metadata": {},
   "outputs": [
    {
     "name": "stdout",
     "output_type": "stream",
     "text": [
      "Set 1: {1, 2, 3, 4, 5}\n",
      "Set 2: {4, 5, 6, 7, 8}\n",
      "Is my_set1 a subset of my_set2? False\n",
      "Is my_set2 a subset of my_set1? False\n",
      "Intersection: {4, 5}\n",
      "Union: {1, 2, 3, 4, 5, 6, 7, 8}\n",
      "Elements in my_set1 but not in my_set2: {1, 2, 3}\n",
      "Elements in my_set2 but not in my_set1: {8, 6, 7}\n"
     ]
    }
   ],
   "source": [
    "# Step 1: Define two sets\n",
    "my_set1 = {1, 2, 3, 4, 5}\n",
    "my_set2 = {4, 5, 6, 7, 8}\n",
    "\n",
    "# Step 2: Use set operations to compare the sets\n",
    "# Check if my_set1 is a subset of my_set2\n",
    "is_subset = my_set1.issubset(my_set2)\n",
    "\n",
    "# Check if my_set2 is a subset of my_set1\n",
    "is_superset = my_set1.issuperset(my_set2)\n",
    "\n",
    "# Find the intersection of the sets\n",
    "intersection = my_set1.intersection(my_set2)\n",
    "\n",
    "# Find the union of the sets\n",
    "union = my_set1.union(my_set2)\n",
    "\n",
    "# Find the elements that are in my_set1 but not in my_set2\n",
    "difference1 = my_set1.difference(my_set2)\n",
    "\n",
    "# Find the elements that are in my_set2 but not in my_set1\n",
    "difference2 = my_set2.difference(my_set1)\n",
    "\n",
    "# Step 3: Print the results\n",
    "print(\"Set 1:\", my_set1)\n",
    "print(\"Set 2:\", my_set2)\n",
    "print(\"Is my_set1 a subset of my_set2?\", is_subset)\n",
    "print(\"Is my_set2 a subset of my_set1?\", is_superset)\n",
    "print(\"Intersection:\", intersection)\n",
    "print(\"Union:\", union)\n",
    "print(\"Elements in my_set1 but not in my_set2:\", difference1)\n",
    "print(\"Elements in my_set2 but not in my_set1:\", difference2)\n"
   ]
  },
  {
   "cell_type": "code",
   "execution_count": 138,
   "id": "7db12fc9-43da-4c04-a25c-dc88adde2443",
   "metadata": {},
   "outputs": [
    {
     "data": {
      "text/plain": [
       "{'e', 'h', 'l', 'o'}"
      ]
     },
     "execution_count": 138,
     "metadata": {},
     "output_type": "execute_result"
    }
   ],
   "source": [
    "# 33 create a set from string \n",
    "str33 = \"hello\"\n",
    "s33 = set(str33)\n",
    "s33"
   ]
  },
  {
   "cell_type": "code",
   "execution_count": 140,
   "id": "cc5ac71a-7095-4703-b769-8bf66fe299ec",
   "metadata": {},
   "outputs": [
    {
     "data": {
      "text/plain": [
       "{1, 2, 3, 4}"
      ]
     },
     "execution_count": 140,
     "metadata": {},
     "output_type": "execute_result"
    }
   ],
   "source": [
    "# 34 convert a set of string to a set of integer \n",
    "s34 = {\"1\",\"2\",\"3\",\"4\"}  # this is set of string \n",
    "int_set34  = set()\n",
    "for i in s34:\n",
    "    int_set34.add(int(i))\n",
    "\n",
    "int_set34\n"
   ]
  },
  {
   "cell_type": "code",
   "execution_count": 142,
   "id": "9868037e-834e-4ded-945a-cff3b24d6fa9",
   "metadata": {},
   "outputs": [
    {
     "data": {
      "text/plain": [
       "{'1', '2', '3', '4'}"
      ]
     },
     "execution_count": 142,
     "metadata": {},
     "output_type": "execute_result"
    }
   ],
   "source": [
    "# 35 convert a set of integer to a set of strin g\n",
    "s35 = {1, 2, 3, 4}\n",
    "str_s35 = set()\n",
    "for i in s35:\n",
    "    str_s35.add(str(i))\n",
    "\n",
    "str_s35"
   ]
  },
  {
   "cell_type": "code",
   "execution_count": 146,
   "id": "ebe98c7a-f92f-4528-a1aa-54a11dc81d57",
   "metadata": {},
   "outputs": [
    {
     "data": {
      "text/plain": [
       "{1, 2, 3, 5, 6, 34}"
      ]
     },
     "execution_count": 146,
     "metadata": {},
     "output_type": "execute_result"
    }
   ],
   "source": [
    "# 36 create a set froma tuple \n",
    "tup36 = (1,2,3,34,5,5,6)\n",
    "s36 = set(tup36)\n",
    "s36"
   ]
  },
  {
   "cell_type": "code",
   "execution_count": 148,
   "id": "5b7b9f49-c21b-44aa-966d-b58591a6442c",
   "metadata": {},
   "outputs": [
    {
     "data": {
      "text/plain": [
       "(1, 2, 3, 34, 5, 6)"
      ]
     },
     "execution_count": 148,
     "metadata": {},
     "output_type": "execute_result"
    }
   ],
   "source": [
    "# 37 convert a set to a tuple \n",
    "s37 = {1, 2, 3, 5, 6, 34}\n",
    "tup37 = tuple(s37)\n",
    "tup37"
   ]
  },
  {
   "cell_type": "code",
   "execution_count": 150,
   "id": "54ed311d-1de8-447b-9dd3-53ef0d7c753d",
   "metadata": {},
   "outputs": [
    {
     "data": {
      "text/plain": [
       "45"
      ]
     },
     "execution_count": 150,
     "metadata": {},
     "output_type": "execute_result"
    }
   ],
   "source": [
    "# 38 find the maximum value in a set \n",
    "s38 = (1,2,3,45,6,7)\n",
    "maxval = max(s38)\n",
    "maxval"
   ]
  },
  {
   "cell_type": "code",
   "execution_count": 152,
   "id": "7f86ced8-3200-428a-89d2-e4e88d050784",
   "metadata": {},
   "outputs": [
    {
     "data": {
      "text/plain": [
       "12"
      ]
     },
     "execution_count": 152,
     "metadata": {},
     "output_type": "execute_result"
    }
   ],
   "source": [
    "# 39 find the minium value in a set \n",
    "s39 = {23,44,12,45}\n",
    "minval = min(s39)\n",
    "minval"
   ]
  },
  {
   "cell_type": "code",
   "execution_count": 166,
   "id": "332fafcc-e3cf-40ba-a656-bdbf22c2fa90",
   "metadata": {},
   "outputs": [
    {
     "name": "stdin",
     "output_type": "stream",
     "text": [
      "enter the comma sepreated value to make set 1,2,3hi\n"
     ]
    },
    {
     "data": {
      "text/plain": [
       "{1, 2, '3hi'}"
      ]
     },
     "execution_count": 166,
     "metadata": {},
     "output_type": "execute_result"
    }
   ],
   "source": [
    "# 40 create a set from a user input \n",
    "str40 = input(\"enter the comma sepreated value to make set\")\n",
    "s40 = set()\n",
    "l = str40.split(\",\")\n",
    "for i in l :\n",
    "    if i.isdigit():\n",
    "        s40.add(int(i))\n",
    "        continue\n",
    "    if i.isalpha():\n",
    "        s40.add(i)\n",
    "        continue\n",
    "    if i.isalnum():\n",
    "        s40.add(i)\n",
    "        continue\n",
    "    else:\n",
    "        s40.add(i)\n",
    "s40\n",
    "    \n"
   ]
  },
  {
   "cell_type": "code",
   "execution_count": 172,
   "id": "628bd6b0-2053-4d92-bacb-038489d29ba1",
   "metadata": {},
   "outputs": [
    {
     "name": "stdout",
     "output_type": "stream",
     "text": [
      " its empty\n"
     ]
    }
   ],
   "source": [
    "# 41 check if the intersection of two sets is empty or not \n",
    "s41_1 = {1,2,3,4}\n",
    "s41_2 = {5}\n",
    "if not s41_1.intersection(s41_2):\n",
    "    print(\" its empty\")\n",
    "else:\n",
    "    print(\"its not empty\")"
   ]
  },
  {
   "cell_type": "code",
   "execution_count": 184,
   "id": "843f67cb-757d-4e52-853d-59f634ef288e",
   "metadata": {},
   "outputs": [
    {
     "name": "stdin",
     "output_type": "stream",
     "text": [
      "enter how many fibonacci series you want  10\n"
     ]
    },
    {
     "data": {
      "text/plain": [
       "{0, 1, 2, 3, 5, 8, 13, 21, 34}"
      ]
     },
     "execution_count": 184,
     "metadata": {},
     "output_type": "execute_result"
    }
   ],
   "source": [
    "# 42 create a  set of first 5 fibonacci numbers\n",
    "s42 = set()\n",
    "n1 = 0 \n",
    "n2 = 1 \n",
    "n = int(input(\"enter how many fibonacci series you want \"))\n",
    "for i in range(1,n+1):\n",
    "    s42.add(n1)\n",
    "    nth = n1+n2\n",
    "    n1 = n2\n",
    "    n2 = nth\n",
    "s42  "
   ]
  },
  {
   "cell_type": "code",
   "execution_count": 9,
   "id": "851426d5-079a-4c36-8d6b-f2dd6e536a60",
   "metadata": {},
   "outputs": [
    {
     "data": {
      "text/plain": [
       "[1, 2, 3, 4, 5, 6]"
      ]
     },
     "execution_count": 9,
     "metadata": {},
     "output_type": "execute_result"
    }
   ],
   "source": [
    "# 43 removbe duplicate from a list using list \n",
    "l = [1,2,2,3,4,5,6,1,4]\n",
    "l = set(l)\n",
    "l = list(l)\n",
    "l"
   ]
  },
  {
   "cell_type": "code",
   "execution_count": 11,
   "id": "a5f1a396-df6e-40f1-894e-8e2f6fec4e07",
   "metadata": {},
   "outputs": [
    {
     "name": "stdout",
     "output_type": "stream",
     "text": [
      "The sets have the same elements.\n"
     ]
    }
   ],
   "source": [
    "# 44 Check if two sets have the same elements, regardless of their count.\n",
    "def have_same_elements(set1, set2):\n",
    "    return set1 == set2\n",
    "\n",
    "# Example sets\n",
    "set1 = {1, 2, 3, 2, 1}\n",
    "set2 = {3, 1, 2}\n",
    "\n",
    "# Check if the sets have the same elements\n",
    "if have_same_elements(set1, set2):\n",
    "    print(\"The sets have the same elements.\")\n",
    "else:\n",
    "    print(\"The sets do not have the same elements.\")\n"
   ]
  },
  {
   "cell_type": "code",
   "execution_count": 15,
   "id": "d464874a-7b56-41d1-ac59-398a3621f137",
   "metadata": {},
   "outputs": [
    {
     "name": "stdin",
     "output_type": "stream",
     "text": [
      "enter the value of n to create a set of the first n power of 2  5\n"
     ]
    },
    {
     "data": {
      "text/plain": [
       "{1, 2, 4, 8, 16, 32}"
      ]
     },
     "execution_count": 15,
     "metadata": {},
     "output_type": "execute_result"
    }
   ],
   "source": [
    "# 45 Create a set of the first `n` powers of 2.\n",
    "n = int(input(\"enter the value of n to create a set of the first n power of 2 \"))\n",
    "s45 = set(2**n for n in range(n+1))\n",
    "s45"
   ]
  },
  {
   "cell_type": "code",
   "execution_count": 17,
   "id": "88a0e371-98ce-4a4c-9042-8b7df05f4927",
   "metadata": {},
   "outputs": [
    {
     "data": {
      "text/plain": [
       "[2, 3]"
      ]
     },
     "execution_count": 17,
     "metadata": {},
     "output_type": "execute_result"
    }
   ],
   "source": [
    "# 46 find the common elements between a set and the list \n",
    "s46 = {1,2,3,4,5,6,7,8,9}\n",
    "l = [2,3,14,15,16]\n",
    "lset = set(l)\n",
    "inter = list(s46.intersection(l))\n",
    "inter"
   ]
  },
  {
   "cell_type": "code",
   "execution_count": 25,
   "id": "86488c58-eee9-4cf7-ba36-1374b473b7d7",
   "metadata": {},
   "outputs": [
    {
     "name": "stdin",
     "output_type": "stream",
     "text": [
      "enter the n value  5\n"
     ]
    },
    {
     "data": {
      "text/plain": [
       "{1, 3, 6, 10, 15}"
      ]
     },
     "execution_count": 25,
     "metadata": {},
     "output_type": "execute_result"
    }
   ],
   "source": [
    "# 47 create a set of first n triangular number\n",
    "n = int(input(\"enter the n value \"))\n",
    "s47 = set()\n",
    "for i in range(1,n+1):\n",
    "    s47.add(int((i*(i+1))/2))\n",
    "\n",
    "s47\n",
    "    "
   ]
  },
  {
   "cell_type": "code",
   "execution_count": 27,
   "id": "44a2d561-d5fc-4726-a639-a0371c812e2f",
   "metadata": {},
   "outputs": [
    {
     "name": "stdout",
     "output_type": "stream",
     "text": [
      "yes\n"
     ]
    }
   ],
   "source": [
    "# 48 check if a set contain amother as a subset \n",
    "# Define two sets\n",
    "set1 = {1, 2, 3, 4, 5}\n",
    "set2 = {3, 4}\n",
    "\n",
    "# Check if set2 is a subset of set1\n",
    "is_subset = set2.issubset(set1)\n",
    "\n",
    "# Print the result\n",
    "if is_subset:\n",
    "    print(\"yes\")\n",
    "else:\n",
    "    print(\"no\")"
   ]
  },
  {
   "cell_type": "code",
   "execution_count": 33,
   "id": "37ba1d50-a437-4906-ab09-6bcdf293133d",
   "metadata": {},
   "outputs": [
    {
     "name": "stdin",
     "output_type": "stream",
     "text": [
      "enter the value of n : 5\n"
     ]
    },
    {
     "data": {
      "text/plain": [
       "[0, 1, 0, 1, 0]"
      ]
     },
     "execution_count": 33,
     "metadata": {},
     "output_type": "execute_result"
    }
   ],
   "source": [
    "# 49 Create a set of alternating 1s and 0s of length `n`.\n",
    "n = int(input(\"enter the value of n :\"))\n",
    "s49 = [1 if i % 2 == 0 else 0 for i in range(1, n + 1)]\n",
    "s49"
   ]
  },
  {
   "cell_type": "code",
   "execution_count": 49,
   "id": "7151aa1c-90e4-4f8c-a5c7-0bdc5507ebde",
   "metadata": {},
   "outputs": [
    {
     "name": "stdout",
     "output_type": "stream",
     "text": [
      "Merged Set: {1, 2, 3, 4, 5, 6, 7}\n"
     ]
    }
   ],
   "source": [
    "# 50 merge multiple sets into on e\n",
    "# Step 1: Create multiple sets\n",
    "set1 = {1, 2, 3}\n",
    "set2 = {3, 4, 5}\n",
    "set3 = {5, 6, 7}\n",
    "\n",
    "# Step 2: Use the union() method to merge sets\n",
    "merged_set = set1.union(set2, set3)\n",
    "\n",
    "# Alternatively, you can use the | operator\n",
    "# merged_set = set1 | set2 | set3\n",
    "\n",
    "# Step 3: Print the merged set\n",
    "print(\"Merged Set:\", merged_set)"
   ]
  },
  {
   "cell_type": "code",
   "execution_count": null,
   "id": "28ed9e88-e655-4623-a93a-03fb80a62923",
   "metadata": {},
   "outputs": [],
   "source": []
  },
  {
   "cell_type": "code",
   "execution_count": null,
   "id": "20b2b9f6-4737-44e3-87ad-b6fe352cb13e",
   "metadata": {},
   "outputs": [],
   "source": []
  },
  {
   "cell_type": "code",
   "execution_count": null,
   "id": "dfaf9d25-5d77-4106-b5e9-50d670eb7f94",
   "metadata": {},
   "outputs": [],
   "source": []
  },
  {
   "cell_type": "code",
   "execution_count": null,
   "id": "852716e1-1c6c-42e2-8480-786023959111",
   "metadata": {},
   "outputs": [],
   "source": []
  },
  {
   "cell_type": "code",
   "execution_count": null,
   "id": "ce16d6de-ce31-44a7-ab8d-fe16e179fd08",
   "metadata": {},
   "outputs": [],
   "source": []
  },
  {
   "cell_type": "code",
   "execution_count": null,
   "id": "c4c07b8e-a684-4402-84fc-ccf42069f810",
   "metadata": {},
   "outputs": [],
   "source": []
  },
  {
   "cell_type": "code",
   "execution_count": null,
   "id": "564df3af-744f-4144-bda3-56c92b503c15",
   "metadata": {},
   "outputs": [],
   "source": []
  },
  {
   "cell_type": "code",
   "execution_count": null,
   "id": "4e8a4b81-f1c8-4a17-895a-bc66953a0dda",
   "metadata": {},
   "outputs": [],
   "source": []
  },
  {
   "cell_type": "code",
   "execution_count": null,
   "id": "9f884b13-77a0-4597-a6fa-5d814789667b",
   "metadata": {},
   "outputs": [],
   "source": []
  }
 ],
 "metadata": {
  "kernelspec": {
   "display_name": "Python 3 (ipykernel)",
   "language": "python",
   "name": "python3"
  },
  "language_info": {
   "codemirror_mode": {
    "name": "ipython",
    "version": 3
   },
   "file_extension": ".py",
   "mimetype": "text/x-python",
   "name": "python",
   "nbconvert_exporter": "python",
   "pygments_lexer": "ipython3",
   "version": "3.11.8"
  }
 },
 "nbformat": 4,
 "nbformat_minor": 5
}
