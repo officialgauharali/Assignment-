{
 "cells": [
  {
   "cell_type": "code",
   "execution_count": 2,
   "id": "32ba1b30-d478-4722-b4b5-1b7aa9d9916c",
   "metadata": {},
   "outputs": [
    {
     "name": "stdout",
     "output_type": "stream",
     "text": [
      "1\n",
      "2\n",
      "3\n",
      "4\n",
      "5\n",
      "6\n",
      "7\n",
      "8\n",
      "9\n",
      "10\n"
     ]
    }
   ],
   "source": [
    "# 1. Write a Python program to print the numbers from 1 to 10 using a `for` loop.\n",
    "def num(n):\n",
    "    for i in range(1,n+1):\n",
    "        print(i)\n",
    "num(10)"
   ]
  },
  {
   "cell_type": "code",
   "execution_count": 7,
   "id": "225b4639-5018-4786-9361-496e2826b387",
   "metadata": {},
   "outputs": [
    {
     "name": "stdout",
     "output_type": "stream",
     "text": [
      "35\n"
     ]
    }
   ],
   "source": [
    "# 2. Create a program that calculates the sum of all numbers in a list using a `for` loop.\n",
    "def sum(li):\n",
    "    tot = 0\n",
    "    for i in li:\n",
    "        tot += i\n",
    "    print(tot)\n",
    "\n",
    "li = [8,7,6,6,8]\n",
    "sum(li)\n",
    "        "
   ]
  },
  {
   "cell_type": "code",
   "execution_count": 21,
   "id": "a8f4a483-5c46-48dd-b02f-bd55f0aa767f",
   "metadata": {},
   "outputs": [
    {
     "name": "stdin",
     "output_type": "stream",
     "text": [
      "enter the string value  geeks for geeks\n"
     ]
    },
    {
     "data": {
      "text/plain": [
       "'skeeg rof skeeg'"
      ]
     },
     "execution_count": 21,
     "metadata": {},
     "output_type": "execute_result"
    }
   ],
   "source": [
    "# 3 write a program to print the characters of a string in reverse order using for loop\n",
    "def rev_str(str):\n",
    "    rev = str[::-1]\n",
    "    return rev\n",
    "\n",
    "\n",
    "rev_str(str = input(\"enter the string value \"))\n"
   ]
  },
  {
   "cell_type": "code",
   "execution_count": 23,
   "id": "4dbc4535-212c-443c-94a8-1a71eb1437a9",
   "metadata": {},
   "outputs": [],
   "source": [
    "# 4 develop a program that finds the factorial of a given number \n",
    "def factor_(n):\n",
    "    pro = 1\n",
    "    for i in range(1,n+1):\n",
    "        pro = pro*i\n",
    "    return pro\n",
    "\n",
    "        "
   ]
  },
  {
   "cell_type": "code",
   "execution_count": 25,
   "id": "6ce7e496-5d45-465c-8aa0-e1d2f000078b",
   "metadata": {},
   "outputs": [
    {
     "data": {
      "text/plain": [
       "120"
      ]
     },
     "execution_count": 25,
     "metadata": {},
     "output_type": "execute_result"
    }
   ],
   "source": [
    "factor_(5)"
   ]
  },
  {
   "cell_type": "code",
   "execution_count": 31,
   "id": "bb22c89f-e40a-4b34-ab5f-530e1e5b26e1",
   "metadata": {},
   "outputs": [],
   "source": [
    "# 5 create a program to print the mapping table of a given number\n",
    "def multi(n):\n",
    "    for i in range(1,11):\n",
    "       print(n*i)\n",
    "    "
   ]
  },
  {
   "cell_type": "code",
   "execution_count": 52,
   "id": "935b72ec-c571-450a-a34e-b70db57aa6e6",
   "metadata": {},
   "outputs": [
    {
     "name": "stdout",
     "output_type": "stream",
     "text": [
      "5\n",
      "10\n",
      "15\n",
      "20\n",
      "25\n",
      "30\n",
      "35\n",
      "40\n",
      "45\n",
      "50\n"
     ]
    }
   ],
   "source": [
    "multi(5)"
   ]
  },
  {
   "cell_type": "code",
   "execution_count": 37,
   "id": "0a5519ba-7c40-414a-919e-97f93bca065b",
   "metadata": {},
   "outputs": [
    {
     "name": "stdout",
     "output_type": "stream",
     "text": [
      "the even count is 2 and the odd count is 4\n"
     ]
    }
   ],
   "source": [
    "# 6 program to count the number of even and odd inside the list\n",
    "def check(li):\n",
    "    eve_t = 0\n",
    "    o_t = 0\n",
    "    for i in li:\n",
    "        if i%2 ==0:\n",
    "            eve_t += 1\n",
    "        else:\n",
    "            o_t += 1\n",
    "    print(f\"the even count is {eve_t} and the odd count is {o_t}\")\n",
    "\n",
    "check([1,2,3,4,5,5])"
   ]
  },
  {
   "cell_type": "code",
   "execution_count": 42,
   "id": "cd6ca86b-fb71-4907-9716-001717ee6566",
   "metadata": {},
   "outputs": [],
   "source": [
    "# 7 write a porgram to print the squares of a number between 1 and 5 \n",
    "def sq(n):\n",
    "     l = [i**2 for i in range(1,n+1)]\n",
    "     for j in l:\n",
    "        print(j)"
   ]
  },
  {
   "cell_type": "code",
   "execution_count": 44,
   "id": "bc11db33-2eb7-4489-8f66-723b435e0a72",
   "metadata": {},
   "outputs": [
    {
     "name": "stdout",
     "output_type": "stream",
     "text": [
      "1\n",
      "4\n",
      "9\n",
      "16\n",
      "25\n"
     ]
    }
   ],
   "source": [
    "sq(5)"
   ]
  },
  {
   "cell_type": "code",
   "execution_count": 46,
   "id": "2e1ad5ea-2e28-410f-b9f9-9d93650db243",
   "metadata": {},
   "outputs": [],
   "source": [
    "# 8 find the lenght of a string without using the len() function \n",
    "def strl(str):\n",
    "    count = 0\n",
    "    for i in str:\n",
    "        count +=1\n",
    "    print(count)\n",
    "\n"
   ]
  },
  {
   "cell_type": "code",
   "execution_count": 50,
   "id": "0860d21b-af5e-427f-a24a-021215b254d2",
   "metadata": {},
   "outputs": [
    {
     "name": "stdout",
     "output_type": "stream",
     "text": [
      "5\n"
     ]
    }
   ],
   "source": [
    "strl(\"cyber\")"
   ]
  },
  {
   "cell_type": "code",
   "execution_count": 4,
   "id": "0e42c097-b0d1-41f2-96f5-119d4b4b6985",
   "metadata": {},
   "outputs": [],
   "source": [
    "# 9. Write a program that calculates the average of a list of numbers using a `for` loop.\n",
    "def av(n):\n",
    "    tot = 0\n",
    "    l = len(n)\n",
    "    for i in n:\n",
    "        tot += i\n",
    "    avr = tot/l\n",
    "    return avr\n"
   ]
  },
  {
   "cell_type": "code",
   "execution_count": 6,
   "id": "a16382c2-4327-4367-b174-5b4430c27b39",
   "metadata": {},
   "outputs": [
    {
     "data": {
      "text/plain": [
       "2.0"
      ]
     },
     "execution_count": 6,
     "metadata": {},
     "output_type": "execute_result"
    }
   ],
   "source": [
    "av([1,2,3])"
   ]
  },
  {
   "cell_type": "markdown",
   "id": "f2997d82-6600-4ac0-b311-eeb9d49ec8f3",
   "metadata": {},
   "source": [
    "###  ```10 write a program to print the first n fibonacci seq```"
   ]
  },
  {
   "cell_type": "code",
   "execution_count": 18,
   "id": "a66ee5fa-b50e-4f39-a0bb-105e793830ec",
   "metadata": {},
   "outputs": [],
   "source": [
    "def fibo(nth):\n",
    "    n1 = 0\n",
    "    n2 = 1\n",
    "    for i in range(1,nth+1):\n",
    "        print(n1)\n",
    "        n = n1+n2\n",
    "        n1 = n2\n",
    "        n2 = n    "
   ]
  },
  {
   "cell_type": "code",
   "execution_count": 16,
   "id": "5739bbb5-a336-4e28-a170-607609983f98",
   "metadata": {},
   "outputs": [
    {
     "name": "stdout",
     "output_type": "stream",
     "text": [
      "0\n",
      "1\n",
      "1\n",
      "2\n",
      "3\n",
      "5\n",
      "8\n",
      "13\n",
      "21\n",
      "34\n",
      "55\n",
      "89\n",
      "144\n",
      "233\n",
      "377\n",
      "610\n",
      "987\n",
      "1597\n",
      "2584\n",
      "4181\n"
     ]
    }
   ],
   "source": [
    "fibo(20)"
   ]
  },
  {
   "cell_type": "markdown",
   "id": "b2844346-1003-43da-9e02-570e894d2eb4",
   "metadata": {},
   "source": [
    "### ```11 program to check if a given list contains any dupicate ```"
   ]
  },
  {
   "cell_type": "code",
   "execution_count": 38,
   "id": "af9b2866-cf43-4a6d-bc83-d5a4619ae08c",
   "metadata": {},
   "outputs": [],
   "source": [
    "def dupli(l):\n",
    "    dicti = {}\n",
    "    for i in l:\n",
    "        if i not in dicti:\n",
    "            dicti[i] = 1\n",
    "        else:\n",
    "            dicti[i] += 1\n",
    "    for v in dicti.values():\n",
    "        if v>1 and v!=1 :\n",
    "            print(\"the list has duplicate\")\n",
    "            break\n",
    "    else:\n",
    "        print(\"not found\")\n"
   ]
  },
  {
   "cell_type": "code",
   "execution_count": 40,
   "id": "b138a8f5-85e5-44e2-a803-70f4c3955caa",
   "metadata": {},
   "outputs": [
    {
     "name": "stdout",
     "output_type": "stream",
     "text": [
      "not found\n"
     ]
    }
   ],
   "source": [
    "dupli([1,2,3,4,5])"
   ]
  },
  {
   "cell_type": "code",
   "execution_count": 164,
   "id": "fb5b9265-5653-4d27-a2fc-4b40bb1fd699",
   "metadata": {},
   "outputs": [],
   "source": [
    "# 12 create a propgram that print the prime numbers in a given range \n",
    "def prime(n):\n",
    "    for i in range(2,n+1):\n",
    "        flag = True \n",
    "        for j in range(2,i):\n",
    "            if i%j==0:\n",
    "                flag = False\n",
    "        if flag:\n",
    "            print(i)\n",
    "        "
   ]
  },
  {
   "cell_type": "code",
   "execution_count": 158,
   "id": "c82b193c-4bbd-4a4a-84e9-8c897106453c",
   "metadata": {},
   "outputs": [
    {
     "name": "stdout",
     "output_type": "stream",
     "text": [
      "2\n",
      "3\n",
      "5\n",
      "7\n",
      "11\n",
      "13\n",
      "17\n",
      "19\n"
     ]
    }
   ],
   "source": [
    "prime(19)"
   ]
  },
  {
   "cell_type": "code",
   "execution_count": 166,
   "id": "a66aa716-c171-47d5-ab55-7b16797cc51b",
   "metadata": {},
   "outputs": [],
   "source": [
    "# 13 develop a program that counts the number of vowels in a string \n",
    "def vow(str):\n",
    "    count = 0\n",
    "    vowels = ['a', 'e', 'i', 'o', 'u', 'A', 'E', 'I', 'O', 'U']\n",
    "    for i in str:\n",
    "        if i in vowels:\n",
    "            count +=1\n",
    "    return count\n",
    "            "
   ]
  },
  {
   "cell_type": "code",
   "execution_count": 168,
   "id": "61886baf-ba58-42f4-81d5-4b5dbb5d22cc",
   "metadata": {},
   "outputs": [
    {
     "data": {
      "text/plain": [
       "4"
      ]
     },
     "execution_count": 168,
     "metadata": {},
     "output_type": "execute_result"
    }
   ],
   "source": [
    "vow(\"hi this is python\")"
   ]
  },
  {
   "cell_type": "markdown",
   "id": "b67e7d48-7c36-4aaf-899e-6285b5fbf2cf",
   "metadata": {},
   "source": [
    "### ``` 14 write a program to find the maximum elelmetn in   a 2d list```"
   ]
  },
  {
   "cell_type": "code",
   "execution_count": 175,
   "id": "9c21bac8-6fc2-4651-ab31-2dc9ef274a7a",
   "metadata": {},
   "outputs": [
    {
     "ename": "TypeError",
     "evalue": "'>' not supported between instances of 'list' and 'int'",
     "output_type": "error",
     "traceback": [
      "\u001b[1;31m---------------------------------------------------------------------------\u001b[0m",
      "\u001b[1;31mTypeError\u001b[0m                                 Traceback (most recent call last)",
      "Cell \u001b[1;32mIn[175], line 2\u001b[0m\n\u001b[0;32m      1\u001b[0m ld \u001b[38;5;241m=\u001b[39m [\u001b[38;5;241m1\u001b[39m,\u001b[38;5;241m2\u001b[39m,\u001b[38;5;241m3\u001b[39m,[\u001b[38;5;241m4\u001b[39m,\u001b[38;5;241m5\u001b[39m,\u001b[38;5;241m6\u001b[39m],[\u001b[38;5;241m7\u001b[39m,\u001b[38;5;241m8\u001b[39m,\u001b[38;5;241m9\u001b[39m,\u001b[38;5;241m10\u001b[39m,\u001b[38;5;241m11\u001b[39m]]\n\u001b[1;32m----> 2\u001b[0m maxi \u001b[38;5;241m=\u001b[39m \u001b[38;5;28mmax\u001b[39m(ld)\n\u001b[0;32m      3\u001b[0m maxi\n",
      "\u001b[1;31mTypeError\u001b[0m: '>' not supported between instances of 'list' and 'int'"
     ]
    }
   ],
   "source": [
    "\n",
    "ld = [1,2,3,[4,5,6],[7,8,9,10,11]]\n",
    "maxi = max(ld)\n",
    "maxi"
   ]
  },
  {
   "cell_type": "code",
   "execution_count": 177,
   "id": "47ce5767-d2ae-4575-b778-4c8bd8aeab23",
   "metadata": {},
   "outputs": [],
   "source": [
    "# 15 create  a program that removes all the occurence of a specific element from a list "
   ]
  },
  {
   "cell_type": "code",
   "execution_count": 210,
   "id": "323fc0ee-9538-450f-b960-ff5b60f614d9",
   "metadata": {},
   "outputs": [
    {
     "name": "stdin",
     "output_type": "stream",
     "text": [
      "enter the ele to remove: 3\n"
     ]
    },
    {
     "data": {
      "text/plain": [
       "[3, 4, 5, 9, 7, 7]"
      ]
     },
     "execution_count": 210,
     "metadata": {},
     "output_type": "execute_result"
    }
   ],
   "source": [
    "# method 1\n",
    "li = [3,3,4,5,9,7,7]\n",
    "n = int(input(\"enter the ele to remove:\"))\n",
    "for i in li:\n",
    "    if i == n:\n",
    "        li.remove(n)\n",
    "\n",
    "li\n",
    "    \n",
    "        \n",
    "    "
   ]
  },
  {
   "cell_type": "code",
   "execution_count": 220,
   "id": "0090744b-37d6-4655-888a-9681941ebcc3",
   "metadata": {},
   "outputs": [
    {
     "name": "stdin",
     "output_type": "stream",
     "text": [
      "enter the element you want to remove 3\n"
     ]
    },
    {
     "data": {
      "text/plain": [
       "[4, 5, 9, 7, 7]"
      ]
     },
     "execution_count": 220,
     "metadata": {},
     "output_type": "execute_result"
    }
   ],
   "source": [
    "# method 2 \n",
    "li2 = [3,3,4,5,9,7,7]\n",
    "result_list = []\n",
    "n = int(input(\"enter the element you want to remove\"))\n",
    "for i in li2:\n",
    "    if i!= n:\n",
    "        result_list.append(i)\n",
    "\n",
    "result_list\n",
    "        \n",
    "    "
   ]
  },
  {
   "cell_type": "code",
   "execution_count": 6,
   "id": "962d9692-5f16-4e82-a7bc-dcbe44e1ec2d",
   "metadata": {},
   "outputs": [
    {
     "name": "stdin",
     "output_type": "stream",
     "text": [
      "enter the number n that you want to print 5\n"
     ]
    },
    {
     "name": "stdout",
     "output_type": "stream",
     "text": [
      "1\n",
      "2\n",
      "3\n",
      "4\n",
      "5\n",
      "6\n",
      "7\n",
      "8\n",
      "9\n",
      "10\n",
      "___________\n",
      "2\n",
      "4\n",
      "6\n",
      "8\n",
      "10\n",
      "12\n",
      "14\n",
      "16\n",
      "18\n",
      "20\n",
      "___________\n",
      "3\n",
      "6\n",
      "9\n",
      "12\n",
      "15\n",
      "18\n",
      "21\n",
      "24\n",
      "27\n",
      "30\n",
      "___________\n",
      "4\n",
      "8\n",
      "12\n",
      "16\n",
      "20\n",
      "24\n",
      "28\n",
      "32\n",
      "36\n",
      "40\n",
      "___________\n",
      "5\n",
      "10\n",
      "15\n",
      "20\n",
      "25\n",
      "30\n",
      "35\n",
      "40\n",
      "45\n",
      "50\n",
      "___________\n"
     ]
    }
   ],
   "source": [
    "# 16 write a porgram that generates multiplication table from 1 to 5n\n",
    "n = int(input(\"enter the number n that you want to print\"))\n",
    "for i in range(1,n+1):\n",
    "    pro = 1 \n",
    "    for j in range(1,11):\n",
    "        pro = i*j\n",
    "        print(pro)\n",
    "    print(\"___________\")\n",
    "\n",
    "\n",
    "        "
   ]
  },
  {
   "cell_type": "code",
   "execution_count": 36,
   "id": "9511e2e3-1b0b-4f46-bc73-6f80fc722c9c",
   "metadata": {},
   "outputs": [
    {
     "data": {
      "text/plain": [
       "[32.111111111111114, 19.444444444444443, 33.333333333333336, 37.22222222222222]"
      ]
     },
     "execution_count": 36,
     "metadata": {},
     "output_type": "execute_result"
    }
   ],
   "source": [
    "# 17 write a program that converts list of farenheit to celcius\n",
    "fah = [89.8, 67.0, 92, 99]\n",
    "cel = []\n",
    "for i in fah :\n",
    "    c = (i - 32) * 5 / 9\n",
    "    cel.append(c)\n",
    "\n",
    "cel\n",
    "    \n",
    "    "
   ]
  },
  {
   "cell_type": "code",
   "execution_count": 40,
   "id": "60c59c4f-a206-45b7-a175-f9e127957fa3",
   "metadata": {},
   "outputs": [
    {
     "data": {
      "text/plain": [
       "[4, 5]"
      ]
     },
     "execution_count": 40,
     "metadata": {},
     "output_type": "execute_result"
    }
   ],
   "source": [
    "# 18 write a program to print the common element between two list \n",
    "l1 = [2,3,4,5]\n",
    "l2 = [4,5,6,7,8,9]\n",
    "comm = []\n",
    "for i in l2 :\n",
    "    for j in l1:\n",
    "        if i ==j:\n",
    "            comm.append(i)\n",
    "\n",
    "comm"
   ]
  },
  {
   "cell_type": "code",
   "execution_count": 46,
   "id": "757dc507-3259-4ee5-ae7c-66603e515006",
   "metadata": {},
   "outputs": [
    {
     "name": "stdin",
     "output_type": "stream",
     "text": [
      "enter the number of rows requires 5\n"
     ]
    },
    {
     "name": "stdout",
     "output_type": "stream",
     "text": [
      "*\n",
      "**\n",
      "***\n",
      "****\n",
      "*****\n"
     ]
    }
   ],
   "source": [
    "# 19 develop a program that prints pattern of a right triangle with * \n",
    "n = int(input(\"enter the number of rows requires\"))\n",
    "for i in range(1,n+1):\n",
    "    for j in range(1,i+1):\n",
    "        print(\"*\",end =\"\")\n",
    "    print()"
   ]
  },
  {
   "cell_type": "code",
   "execution_count": 64,
   "id": "92152e41-5895-412a-a7de-be450f827a7e",
   "metadata": {},
   "outputs": [],
   "source": [
    "## 20 write a program to calculate the GCD of two numbers :"
   ]
  },
  {
   "cell_type": "code",
   "execution_count": 66,
   "id": "9c0d49e4-07f4-4cb9-96a8-3723b37d2db9",
   "metadata": {},
   "outputs": [],
   "source": [
    "def gcd(n1,n2):\n",
    "    l = []\n",
    "    for i in range(1,min(n1,n2)+1):\n",
    "        if n1%i==0 and n2%i==0:\n",
    "            l.append(i)\n",
    "    print(f\"GCD of number {n1} and {n2} is {max(l)}\")"
   ]
  },
  {
   "cell_type": "code",
   "execution_count": 68,
   "id": "f916c8d0-aed8-41ef-9cb6-5355fd523f3f",
   "metadata": {},
   "outputs": [
    {
     "name": "stdout",
     "output_type": "stream",
     "text": [
      "GCD of number 3 and 6 is 3\n"
     ]
    }
   ],
   "source": [
    "gcd(3,6)"
   ]
  },
  {
   "cell_type": "code",
   "execution_count": 42,
   "id": "dc8ed220-1d99-44eb-928b-426009688900",
   "metadata": {},
   "outputs": [
    {
     "data": {
      "text/plain": [
       "27"
      ]
     },
     "execution_count": 42,
     "metadata": {},
     "output_type": "execute_result"
    }
   ],
   "source": [
    "#21 calculate the sum of the digit in a list using list comprehension \n",
    "l = [2,3,4,5,6,7]\n",
    "tot = 0 \n",
    "for i in l:\n",
    "    tot += i\n",
    "\n",
    "tot"
   ]
  },
  {
   "cell_type": "markdown",
   "id": "d499b744-e7e6-46a6-82a7-047c4bad20cf",
   "metadata": {},
   "source": [
    " ### ``` 22 ```"
   ]
  },
  {
   "cell_type": "code",
   "execution_count": 72,
   "id": "1781bba9-e0b3-43d5-b615-064008391c80",
   "metadata": {},
   "outputs": [
    {
     "name": "stdin",
     "output_type": "stream",
     "text": [
      "Enter a positive integer:  19\n"
     ]
    },
    {
     "name": "stdout",
     "output_type": "stream",
     "text": [
      "Prime factors of 19 are: {19}\n"
     ]
    }
   ],
   "source": [
    "# 22 \n",
    "N = int(input(\"Enter a positive integer: \"))\n",
    "prime_factors = set()\n",
    "\n",
    "# Handle even numbers (divide by 2)\n",
    "while N % 2 == 0:\n",
    "    prime_factors.add(2)\n",
    "    N //= 2\n",
    "\n",
    "# Check odd numbers as potential factors\n",
    "for factor in range(3, int(N**0.5) + 1, 2):\n",
    "    while N % factor == 0:\n",
    "        prime_factors.add(factor)\n",
    "        N //= factor\n",
    "\n",
    "# If N is still greater than 2, it's a prime factor itself\n",
    "if N > 2:\n",
    "    prime_factors.add(N)\n",
    "\n",
    "print(f\"Prime factors of {N} are: {prime_factors}\")\n"
   ]
  },
  {
   "cell_type": "code",
   "execution_count": 90,
   "id": "a7e6a48c-29cd-457d-b7cc-36267c571f53",
   "metadata": {},
   "outputs": [],
   "source": [
    "def fact(n):\n",
    "    num = n\n",
    "    pf = set()\n",
    "    # handling even num by dividing it by 2 for efficiency \n",
    "    while n%2==0:\n",
    "        pf.add(2)\n",
    "        n = n//2 # it will tell you the new value of n i.e quotient\n",
    "    # now we will check it for odd numbers \n",
    "    facto = n \n",
    "    for i in range(3,facto+1,2): # we had also defined the step count so that it can jump only on odd number we already go through the even numbers\n",
    "        while n%i==0:\n",
    "            pf.add(i)\n",
    "        n = n//i\n",
    "    # if n is still greater than 2 then we must know that its a prime numbers \n",
    "    if n>2 :\n",
    "        pf.add(n)\n",
    "    print(f\"prime factors of {num} is {pf}\")\n"
   ]
  },
  {
   "cell_type": "code",
   "execution_count": 92,
   "id": "5b681d5c-c4aa-40bd-97ac-d2ffd1ab586c",
   "metadata": {},
   "outputs": [
    {
     "name": "stdout",
     "output_type": "stream",
     "text": [
      "prime factors of 5 is set()\n"
     ]
    }
   ],
   "source": [
    "fact(5)"
   ]
  },
  {
   "cell_type": "code",
   "execution_count": 95,
   "id": "97e5bec0-ed2b-41dc-b557-2c46d97fa1e5",
   "metadata": {},
   "outputs": [
    {
     "name": "stdout",
     "output_type": "stream",
     "text": [
      "Unique elements from the list: [20, 50]\n"
     ]
    }
   ],
   "source": [
    "# 23 write a program that stores unique element from a list and store it in to a new list , use list comprehension here \n",
    "my_list = [10, 20, 10, 30, 40, 40, 50, 30]\n",
    "unique_result = [x for x in my_list if my_list.count(x) == 1]\n",
    "print(\"Unique elements from the list:\", unique_result)\n"
   ]
  },
  {
   "cell_type": "code",
   "execution_count": 101,
   "id": "37a94cf5-6395-445f-a582-54929e087cd2",
   "metadata": {},
   "outputs": [
    {
     "name": "stdin",
     "output_type": "stream",
     "text": [
      "enter the limit  5000\n"
     ]
    },
    {
     "name": "stdout",
     "output_type": "stream",
     "text": [
      " pallindrome numbers till 5000 are [1, 2, 3, 4, 5, 6, 7, 8, 9, 11, 22, 33, 44, 55, 66, 77, 88, 99, 101, 111, 121, 131, 141, 151, 161, 171, 181, 191, 202, 212, 222, 232, 242, 252, 262, 272, 282, 292, 303, 313, 323, 333, 343, 353, 363, 373, 383, 393, 404, 414, 424, 434, 444, 454, 464, 474, 484, 494, 505, 515, 525, 535, 545, 555, 565, 575, 585, 595, 606, 616, 626, 636, 646, 656, 666, 676, 686, 696, 707, 717, 727, 737, 747, 757, 767, 777, 787, 797, 808, 818, 828, 838, 848, 858, 868, 878, 888, 898, 909, 919, 929, 939, 949, 959, 969, 979, 989, 999, 1001, 1111, 1221, 1331, 1441, 1551, 1661, 1771, 1881, 1991, 2002, 2112, 2222, 2332, 2442, 2552, 2662, 2772, 2882, 2992, 3003, 3113, 3223, 3333, 3443, 3553, 3663, 3773, 3883, 3993, 4004, 4114, 4224, 4334, 4444, 4554, 4664, 4774, 4884, 4994]\n"
     ]
    }
   ],
   "source": [
    "# 24 create  a program that generates a list of all the pallindromic numbers upto a specifie limit using list comprehension \n",
    "# method 1\n",
    "n = int(input(\"enter the limit \"))\n",
    "l = []\n",
    "for i in range(1,n+1):\n",
    "    numstr = str(i)\n",
    "    if numstr == numstr[::-1]:\n",
    "        l.append(int(numstr))\n",
    "\n",
    "print(F\" pallindrome numbers till {n} are {l}\")"
   ]
  },
  {
   "cell_type": "code",
   "execution_count": 103,
   "id": "6609fd29-256b-4712-b69d-039fbb47239c",
   "metadata": {},
   "outputs": [],
   "source": [
    "# method 2 using list comprehension \n",
    "def palli(n):\n",
    "    l = [i for i in range(1,n+1) if str(i)==str(i)[::-1]]\n",
    "    return l"
   ]
  },
  {
   "cell_type": "code",
   "execution_count": 109,
   "id": "3b2e9d45-01ef-470b-8d65-2ee9c31bdcfa",
   "metadata": {},
   "outputs": [
    {
     "data": {
      "text/plain": [
       "[1,\n",
       " 2,\n",
       " 3,\n",
       " 4,\n",
       " 5,\n",
       " 6,\n",
       " 7,\n",
       " 8,\n",
       " 9,\n",
       " 11,\n",
       " 22,\n",
       " 33,\n",
       " 44,\n",
       " 55,\n",
       " 66,\n",
       " 77,\n",
       " 88,\n",
       " 99,\n",
       " 101,\n",
       " 111,\n",
       " 121,\n",
       " 131,\n",
       " 141]"
      ]
     },
     "execution_count": 109,
     "metadata": {},
     "output_type": "execute_result"
    }
   ],
   "source": [
    "palli(150)"
   ]
  },
  {
   "cell_type": "markdown",
   "id": "4358d503-c6e5-4409-94f4-b69c4d3d7554",
   "metadata": {},
   "source": [
    "### ``` 25 . Write a program to flatten a nested list using list comprehension.```"
   ]
  },
  {
   "cell_type": "code",
   "execution_count": 17,
   "id": "dded2d6a-a1f4-4f87-871a-d37cdeb9d9cf",
   "metadata": {},
   "outputs": [
    {
     "name": "stdout",
     "output_type": "stream",
     "text": [
      "Odd digit sum: 36\n",
      "Even digit sum: 40\n"
     ]
    }
   ],
   "source": [
    "# 26 develop a program that computes the sum of even and odd numbers into list using list comprehension \n",
    "test_list = [345, 893, 1948, 34, 2346]\n",
    "odd_sum = 0\n",
    "even_sum = 0\n",
    "\n",
    "for sub in test_list:\n",
    "    for ele in str(sub):\n",
    "        if int(ele) % 2 == 0:\n",
    "            even_sum += int(ele)\n",
    "        else:\n",
    "            odd_sum += int(ele)\n",
    "\n",
    "print(\"Odd digit sum:\", odd_sum)\n",
    "print(\"Even digit sum:\", even_sum)\n",
    "\n",
    "        "
   ]
  },
  {
   "cell_type": "code",
   "execution_count": 46,
   "id": "5b6a4651-7c29-412b-961d-98392dbea2c7",
   "metadata": {},
   "outputs": [
    {
     "name": "stdout",
     "output_type": "stream",
     "text": [
      "[1, 9, 25, 49, 81, 121, 169, 225, 289, 361, 441, 529, 625, 729]\n"
     ]
    }
   ],
   "source": [
    "# 27 create a program that generate a list of square of all the odd numbers between 1 to 10 , use list comprehension in this \n",
    "def oddsq(nth):\n",
    "    l = [i**2 for i in range(1,nth) if i%2==1]\n",
    "    print(l)\n",
    "oddsq(29)"
   ]
  },
  {
   "cell_type": "code",
   "execution_count": 57,
   "id": "206304e0-623b-49fe-bef6-e22a4ca23f00",
   "metadata": {},
   "outputs": [
    {
     "name": "stdout",
     "output_type": "stream",
     "text": [
      "{'key1': 1001, 'key2': 110}\n"
     ]
    }
   ],
   "source": [
    "# 28 write a program that combines two list into dictionary\n",
    "# method1\n",
    "def dicti(k,v):\n",
    "    mydict = {}\n",
    "    for i in range(len(k)):\n",
    "        mydict[k[i]] = v[i]  # ith index value will store in the respectibe key value pair \n",
    "        \n",
    "    return print(mydict)  \n",
    "k = [\"key1\",\"key2\"]\n",
    "v = [1001,110]\n",
    "dicti(k,v)"
   ]
  },
  {
   "cell_type": "code",
   "execution_count": 61,
   "id": "338beea4-6aa0-432b-ae9a-28af5a09b794",
   "metadata": {},
   "outputs": [
    {
     "name": "stdout",
     "output_type": "stream",
     "text": [
      "{'key1': 1001, 'key2': 110}\n"
     ]
    }
   ],
   "source": [
    "# method 2 using the list comprehension \n",
    "def dictilist(k,v):\n",
    "    p = {k[i]:v[i] for i in range(len(k))}\n",
    "    print(p)\n",
    "k = [\"key1\",\"key2\"]\n",
    "v = [1001,110]\n",
    "dictilist(k,v)"
   ]
  },
  {
   "cell_type": "code",
   "execution_count": 65,
   "id": "e2d7bdee-494d-4a68-9c6d-ecc5c747ec64",
   "metadata": {},
   "outputs": [],
   "source": [
    "# 29 develop a program that extract the vowels from a string and store them in a list , use list comprehesnion \n",
    "def extract(string):\n",
    "    vowels = ['a', 'e', 'i', 'o', 'u', 'A', 'E', 'I', 'O', 'U']\n",
    "\n",
    "    l = [i for i in string if i in vowels]\n",
    "    return l"
   ]
  },
  {
   "cell_type": "code",
   "execution_count": 67,
   "id": "14d6e1b1-66d9-4bd7-862f-170ec6c4617c",
   "metadata": {},
   "outputs": [
    {
     "data": {
      "text/plain": [
       "['i', 'i', 'o', 'o', 'a', 'i']"
      ]
     },
     "execution_count": 67,
     "metadata": {},
     "output_type": "execute_result"
    }
   ],
   "source": [
    "extract(\"this is python programming\")"
   ]
  },
  {
   "cell_type": "markdown",
   "id": "0ae0bc0a-6563-46fa-83d7-9370d223735e",
   "metadata": {},
   "source": [
    "### ``` 30 create a program that removes all the non numeric characters from a list of string```"
   ]
  },
  {
   "cell_type": "code",
   "execution_count": 1,
   "id": "1906adda-0352-453a-bc43-30a30fabe643",
   "metadata": {},
   "outputs": [
    {
     "data": {
      "text/plain": [
       "['123', '456', '123']"
      ]
     },
     "execution_count": 1,
     "metadata": {},
     "output_type": "execute_result"
    }
   ],
   "source": [
    "# 30 create a program that removes all the non numeric characters from a list of string :\n",
    "# method 1 \n",
    "def nonnumerica(l):\n",
    "    cleanstr = []\n",
    "    for i in l:\n",
    "        numchar = \"\"\n",
    "        for j in i:\n",
    "            if j.isdigit():\n",
    "                numchar = numchar+j\n",
    "        cleanstr.append(numchar)\n",
    "    return cleanstr\n",
    "nonnumerica([\"abc123\", \"456xyz\", \"1a2b3c\"])"
   ]
  },
  {
   "cell_type": "code",
   "execution_count": 82,
   "id": "37048ba7-01b5-4411-abe1-b77105dde71e",
   "metadata": {},
   "outputs": [
    {
     "data": {
      "text/plain": [
       "['123', '456', '123']"
      ]
     },
     "execution_count": 82,
     "metadata": {},
     "output_type": "execute_result"
    }
   ],
   "source": [
    "# methdd 2 using list comprehension \n",
    "def numerica(l):\n",
    "    reml = [\"\".join(c for c in s if c.isnumeric()) for s in l]\n",
    "    return reml\n",
    "\n",
    "numerica(['123a', '4a56', '1a23'] )"
   ]
  },
  {
   "cell_type": "markdown",
   "id": "dcde38af-21e0-4117-94dd-33ac9ef2c257",
   "metadata": {},
   "source": [
    "### ```31. Write a program to generate a list of prime numbers using the Sieve of Eratosthenes algorithm and list comprehension ```"
   ]
  },
  {
   "cell_type": "code",
   "execution_count": 9,
   "id": "1f9ceab7-61c7-4c7e-91dc-405890867927",
   "metadata": {},
   "outputs": [
    {
     "name": "stdout",
     "output_type": "stream",
     "text": [
      "Prime numbers up to 30 are: [2, 3, 5, 7, 11, 13, 17, 19, 23, 29]\n"
     ]
    }
   ],
   "source": [
    "def sieve_of_eratosthenes(n):\n",
    "    # Step 1: Create a boolean list \"prime[0..n]\" and initialize all entries as true.\n",
    "    prime = [True] * (n + 1)\n",
    "    prime[0] = prime[1] = False  # 0 and 1 are not prime numbers\n",
    "\n",
    "    # Step 2: Iterate from 2 to the square root of n\n",
    "    for p in range(2, int(n**0.5) + 1):\n",
    "        if prime[p]:\n",
    "            # Step 3: Mark all multiples of p as False\n",
    "            prime[p * p:n + 1:p] = [False] * len(prime[p * p:n + 1:p])\n",
    "\n",
    "    # Step 4: Return the list of prime numbers using list comprehension\n",
    "    return [p for p in range(n + 1) if prime[p]]\n",
    "\n",
    "# Example usage\n",
    "n = 30\n",
    "primes = sieve_of_eratosthenes(n)\n",
    "print(\"Prime numbers up to\", n, \"are:\", primes)"
   ]
  },
  {
   "cell_type": "markdown",
   "id": "8fe0d752-4a90-4013-958c-3d9b9c6154d5",
   "metadata": {},
   "source": [
    "### ```32 genrating pythagorean triplet upto a specified limit uasing list comprehension ```"
   ]
  },
  {
   "cell_type": "code",
   "execution_count": 5,
   "id": "f5507352-1c52-438f-8921-8e9f012133ce",
   "metadata": {},
   "outputs": [
    {
     "name": "stdin",
     "output_type": "stream",
     "text": [
      "enter the number to a specified limti : 26\n"
     ]
    },
    {
     "data": {
      "text/plain": [
       "[(3, 4, 5),\n",
       " (5, 12, 13),\n",
       " (6, 8, 10),\n",
       " (7, 24, 25),\n",
       " (8, 15, 17),\n",
       " (9, 12, 15),\n",
       " (10, 24, 26),\n",
       " (12, 16, 20),\n",
       " (15, 20, 25)]"
      ]
     },
     "execution_count": 5,
     "metadata": {},
     "output_type": "execute_result"
    }
   ],
   "source": [
    "# method 1 using list comprehension \n",
    "n = int(input(\"enter the number to a specified limti :\"))\n",
    "trip = [(a,b,c) for a in range(1,n+1) for b in range(a,n+1) for c in range(b,n+1) if c**2 == a**2+b**2]\n",
    "trip"
   ]
  },
  {
   "cell_type": "code",
   "execution_count": 7,
   "id": "6418aee9-8dbb-469d-92f0-c47c23cf4f99",
   "metadata": {},
   "outputs": [
    {
     "name": "stdin",
     "output_type": "stream",
     "text": [
      "enter the nuth value : 26\n"
     ]
    },
    {
     "data": {
      "text/plain": [
       "[(3, 4, 5),\n",
       " (5, 12, 13),\n",
       " (6, 8, 10),\n",
       " (7, 24, 25),\n",
       " (8, 15, 17),\n",
       " (9, 12, 15),\n",
       " (10, 24, 26),\n",
       " (12, 16, 20),\n",
       " (15, 20, 25)]"
      ]
     },
     "execution_count": 7,
     "metadata": {},
     "output_type": "execute_result"
    }
   ],
   "source": [
    "#method 2\n",
    "# generating a python program to print  the pythagorean triplet \n",
    "n = int(input(\"enter the nuth value :\"))\n",
    "trip = []\n",
    "for a in range(1,n+1):\n",
    "    for b in range(a,n+1):\n",
    "        for c in range(b,n+1):\n",
    "            if (c**2) == (a**2)+(b**2):\n",
    "               trip.append((a,b,c))\n",
    "trip       "
   ]
  },
  {
   "cell_type": "code",
   "execution_count": 17,
   "id": "92aa2469-4558-4ba4-80ff-29460f1aab94",
   "metadata": {},
   "outputs": [
    {
     "name": "stdout",
     "output_type": "stream",
     "text": [
      "(3, 4, 5)\n",
      "(8, 6, 10)\n",
      "(5, 12, 13)\n",
      "(15, 8, 17)\n",
      "(12, 16, 20)\n",
      "(7, 24, 25)\n",
      "(24, 10, 26)\n"
     ]
    }
   ],
   "source": [
    "# method 3 this method is not that good \n",
    "\n",
    "def generate_pythagorean_triplets(limit):\n",
    "    triplets = []\n",
    "    for m in range(2, limit):\n",
    "        for n in range(1, m):\n",
    "            a = m**2 - n**2\n",
    "            b = 2 * m * n\n",
    "            c = m**2 + n**2\n",
    "            if c <= limit:\n",
    "                triplets.append((a, b, c))\n",
    "    return triplets\n",
    "\n",
    "# Example: Generate triplets up to a limit of 100\n",
    "triplets_up_to_100 = generate_pythagorean_triplets(26)\n",
    "for triplet in triplets_up_to_100:\n",
    "    print(triplet)"
   ]
  },
  {
   "cell_type": "markdown",
   "id": "2b2d6abe-cfe7-46e1-96bf-5db0a0faceb5",
   "metadata": {},
   "source": [
    "### ```33 Develop a program that generates a list of all possible combinations of two lists using list comprehension.```"
   ]
  },
  {
   "cell_type": "code",
   "execution_count": 23,
   "id": "79111a26-ab39-4894-a655-6f3e49063b17",
   "metadata": {},
   "outputs": [
    {
     "data": {
      "text/plain": [
       "[(1, 2),\n",
       " (1, 4),\n",
       " (1, 5),\n",
       " (1, 6),\n",
       " (2, 2),\n",
       " (2, 4),\n",
       " (2, 5),\n",
       " (2, 6),\n",
       " (3, 2),\n",
       " (3, 4),\n",
       " (3, 5),\n",
       " (3, 6),\n",
       " (4, 2),\n",
       " (4, 4),\n",
       " (4, 5),\n",
       " (4, 6)]"
      ]
     },
     "execution_count": 23,
     "metadata": {},
     "output_type": "execute_result"
    }
   ],
   "source": [
    "def gencomb(l1,l2): # l1 = [1,2,3] l2 = [4,5,6]\n",
    "    comb = [(a,b) for a in l1 for b in l2 ]\n",
    "    return comb\n",
    "l1 = [1,2,3,4]\n",
    "l2 = [2,4,5,6]\n",
    "gencomb(l1,l2)    "
   ]
  },
  {
   "cell_type": "markdown",
   "id": "c2d192cd-e648-41ab-883d-41d3dffc10a3",
   "metadata": {},
   "source": [
    "### ```34 Write a program that calculates the mean, median, and mode of a list of numbers using list comprehension```\n"
   ]
  },
  {
   "cell_type": "code",
   "execution_count": 36,
   "id": "df312476-cbe0-4f62-a3f0-0942de30f2c7",
   "metadata": {},
   "outputs": [
    {
     "name": "stdin",
     "output_type": "stream",
     "text": [
      "enter the numbers in comma serperated form  2,3,4,5,6,7\n"
     ]
    },
    {
     "name": "stdout",
     "output_type": "stream",
     "text": [
      " mean is : 4.5 , median is : 4.5 ,mode is : 2\n"
     ]
    }
   ],
   "source": [
    "import statistics \n",
    "l = input(\"enter the numbers in comma serperated form \").split(\",\")\n",
    "n = [int(i) for i in l ]\n",
    "mean = statistics.mean(n)\n",
    "median = statistics.median(n)\n",
    "mode = statistics.mode(n)\n",
    "print(f\" mean is : {mean} , median is : {median} ,mode is : {mode}\")"
   ]
  },
  {
   "cell_type": "markdown",
   "id": "a49f72bb-2ffe-4579-bb29-2d418f547525",
   "metadata": {},
   "source": [
    "### ```35 write a program that generates a pascals traiangle upto a specified limit ```"
   ]
  },
  {
   "cell_type": "code",
   "execution_count": 60,
   "id": "8d499808-bf74-42ff-bed9-d8c4ddd02f2c",
   "metadata": {},
   "outputs": [
    {
     "name": "stdout",
     "output_type": "stream",
     "text": [
      "[1]\n",
      "[1, 1]\n",
      "[1, 2, 1]\n",
      "[1, 3, 3, 1]\n",
      "[1, 4, 6, 4, 1]\n",
      "[1, 5, 10, 10, 5, 1]\n",
      "[1, 6, 15, 20, 15, 6, 1]\n",
      "[1, 7, 21, 35, 35, 21, 7, 1]\n",
      "[1, 8, 28, 56, 70, 56, 28, 8, 1]\n",
      "[1, 9, 36, 84, 126, 126, 84, 36, 9, 1]\n"
     ]
    }
   ],
   "source": [
    "def pascal_triangle(n):\n",
    "    triangle = [[1]]\n",
    "    for i in range(1, n):\n",
    "        row = [1] + [triangle[-1][j] + triangle[-1][j+1] for j in range(len(triangle[-1])-1)] + [1]\n",
    "        triangle.append(row)\n",
    "    return triangle\n",
    "\n",
    "# Example usage\n",
    "limit = 10\n",
    "result = pascal_triangle(limit)\n",
    "for row in result:\n",
    "    print(row)"
   ]
  },
  {
   "cell_type": "markdown",
   "id": "c0ca2a54-9494-46e4-a375-0b41ce833704",
   "metadata": {},
   "source": [
    "### ```36 develop a program that gives the sum of all rhe factorial of the numbers from 1 to 5 , use list comprehension ```"
   ]
  },
  {
   "cell_type": "code",
   "execution_count": 83,
   "id": "092a92a3-7790-4c96-ad7f-303ca1fd00ed",
   "metadata": {},
   "outputs": [
    {
     "name": "stdin",
     "output_type": "stream",
     "text": [
      "Enter the limit:  5\n"
     ]
    },
    {
     "name": "stdout",
     "output_type": "stream",
     "text": [
      "The list of factorials is: [1, 1, 2, 6, 24, 120]\n",
      "The sum of all the factorials in the list is: 154\n"
     ]
    }
   ],
   "source": [
    "# method 1 list comprehension \n",
    "import math\n",
    "\n",
    "# Get the limit from the user\n",
    "n = int(input(\"Enter the limit: \"))\n",
    "\n",
    "# Create a list of factorials using list comprehension\n",
    "l = [math.factorial(i) for i in range(n + 1)]\n",
    "\n",
    "# Calculate the sum of the factorials\n",
    "Sum = sum(l)\n",
    "\n",
    "# Output the results\n",
    "print(f\"The list of factorials is: {l}\")\n",
    "print(f\"The sum of all the factorials in the list is: {Sum}\")"
   ]
  },
  {
   "cell_type": "code",
   "execution_count": 85,
   "id": "5866b470-6edf-4221-982b-2b5b072d5977",
   "metadata": {},
   "outputs": [
    {
     "name": "stdin",
     "output_type": "stream",
     "text": [
      "enter the limit: 5\n"
     ]
    },
    {
     "name": "stdout",
     "output_type": "stream",
     "text": [
      "[1, 1, 2, 6, 24, 120]\n",
      "the sum of all the factorial of list [1, 1, 2, 6, 24, 120] is 154 \n"
     ]
    }
   ],
   "source": [
    "# method 2\n",
    "n = int(input(\"enter the limit:\"))\n",
    "l = []\n",
    "for i in range(0,n+1):\n",
    "    pro = 1\n",
    "    for j in range(1, i+1):\n",
    "        pro = pro*j\n",
    "    l.append(pro)\n",
    "Sum = sum(l)\n",
    "print(l)\n",
    "print(f\"the sum of all the factorial of list {l} is {Sum} \")\n"
   ]
  },
  {
   "cell_type": "markdown",
   "id": "9426f125-2b1f-4f7d-a8d7-114b47a265e9",
   "metadata": {},
   "source": [
    "### ``` 37 write a program that finds the longest word in a sentence using list comprehension ```"
   ]
  },
  {
   "cell_type": "code",
   "execution_count": 1,
   "id": "94a845f3-9f2a-417a-8b09-6ffcb53d0739",
   "metadata": {},
   "outputs": [
    {
     "name": "stdin",
     "output_type": "stream",
     "text": [
      "Enter the sentence on which you want to operate:  python programming\n"
     ]
    },
    {
     "name": "stdout",
     "output_type": "stream",
     "text": [
      "The longest word(s) in the sentence is/are: ['programming']\n"
     ]
    }
   ],
   "source": [
    "# method 1 using the list  comprehension \n",
    "# Input the sentence\n",
    "sentence = input(\"Enter the sentence on which you want to operate: \")\n",
    "\n",
    "# Split the sentence into words\n",
    "words = sentence.split()\n",
    "\n",
    "# Find the length of the longest word\n",
    "max_length = max(len(word) for word in words)\n",
    "\n",
    "# Use list comprehension to find all words with the maximum length\n",
    "longest_words = [word for word in words if len(word) == max_length]\n",
    "\n",
    "# Output the result\n",
    "print(\"The longest word(s) in the sentence is/are:\", longest_words)"
   ]
  },
  {
   "cell_type": "code",
   "execution_count": 114,
   "id": "77cd82bc-c289-4a27-ae3d-6d321b4db7c2",
   "metadata": {},
   "outputs": [
    {
     "name": "stdin",
     "output_type": "stream",
     "text": [
      "enter the sentenc on which you want to operate  python programming\n"
     ]
    },
    {
     "name": "stdout",
     "output_type": "stream",
     "text": [
      "the maximum length of the word in a sentence is : ['programming']\n"
     ]
    }
   ],
   "source": [
    "# method 2 \n",
    "str = input(\"enter the sentenc on which you want to operate \").split()\n",
    "longest_word = []\n",
    "for words in str:\n",
    "    max_ = 0\n",
    "    if len(words)>max:\n",
    "        max_ = len(words)\n",
    "for i in str:\n",
    "    if len(i)==max_:\n",
    "        longest_word.append(i)\n",
    "print(\"the maximum length of the word in a sentence is :\",longest_word)"
   ]
  },
  {
   "cell_type": "markdown",
   "id": "5b4270aa-6d46-4af5-bd94-71079488602b",
   "metadata": {},
   "source": [
    "### ```38. Create a program that filters a list of strings to include only those with more than three vowels using list comprehension.```"
   ]
  },
  {
   "cell_type": "code",
   "execution_count": 5,
   "id": "23bc78b9-ebb3-4818-aa73-691e87687697",
   "metadata": {},
   "outputs": [
    {
     "name": "stdout",
     "output_type": "stream",
     "text": [
      "Strings with more than three vowels: ['beautiful', 'extraordinary']\n"
     ]
    }
   ],
   "source": [
    "# Function to count vowels in a string\n",
    "def count_vowels(s):\n",
    "    vowels = 'aeiouAEIOU'  # Define vowels (both lowercase and uppercase)\n",
    "    return sum(1 for char in s if char in vowels)  # Count vowels\n",
    "\n",
    "# Sample list of strings\n",
    "strings = [\n",
    "    \"hello\",\n",
    "    \"world\",\n",
    "    \"programming\",\n",
    "    \"Python\",\n",
    "    \"beautiful\",\n",
    "    \"sky\",\n",
    "    \"extraordinary\"\n",
    "]\n",
    "\n",
    "# Filter the list using list comprehension\n",
    "filtered_strings = [s for s in strings if count_vowels(s) > 3]\n",
    "\n",
    "# Output the result\n",
    "print(\"Strings with more than three vowels:\", filtered_strings)"
   ]
  },
  {
   "cell_type": "code",
   "execution_count": 11,
   "id": "69684d3c-614f-4d1a-9683-b45f1be72dbf",
   "metadata": {},
   "outputs": [
    {
     "name": "stdin",
     "output_type": "stream",
     "text": [
      "enter the string : python\n"
     ]
    },
    {
     "name": "stdout",
     "output_type": "stream",
     "text": [
      "[]\n"
     ]
    }
   ],
   "source": [
    "# method 2 \n",
    "n = input(\"enter the string :\").split()\n",
    "vow = \"aeiouAEIOU\" # defining voewls both uppercase and lowercase\n",
    "l = []\n",
    "for words in n:\n",
    "    count = 0\n",
    "    for j in words:\n",
    "        if j in vow:\n",
    "            count +=1\n",
    "    if count>3:\n",
    "        l.append(words)\n",
    "print(l)\n",
    "        \n"
   ]
  },
  {
   "cell_type": "code",
   "execution_count": 23,
   "id": "7801aee5-3cd8-47b0-83a0-21c47fcb2901",
   "metadata": {},
   "outputs": [
    {
     "name": "stdin",
     "output_type": "stream",
     "text": [
      "Enter the string:  python \n"
     ]
    },
    {
     "name": "stdout",
     "output_type": "stream",
     "text": [
      "Filtered words: []\n"
     ]
    }
   ],
   "source": [
    "#method 3 using list comprehension \n",
    "# Get input from the user\n",
    "n = input(\"Enter the string: \").split()  # Split by spaces\n",
    "vowels = \"aeiouAEIOU\"  # Define vowels\n",
    "\n",
    "# Use list comprehension to filter words with more than three vowels\n",
    "filtered_words = [word for word in n if sum(1 for char in word if char in vowels) > 3]\n",
    "\n",
    "# Output the filtered list\n",
    "print(\"Filtered words:\", filtered_words)"
   ]
  },
  {
   "cell_type": "markdown",
   "id": "c2d71fd6-b04b-422b-9a5b-0d7ef4b90694",
   "metadata": {},
   "source": [
    "### ```39 Develop a program that calculates the sum of the digits of numbers from 1 to 1000 using list comprehension.```"
   ]
  },
  {
   "cell_type": "code",
   "execution_count": 44,
   "id": "2a466f92-1f0f-444c-bc38-199869cac90d",
   "metadata": {},
   "outputs": [
    {
     "name": "stdout",
     "output_type": "stream",
     "text": [
      "total of all the digits in the numbers are : 13501\n"
     ]
    }
   ],
   "source": [
    "# method 1 \n",
    "def digsum(start,end):\n",
    "    total = 0\n",
    "    for num in range(start,end+1):\n",
    "        digit_sum = 0\n",
    "        for j in str(num):\n",
    "             digit_sum += int(j)\n",
    "        total += digit_sum\n",
    "    print(\"total of all the digits in the numbers are :\",total)\n",
    "digsum(1,1000)"
   ]
  },
  {
   "cell_type": "code",
   "execution_count": 42,
   "id": "089b85ac-ad51-425f-b4c7-15214a3c50ac",
   "metadata": {},
   "outputs": [
    {
     "name": "stdout",
     "output_type": "stream",
     "text": [
      "The sum of the digits of numbers from 1 to 1000 is: 13501\n"
     ]
    }
   ],
   "source": [
    "# method 2 using list comprehension\n",
    "def sum_of_digits(start, end):\n",
    "    \"\"\"Calculate the sum of the digits of numbers from start to end using list comprehension.\"\"\"\n",
    "    total_sum = sum(sum(int(digit) for digit in str(num)) for num in range(start, end + 1))\n",
    "    return total_sum\n",
    "\n",
    "# Example usage\n",
    "start_range = 1\n",
    "end_range = 1000\n",
    "result = sum_of_digits(start_range, end_range)\n",
    "print(f\"The sum of the digits of numbers from {start_range} to {end_range} is: {result}\")\n"
   ]
  },
  {
   "cell_type": "markdown",
   "id": "0430d6a4-a7aa-4ea7-a9e5-b7adcc409db0",
   "metadata": {},
   "source": [
    "### ``` 40 program that generate a pallindropic number in sieve alogrithm ```"
   ]
  },
  {
   "cell_type": "code",
   "execution_count": 58,
   "id": "a5ec9fae-254a-4c90-88fc-58db6ced85eb",
   "metadata": {},
   "outputs": [
    {
     "name": "stdin",
     "output_type": "stream",
     "text": [
      "enter the specified limit : 500\n"
     ]
    },
    {
     "name": "stdout",
     "output_type": "stream",
     "text": [
      " the pallindromic prime are : [2, 3, 5, 7, 9, 11, 33, 55, 77, 99, 101, 111, 121, 131, 141, 151, 161, 171, 181, 191, 303, 313, 323, 333, 343, 353, 363, 373, 383, 393]\n"
     ]
    }
   ],
   "source": [
    "# method 1\n",
    "n = int(input(\"enter the specified limit :\"))\n",
    "pallindromel = []\n",
    "prime_list = [True]*(n+1)\n",
    "prime_list[0] = False\n",
    "prime_list[1] = False\n",
    "p = 2 \n",
    "for i in range(2,int(n**0.5)+1):\n",
    "    if prime_list[i]:\n",
    "        prime_list[p * p:n + 1:p] = [False] * len(prime_list[p * p:n + 1:p])\n",
    "        \n",
    "for p in range(2,n+1):\n",
    "    if prime_list[p] :\n",
    "        if str(p) == str(p)[::-1]:\n",
    "            pallindromel.append(p)\n",
    "print(\" the pallindromic prime are :\",pallindromel)"
   ]
  },
  {
   "cell_type": "code",
   "execution_count": null,
   "id": "4ad6cd00-17cc-4f2a-83dd-8c692b3150dc",
   "metadata": {},
   "outputs": [],
   "source": []
  },
  {
   "cell_type": "code",
   "execution_count": null,
   "id": "1dae25a9-f97d-44fc-93a2-1b1344c01b5d",
   "metadata": {},
   "outputs": [],
   "source": []
  },
  {
   "cell_type": "code",
   "execution_count": null,
   "id": "12ac6c4e-4df2-43b2-b273-197e2b1213ad",
   "metadata": {},
   "outputs": [],
   "source": []
  },
  {
   "cell_type": "code",
   "execution_count": null,
   "id": "d740ba23-c12c-46b6-beff-d38b8346d8d8",
   "metadata": {},
   "outputs": [],
   "source": []
  },
  {
   "cell_type": "code",
   "execution_count": null,
   "id": "4458101b-7bcb-4743-84f4-ff5c08178ce3",
   "metadata": {},
   "outputs": [],
   "source": []
  },
  {
   "cell_type": "code",
   "execution_count": null,
   "id": "2303b0a5-81ff-44f6-b6cd-a6079918c417",
   "metadata": {},
   "outputs": [],
   "source": []
  }
 ],
 "metadata": {
  "kernelspec": {
   "display_name": "Python 3 (ipykernel)",
   "language": "python",
   "name": "python3"
  },
  "language_info": {
   "codemirror_mode": {
    "name": "ipython",
    "version": 3
   },
   "file_extension": ".py",
   "mimetype": "text/x-python",
   "name": "python",
   "nbconvert_exporter": "python",
   "pygments_lexer": "ipython3",
   "version": "3.11.8"
  }
 },
 "nbformat": 4,
 "nbformat_minor": 5
}
