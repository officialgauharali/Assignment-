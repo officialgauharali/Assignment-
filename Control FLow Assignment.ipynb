{
 "cells": [
  {
   "cell_type": "markdown",
   "id": "7119fbec-9e80-46f4-ab84-7dbf81bedad9",
   "metadata": {},
   "source": [
    "### ``` Basic if else statement ```"
   ]
  },
  {
   "cell_type": "code",
   "execution_count": 1,
   "id": "b631e64c-3aa4-44fc-add4-9cd08880d83e",
   "metadata": {},
   "outputs": [
    {
     "name": "stdin",
     "output_type": "stream",
     "text": [
      "enter the value : 4\n"
     ]
    },
    {
     "name": "stdout",
     "output_type": "stream",
     "text": [
      "+\n"
     ]
    }
   ],
   "source": [
    "# 1. Write a Python program to check if a given number is positive or negative.\n",
    "n = int(input(\"enter the value :\"))\n",
    "if n<0:\n",
    "    print(\"-\")\n",
    "else:\n",
    "    print(\"+\")\n",
    "    "
   ]
  },
  {
   "cell_type": "code",
   "execution_count": 3,
   "id": "7a23f29c-d396-4f2b-b7eb-6b1dbbeee24d",
   "metadata": {},
   "outputs": [
    {
     "name": "stdin",
     "output_type": "stream",
     "text": [
      "Enter your age:  4\n"
     ]
    },
    {
     "name": "stdout",
     "output_type": "stream",
     "text": [
      "You are not eligible to vote.\n"
     ]
    }
   ],
   "source": [
    "# 2. Create a program that determines if a person is eligible to vote based on their age.\n",
    "age = int(input(\"Enter your age: \"))\n",
    "\n",
    "if age >= 18:\n",
    "    print(\"You are eligible to vote.\")\n",
    "else:\n",
    "    print(\"You are not eligible to vote.\")"
   ]
  },
  {
   "cell_type": "code",
   "execution_count": 5,
   "id": "99edc5e8-b77a-4eb5-adf0-bb2934c8e1eb",
   "metadata": {},
   "outputs": [
    {
     "name": "stdout",
     "output_type": "stream",
     "text": [
      "Maximum: 20\n"
     ]
    }
   ],
   "source": [
    "# 3 . Develop a program to find the maximum of two numbers using if-else statements.\n",
    "def find_maximum(num1, num2):\n",
    "    if num1 > num2:\n",
    "        return num1\n",
    "    else:\n",
    "        return num2\n",
    "\n",
    "# Example usage\n",
    "print(\"Maximum:\", find_maximum(10, 20))"
   ]
  },
  {
   "cell_type": "code",
   "execution_count": 7,
   "id": "a7553196-bdbc-4b3c-bb4a-2fa35e438bb6",
   "metadata": {},
   "outputs": [
    {
     "name": "stdout",
     "output_type": "stream",
     "text": [
      "2024 is a leap year: True\n"
     ]
    }
   ],
   "source": [
    "# 4. Write a Python script to classify a given year as a leap year or not.\n",
    "def is_leap_year(year):\n",
    "    if (year % 4 == 0 and year % 100 != 0) or (year % 400 == 0):\n",
    "        return True\n",
    "    else:\n",
    "        return False\n",
    "\n",
    "# Example usage\n",
    "year = 2024\n",
    "print(f\"{year} is a leap year: {is_leap_year(year)}\")"
   ]
  },
  {
   "cell_type": "code",
   "execution_count": 9,
   "id": "f7a43021-892c-491f-983d-6c758f8d50a7",
   "metadata": {},
   "outputs": [
    {
     "name": "stdout",
     "output_type": "stream",
     "text": [
      "Vowel\n",
      "Consonant\n"
     ]
    }
   ],
   "source": [
    "# 5. Create a program that checks whether a character is a vowel or a consonant.\n",
    "def check_character(char):\n",
    "    vowels = 'aeiouAEIOU'\n",
    "    if char.isalpha() and len(char) == 1:\n",
    "        if char in vowels:\n",
    "            return \"Vowel\"\n",
    "        else:\n",
    "            return \"Consonant\"\n",
    "    else:\n",
    "        return \"Invalid input\"\n",
    "\n",
    "# Example usage\n",
    "print(check_character('A'))\n",
    "print(check_character('b'))"
   ]
  },
  {
   "cell_type": "code",
   "execution_count": 11,
   "id": "6d3462fb-218c-4587-8239-497cce20c3fb",
   "metadata": {},
   "outputs": [
    {
     "name": "stdout",
     "output_type": "stream",
     "text": [
      "Odd\n"
     ]
    }
   ],
   "source": [
    "# 6. Implement a program to determine whether a given number is even or odd.\n",
    "def check_even_odd(number):\n",
    "    if number % 2 == 0:\n",
    "        return \"Even\"\n",
    "    else:\n",
    "        return \"Odd\"\n",
    "\n",
    "# Example usage\n",
    "print(check_even_odd(7))"
   ]
  },
  {
   "cell_type": "code",
   "execution_count": 13,
   "id": "31d73422-66c3-42d7-ad41-76f096a910c0",
   "metadata": {},
   "outputs": [
    {
     "name": "stdout",
     "output_type": "stream",
     "text": [
      "5\n"
     ]
    }
   ],
   "source": [
    "# 7. Write a Python function to calculate the absolute value of a number without using the `abs()` function.\n",
    "def absolute_value(num):\n",
    "    if num < 0:\n",
    "        return -num\n",
    "    else:\n",
    "        return num\n",
    "\n",
    "# Example usage\n",
    "print(absolute_value(-5))"
   ]
  },
  {
   "cell_type": "code",
   "execution_count": 15,
   "id": "eac5ba83-6e1d-4241-a93a-73d73039d94a",
   "metadata": {},
   "outputs": [
    {
     "name": "stdout",
     "output_type": "stream",
     "text": [
      "Largest: 20\n"
     ]
    }
   ],
   "source": [
    "# 8. Develop a program that determines the largest of three given numbers using if-else statements.\n",
    "def find_largest_of_three(num1, num2, num3):\n",
    "    if num1 >= num2 and num1 >= num3:\n",
    "        return num1\n",
    "    elif num2 >= num1 and num2 >= num3:\n",
    "        return num2\n",
    "    else:\n",
    "        return num3\n",
    "\n",
    "# Example usage\n",
    "print(\"Largest:\", find_largest_of_three(10, 20, 15))"
   ]
  },
  {
   "cell_type": "code",
   "execution_count": 17,
   "id": "4467ea6c-9143-46dd-b840-6d679d7fa0b4",
   "metadata": {},
   "outputs": [
    {
     "name": "stdout",
     "output_type": "stream",
     "text": [
      "True\n"
     ]
    }
   ],
   "source": [
    "# 9. Create a program that checks if a given string is a palindrome.\n",
    "def is_palindrome(string):\n",
    "    cleaned_string = ''.join(char.lower() for char in string if char.isalnum())\n",
    "    return cleaned_string == cleaned_string[::-1]\n",
    "\n",
    "# Example usage\n",
    "print(is_palindrome(\"A man, a plan, a canal, Panama\"))"
   ]
  },
  {
   "cell_type": "code",
   "execution_count": 19,
   "id": "38776206-4bcc-48bd-ad4d-66b57d337960",
   "metadata": {},
   "outputs": [
    {
     "name": "stdout",
     "output_type": "stream",
     "text": [
      "Grade: B\n"
     ]
    }
   ],
   "source": [
    "# 10. Write a Python program to calculate the grade based on a student's score.\n",
    "def calculate_grade(score):\n",
    "    if score >= 90:\n",
    "        return \"A\"\n",
    "    elif score >= 80:\n",
    "        return \"B\"\n",
    "    elif score >= 70:\n",
    "        return \"C\"\n",
    "    elif score >= 60:\n",
    "        return \"D\"\n",
    "    else:\n",
    "        return \"F\"\n",
    "\n",
    "# Example usage\n",
    "print(\"Grade:\", calculate_grade(85))"
   ]
  },
  {
   "cell_type": "markdown",
   "id": "1e4a3862-e89b-4b63-90b4-b916a907159a",
   "metadata": {},
   "source": [
    "### ``` Nested if else statement ```"
   ]
  },
  {
   "cell_type": "code",
   "execution_count": 24,
   "id": "67363f9a-47de-4366-9e4b-d96e38a0c82b",
   "metadata": {},
   "outputs": [
    {
     "name": "stdout",
     "output_type": "stream",
     "text": [
      "Largest: 20\n"
     ]
    }
   ],
   "source": [
    "# 11. Write a program to find the largest among three numbers using nested if-else statements.\n",
    "def find_largest(num1, num2, num3):\n",
    "    if num1 >= num2:\n",
    "        if num1 >= num3:\n",
    "            return num1\n",
    "        else:\n",
    "            return num3\n",
    "    else:\n",
    "        if num2 >= num3:\n",
    "            return num2\n",
    "        else:\n",
    "            return num3\n",
    "\n",
    "# Example usage\n",
    "print(\"Largest:\", find_largest(10, 20, 15))"
   ]
  },
  {
   "cell_type": "code",
   "execution_count": 26,
   "id": "b1195aa0-63b3-417b-bd22-1d5bf1db8da6",
   "metadata": {},
   "outputs": [
    {
     "name": "stdout",
     "output_type": "stream",
     "text": [
      "Equilateral triangle\n"
     ]
    }
   ],
   "source": [
    "# 12. Implement a program to determine if a triangle is equilateral, isosceles, or scalene.\n",
    "def classify_triangle(side1, side2, side3):\n",
    "    if side1 == side2 == side3:\n",
    "        return \"Equilateral triangle\"\n",
    "    elif side1 == side2 or side1 == side3 or side2 == side3:\n",
    "        return \"Isosceles triangle\"\n",
    "    else:\n",
    "        return \"Scalene triangle\"\n",
    "\n",
    "# Example usage\n",
    "print(classify_triangle(5, 5, 5))"
   ]
  },
  {
   "cell_type": "code",
   "execution_count": 28,
   "id": "9497a674-df3d-4fcd-b882-19f45a41ac9e",
   "metadata": {},
   "outputs": [
    {
     "name": "stdout",
     "output_type": "stream",
     "text": [
      "2024 is a leap year: True\n"
     ]
    }
   ],
   "source": [
    "# 13. Develop a program that checks if a year is a leap year and also if it is a century year.\n",
    "def is_leap_year(year):\n",
    "    if year % 400 == 0:\n",
    "        return True\n",
    "    else:\n",
    "        if year % 100 == 0:\n",
    "            return False\n",
    "        else:\n",
    "            if year % 4 == 0:\n",
    "                return True\n",
    "            else:\n",
    "                return False\n",
    "\n",
    "# Example usage\n",
    "year = 2024\n",
    "print(f\"{year} is a leap year: {is_leap_year(year)}\")"
   ]
  },
  {
   "cell_type": "code",
   "execution_count": 30,
   "id": "e9db148d-cc12-46ef-b792-d1e249a15b3e",
   "metadata": {},
   "outputs": [
    {
     "name": "stdout",
     "output_type": "stream",
     "text": [
      "Negative\n"
     ]
    }
   ],
   "source": [
    "# 14. Write a Python script to determine if a number is positive, negative, or zero.\n",
    "def check_sign(number):\n",
    "    if number > 0:\n",
    "        return \"Positive\"\n",
    "    else:\n",
    "        if number < 0:\n",
    "            return \"Negative\"\n",
    "        else:\n",
    "            return \"Zero\"\n",
    "\n",
    "# Example usage\n",
    "print(check_sign(-5))"
   ]
  },
  {
   "cell_type": "code",
   "execution_count": 32,
   "id": "7a40362a-a182-4b3c-a07a-651e7795627f",
   "metadata": {},
   "outputs": [
    {
     "name": "stdout",
     "output_type": "stream",
     "text": [
      "True\n"
     ]
    }
   ],
   "source": [
    "# 15. Create a program to check if a person is a teenager (between 13 and 19 years old).\n",
    "def is_teenager(age):\n",
    "    if age >= 13:\n",
    "        if age <= 19:\n",
    "            return True\n",
    "        else:\n",
    "            return False\n",
    "    else:\n",
    "        return False\n",
    "\n",
    "# Example usage\n",
    "print(is_teenager(15))"
   ]
  },
  {
   "cell_type": "code",
   "execution_count": 34,
   "id": "d8e84fcd-3af9-407a-91df-305a7f2fedc6",
   "metadata": {},
   "outputs": [
    {
     "name": "stdout",
     "output_type": "stream",
     "text": [
      "Acute angle\n"
     ]
    }
   ],
   "source": [
    "# 16. Develop a program that determines the type of angle based on its measure (acute, obtuse, or right).\n",
    "def classify_angle(angle):\n",
    "    if angle < 90:\n",
    "        return \"Acute angle\"\n",
    "    else:\n",
    "        if angle > 90:\n",
    "            return \"Obtuse angle\"\n",
    "        else:\n",
    "            return \"Right angle\"\n",
    "\n",
    "# Example usage\n",
    "print(classify_angle(45))"
   ]
  },
  {
   "cell_type": "code",
   "execution_count": 36,
   "id": "3ddcb13d-5638-4b7a-b6a2-295eec922067",
   "metadata": {},
   "outputs": [
    {
     "name": "stdout",
     "output_type": "stream",
     "text": [
      "(2.0, 1.0)\n"
     ]
    }
   ],
   "source": [
    "# 17. Write a Python program to calculate the roots of a quadratic equation.\n",
    "import math\n",
    "\n",
    "def solve_quadratic(a, b, c):\n",
    "    discriminant = b**2 - 4*a*c\n",
    "    if discriminant > 0:\n",
    "        root1 = (-b + math.sqrt(discriminant)) / (2*a)\n",
    "        root2 = (-b - math.sqrt(discriminant)) / (2*a)\n",
    "        return (root1, root2)\n",
    "    else:\n",
    "        if discriminant == 0:\n",
    "            root = -b / (2*a)\n",
    "            return (root,)\n",
    "        else:\n",
    "            return None\n",
    "\n",
    "# Example usage\n",
    "print(solve_quadratic(1, -3, 2))"
   ]
  },
  {
   "cell_type": "code",
   "execution_count": 38,
   "id": "23945d4d-6d7a-4583-a545-9dcfeb1796ef",
   "metadata": {},
   "outputs": [
    {
     "name": "stdout",
     "output_type": "stream",
     "text": [
      "Wednesday\n"
     ]
    }
   ],
   "source": [
    "# 18. Implement a program to determine the day of the week based on a user-provided number (1 for Monday, 2 for Tuesday, etc.).\n",
    "def get_day_of_week(day_number):\n",
    "    if day_number == 1:\n",
    "        return \"Monday\"\n",
    "    else:\n",
    "        if day_number == 2:\n",
    "            return \"Tuesday\"\n",
    "        else:\n",
    "            if day_number == 3:\n",
    "                return \"Wednesday\"\n",
    "            else:\n",
    "                if day_number == 4:\n",
    "                    return \"Thursday\"\n",
    "                else:\n",
    "                    if day_number == 5:\n",
    "                        return \"Friday\"\n",
    "                    else:\n",
    "                        if day_number == 6:\n",
    "                            return \"Saturday\"\n",
    "                        else:\n",
    "                            if day_number == 7:\n",
    "                                return \"Sunday\"\n",
    "                            else:\n",
    "                                return \"Invalid day number\"\n",
    "\n",
    "# Example usage\n",
    "print(get_day_of_week(3))"
   ]
  },
  {
   "cell_type": "code",
   "execution_count": 40,
   "id": "f2111166-912d-4f94-a9f3-6ec9398740b0",
   "metadata": {},
   "outputs": [
    {
     "name": "stdout",
     "output_type": "stream",
     "text": [
      "2000 is a leap year: True\n"
     ]
    }
   ],
   "source": [
    "# 19. Create a program that determines if a year is a leap year and also if it is evenly divisible by 400.\n",
    "def is_leap_year(year):\n",
    "    if year % 400 == 0:\n",
    "        return True\n",
    "    else:\n",
    "        if year % 100 == 0:\n",
    "            return False\n",
    "        else:\n",
    "            if year % 4 == 0:\n",
    "                return True\n",
    "            else:\n",
    "                return False\n",
    "\n",
    "# Example usage\n",
    "year = 2000\n",
    "print(f\"{year} is a leap year: {is_leap_year(year)}\")"
   ]
  },
  {
   "cell_type": "code",
   "execution_count": 42,
   "id": "7d2ee78d-26d7-45e7-b780-f30f4bc2bc9a",
   "metadata": {},
   "outputs": [
    {
     "name": "stdout",
     "output_type": "stream",
     "text": [
      "True\n"
     ]
    }
   ],
   "source": [
    "# 20. Develop a program that checks if a given number is prime or not using nested if-else statements.\n",
    "def is_prime(number):\n",
    "    if number <= 1:\n",
    "        return False\n",
    "    else:\n",
    "        if number <= 3:\n",
    "            return True\n",
    "        else:\n",
    "            if number % 2 == 0 or number % 3 == 0:\n",
    "                return False\n",
    "            else:\n",
    "                i = 5\n",
    "                while i * i <= number:\n",
    "                    if number % i == 0 or number % (i + 2) == 0:\n",
    "                        return False\n",
    "                    i += 6\n",
    "                return True\n",
    "\n",
    "# Example usage\n",
    "print(is_prime(7))"
   ]
  },
  {
   "cell_type": "markdown",
   "id": "ba4d129d-9e68-43eb-aba9-d61310998f9c",
   "metadata": {},
   "source": [
    "### ```Elif Statement```"
   ]
  },
  {
   "cell_type": "code",
   "execution_count": 26,
   "id": "4282da30-c988-4150-bae4-4d1bab70d07b",
   "metadata": {},
   "outputs": [
    {
     "name": "stdout",
     "output_type": "stream",
     "text": [
      "Grade: B\n"
     ]
    }
   ],
   "source": [
    "# 21 Write a Python program to assign grades based on different ranges of scores using elif statements.\n",
    "def calculate_grade(score):\n",
    "    if score >= 90:\n",
    "        return \"A\"\n",
    "    elif score >= 80:\n",
    "        return \"B\"\n",
    "    elif score >= 70:\n",
    "        return \"C\"\n",
    "    elif score >= 60:\n",
    "        return \"D\"\n",
    "    else:\n",
    "        return \"F\"\n",
    "\n",
    "# Example usage\n",
    "print(\"Grade:\", calculate_grade(85))"
   ]
  },
  {
   "cell_type": "code",
   "execution_count": 28,
   "id": "3011a648-29d3-4feb-8144-89d1054805b9",
   "metadata": {},
   "outputs": [
    {
     "name": "stdout",
     "output_type": "stream",
     "text": [
      "Acute triangle\n"
     ]
    }
   ],
   "source": [
    "# 22. Implement a program to determine the type of a triangle based on its angles.\n",
    "def triangle_type(angle1, angle2, angle3):\n",
    "    if angle1 + angle2 + angle3 != 180:\n",
    "        return \"Not a valid triangle\"\n",
    "    elif angle1 < 90 and angle2 < 90 and angle3 < 90:\n",
    "        return \"Acute triangle\"\n",
    "    elif angle1 == 90 or angle2 == 90 or angle3 == 90:\n",
    "        return \"Right triangle\"\n",
    "    else:\n",
    "        return \"Obtuse triangle\"\n",
    "\n",
    "# Example usage\n",
    "print(triangle_type(60, 60, 60))  # Acute triangle"
   ]
  },
  {
   "cell_type": "code",
   "execution_count": 30,
   "id": "da9fdd31-4ee3-49d9-8836-5b0e936864f2",
   "metadata": {},
   "outputs": [
    {
     "name": "stdout",
     "output_type": "stream",
     "text": [
      "Normal weight\n"
     ]
    }
   ],
   "source": [
    "# 23. Develop a program to categorize a given person's BMI into underweight, normal, overweight, or obese using elif statements.\n",
    "def bmi_category(weight, height):\n",
    "    bmi = weight / (height ** 2)\n",
    "    if bmi < 18.5:\n",
    "        return \"Underweight\"\n",
    "    elif 18.5 <= bmi < 24.9:\n",
    "        return \"Normal weight\"\n",
    "    elif 25 <= bmi < 29.9:\n",
    "        return \"Overweight\"\n",
    "    else:\n",
    "        return \"Obese\"\n",
    "\n",
    "# Example usage\n",
    "print(bmi_category(70, 1.75))  # Normal weight"
   ]
  },
  {
   "cell_type": "code",
   "execution_count": 32,
   "id": "3a824925-880d-4b35-b9c5-67a0f190be5a",
   "metadata": {},
   "outputs": [
    {
     "name": "stdout",
     "output_type": "stream",
     "text": [
      "Negative\n"
     ]
    }
   ],
   "source": [
    "# 24. Create a program that determines whether a given number is positive, negative, or zero using elif statements.\n",
    "def number_sign(number):\n",
    "    if number > 0:\n",
    "        return \"Positive\"\n",
    "    elif number < 0:\n",
    "        return \"Negative\"\n",
    "    else:\n",
    "        return \"Zero\"\n",
    "\n",
    "# Example usage\n",
    "print(number_sign(-5))  # Negative"
   ]
  },
  {
   "cell_type": "code",
   "execution_count": 34,
   "id": "4eebdb2d-5171-40a3-92b9-407979b6820a",
   "metadata": {},
   "outputs": [
    {
     "name": "stdout",
     "output_type": "stream",
     "text": [
      "Special character\n"
     ]
    }
   ],
   "source": [
    "# 25. Write a Python script to determine the type of a character (uppercase, lowercase, or special) using elif statements.\n",
    "def character_type(char):\n",
    "    if char.isupper():\n",
    "        return \"Uppercase letter\"\n",
    "    elif char.islower():\n",
    "        return \"Lowercase letter\"\n",
    "    elif char.isalnum():\n",
    "        return \"Digit\"\n",
    "    else:\n",
    "        return \"Special character\"\n",
    "\n",
    "# Example usage\n",
    "print(character_type('@'))  # Special character"
   ]
  },
  {
   "cell_type": "code",
   "execution_count": 36,
   "id": "92077697-3312-4388-a823-62531b24ee57",
   "metadata": {},
   "outputs": [
    {
     "name": "stdout",
     "output_type": "stream",
     "text": [
      "480.0\n"
     ]
    }
   ],
   "source": [
    "# 26. Implement a program to calculate the discounted price based on different purchase amounts using elif statements.\n",
    "def discounted_price(amount):\n",
    "    if amount < 100:\n",
    "        discount = 0\n",
    "    elif 100 <= amount < 500:\n",
    "        discount = 0.1\n",
    "    elif 500 <= amount < 1000:\n",
    "        discount = 0.2\n",
    "    else:\n",
    "        discount = 0.3\n",
    "    return amount * (1 - discount)\n",
    "\n",
    "# Example usage\n",
    "print(discounted_price(600))  # 480.0"
   ]
  },
  {
   "cell_type": "code",
   "execution_count": 38,
   "id": "5906402a-5db8-4311-8f9d-35763e1ebc2b",
   "metadata": {},
   "outputs": [
    {
     "name": "stdout",
     "output_type": "stream",
     "text": [
      "500.0\n"
     ]
    }
   ],
   "source": [
    "# 27. Develop a program to calculate the electricity bill based on different consumption slabs using elif statements.\n",
    "def electricity_bill(units):\n",
    "    if units <= 100:\n",
    "        bill = units * 1.5\n",
    "    elif units <= 300:\n",
    "        bill = units * 2.0\n",
    "    elif units <= 500:\n",
    "        bill = units * 2.5\n",
    "    else:\n",
    "        bill = units * 3.0\n",
    "    return bill\n",
    "\n",
    "# Example usage\n",
    "print(electricity_bill(250))  # 500.0"
   ]
  },
  {
   "cell_type": "code",
   "execution_count": 40,
   "id": "f84a4982-5832-4909-95f0-e50da4d4c2a9",
   "metadata": {},
   "outputs": [
    {
     "name": "stdout",
     "output_type": "stream",
     "text": [
      "Rectangle\n"
     ]
    }
   ],
   "source": [
    "# 28. Create a program to determine the type of quadrilateral based on its angles and sides using elif statements.\n",
    "def quadrilateral_type(sides, angles):\n",
    "    if len(sides) != 4 or len(angles) != 4:\n",
    "        return \"Not a valid quadrilateral\"\n",
    "    if all(angle == 90 for angle in angles):\n",
    "        return \"Rectangle\"\n",
    "    elif all(sides[0] == sides[i] for i in range(1, 4)):\n",
    "        return \"Rhombus\"\n",
    "    elif any(angle > 180 for angle in angles):\n",
    "        return \"Irregular quadrilateral\"\n",
    "    else:\n",
    "        return \"Quadrilateral\"\n",
    "\n",
    "# Example usage\n",
    "print(quadrilateral_type([5, 5, 5, 5], [90, 90, 90, 90]))  # Rectangle"
   ]
  },
  {
   "cell_type": "code",
   "execution_count": 42,
   "id": "ac566702-01b0-49a3-837c-914a72480fa7",
   "metadata": {},
   "outputs": [
    {
     "name": "stdout",
     "output_type": "stream",
     "text": [
      "Spring\n"
     ]
    }
   ],
   "source": [
    "# 29. Write a Python script to determine the season based on a user-provided month using elif statements.\n",
    "def season(month):\n",
    "    if month in [12, 1, 2]:\n",
    "        return \"Winter\"\n",
    "    elif month in [3, 4, 5]:\n",
    "        return \"Spring\"\n",
    "    elif month in [6, 7, 8]:\n",
    "        return \"Summer\"\n",
    "    elif month in [9, 10, 11]:\n",
    "        return \"Fall\"\n",
    "    else:\n",
    "        return \"Invalid month\"\n",
    "\n",
    "# Example usage\n",
    "print(season(4))  # Spring"
   ]
  },
  {
   "cell_type": "code",
   "execution_count": 44,
   "id": "09dd6410-8bdc-447b-b290-0b518fbb9e91",
   "metadata": {},
   "outputs": [
    {
     "name": "stdout",
     "output_type": "stream",
     "text": [
      "Leap year, 28 or 29 days\n"
     ]
    }
   ],
   "source": [
    "# 30. Implement a program to determine the type of a year (leap or common) and month (30 or 31 days) using elif statements.\n",
    "def year_and_month_type(year, month):\n",
    "    if month < 1 or month > 12:\n",
    "        return \"Invalid month\"\n",
    "    \n",
    "    if (year % 4 == 0 and year % 100 != 0) or (year % 400 == 0):\n",
    "        year_type = \"Leap year\"\n",
    "    else:\n",
    "        year_type = \"Common year\"\n",
    "\n",
    "    if month in [1, 3, 5, 7, 8, 10, 12]:\n",
    "        month_type = \"31 days\"\n",
    "    elif month in [4, 6, 9, 11]:\n",
    "        month_type = \"30 days\"\n",
    "    else:\n",
    "        month_type = \"28 or 29 days\"\n",
    "\n",
    "    return f\"{year_type}, {month_type}\"\n",
    "\n",
    "# Example usage\n",
    "print(year_and_month_type(2024, 2))  # Leap year, 28 or 29 days"
   ]
  },
  {
   "cell_type": "markdown",
   "id": "aa1fce9f-43d9-47f5-9eb4-733f7e275009",
   "metadata": {},
   "source": [
    "### ```Basics level```"
   ]
  },
  {
   "cell_type": "code",
   "execution_count": 57,
   "id": "4a2c08b7-f70e-467e-9059-d21e049cb78b",
   "metadata": {},
   "outputs": [
    {
     "name": "stdout",
     "output_type": "stream",
     "text": [
      "Negative\n"
     ]
    }
   ],
   "source": [
    "# 1. Write a Python program that checks if a given number is positive, negative, or zero.\n",
    "def check_number(num):\n",
    "    if num > 0:\n",
    "        return \"Positive\"\n",
    "    elif num < 0:\n",
    "        return \"Negative\"\n",
    "    else:\n",
    "        return \"Zero\"\n",
    "\n",
    "# Example usage\n",
    "print(check_number(-10))  # Negative"
   ]
  },
  {
   "cell_type": "code",
   "execution_count": 59,
   "id": "3d037eb0-2405-437d-b549-ff3dab93a9e1",
   "metadata": {},
   "outputs": [
    {
     "name": "stdout",
     "output_type": "stream",
     "text": [
      "Eligible to vote\n"
     ]
    }
   ],
   "source": [
    "# 2. Create a program to determine if a person is eligible to vote based on their age.\n",
    "def check_voting_eligibility(age):\n",
    "    if age >= 18:\n",
    "        return \"Eligible to vote\"\n",
    "    else:\n",
    "        return \"Not eligible to vote\"\n",
    "\n",
    "# Example usage\n",
    "print(check_voting_eligibility(20))  # Eligible to vote"
   ]
  },
  {
   "cell_type": "code",
   "execution_count": 61,
   "id": "95225f06-f9cc-4456-9a44-f67df32ddd40",
   "metadata": {},
   "outputs": [
    {
     "name": "stdout",
     "output_type": "stream",
     "text": [
      "20\n"
     ]
    }
   ],
   "source": [
    "# 3. Write a program to find the maximum of two given numbers using conditional statements.\n",
    "def max_of_two(num1, num2):\n",
    "    if num1 > num2:\n",
    "        return num1\n",
    "    elif num2 > num1:\n",
    "        return num2\n",
    "    else:\n",
    "        return \"Both numbers are equal\"\n",
    "\n",
    "# Example usage\n",
    "print(max_of_two(10, 20))  # 20"
   ]
  },
  {
   "cell_type": "code",
   "execution_count": 63,
   "id": "866d439e-a05d-474c-beb1-6f73681d1c20",
   "metadata": {},
   "outputs": [
    {
     "name": "stdout",
     "output_type": "stream",
     "text": [
      "B\n"
     ]
    }
   ],
   "source": [
    "# 4. Develop a program that calculates the grade of a student based on their exam score.\n",
    "def calculate_grade(score):\n",
    "    if score >= 90:\n",
    "        return \"A\"\n",
    "    elif score >= 80:\n",
    "        return \"B\"\n",
    "    elif score >= 70:\n",
    "        return \"C\"\n",
    "    elif score >= 60:\n",
    "        return \"D\"\n",
    "    else:\n",
    "        return \"F\"\n",
    "\n",
    "# Example usage\n",
    "print(calculate_grade(85))  # B"
   ]
  },
  {
   "cell_type": "code",
   "execution_count": 65,
   "id": "10326245-8596-4228-8f2b-1e2dd01706ea",
   "metadata": {},
   "outputs": [
    {
     "name": "stdout",
     "output_type": "stream",
     "text": [
      "Leap year\n"
     ]
    }
   ],
   "source": [
    "# 5. Create a program that checks if a year is a leap year or not.\n",
    "def is_leap_year(year):\n",
    "    if (year % 4 == 0 and year % 100 != 0) or (year % 400 == 0):\n",
    "        return \"Leap year\"\n",
    "    else:\n",
    "        return \"Not a leap year\"\n",
    "\n",
    "# Example usage\n",
    "print(is_leap_year(2024))  # Leap year"
   ]
  },
  {
   "cell_type": "code",
   "execution_count": 67,
   "id": "6b28e733-aae2-40ba-bfbe-76cb4c8a183e",
   "metadata": {},
   "outputs": [
    {
     "name": "stdout",
     "output_type": "stream",
     "text": [
      "Scalene triangle\n"
     ]
    }
   ],
   "source": [
    "# 6. Write a program to classify a triangle based on its sides' lengths.\n",
    "def classify_triangle(a, b, c):\n",
    "    if a <= 0 or b <= 0 or c <= 0:\n",
    "        return \"Not a valid triangle\"\n",
    "    elif a == b == c:\n",
    "        return \"Equilateral triangle\"\n",
    "    elif a == b or b == c or a == c:\n",
    "        return \"Isosceles triangle\"\n",
    "    else:\n",
    "        return \"Scalene triangle\"\n",
    "\n",
    "# Example usage\n",
    "print(classify_triangle(3, 4, 5))  # Scalene triangle"
   ]
  },
  {
   "cell_type": "code",
   "execution_count": 69,
   "id": "29747ea9-c782-4a03-8213-3d6394095561",
   "metadata": {},
   "outputs": [
    {
     "name": "stdout",
     "output_type": "stream",
     "text": [
      "20\n"
     ]
    }
   ],
   "source": [
    "# 7. Build a program that determines the largest of three given numbers.\n",
    "def largest_of_three(num1, num2, num3):\n",
    "    if num1 >= num2 and num1 >= num3:\n",
    "        return num1\n",
    "    elif num2 >= num1 and num2 >= num3:\n",
    "        return num2\n",
    "    else:\n",
    "        return num3\n",
    "\n",
    "# Example usage\n",
    "print(largest_of_three(10, 20, 15))  # 20"
   ]
  },
  {
   "cell_type": "code",
   "execution_count": 71,
   "id": "870801f4-3991-4f05-bfdf-754e85c9df8c",
   "metadata": {},
   "outputs": [
    {
     "name": "stdout",
     "output_type": "stream",
     "text": [
      "Vowel\n"
     ]
    }
   ],
   "source": [
    "# 8. Develop a program that checks whether a character is a vowel or a consonant.\n",
    "def check_character(char):\n",
    "    if char.lower() in 'aeiou':\n",
    "        return \"Vowel\"\n",
    "    elif char.isalpha():\n",
    "        return \"Consonant\"\n",
    "    else:\n",
    "        return \"Not a valid alphabet character\"\n",
    "\n",
    "# Example usage\n",
    "print(check_character('A'))  # Vowel"
   ]
  },
  {
   "cell_type": "code",
   "execution_count": 73,
   "id": "6e9fe93c-5ec2-43af-aabd-01b414b6658d",
   "metadata": {},
   "outputs": [
    {
     "name": "stdout",
     "output_type": "stream",
     "text": [
      "120.0\n"
     ]
    }
   ],
   "source": [
    "# 9. Create a program to calculate the total cost of a shopping cart based on discounts.\n",
    "def calculate_total_cost(cart_value):\n",
    "    if cart_value < 50:\n",
    "        discount = 0\n",
    "    elif cart_value < 100:\n",
    "        discount = 0.1\n",
    "    elif cart_value < 200:\n",
    "        discount = 0.2\n",
    "    else:\n",
    "        discount = 0.3\n",
    "    total_cost = cart_value * (1 - discount)\n",
    "    return total_cost\n",
    "\n",
    "# Example usage\n",
    "print(calculate_total_cost(150))  # 120.0"
   ]
  },
  {
   "cell_type": "code",
   "execution_count": 75,
   "id": "bf7090b7-d96d-4c3e-8410-ef96f1a8d9d4",
   "metadata": {},
   "outputs": [
    {
     "name": "stdout",
     "output_type": "stream",
     "text": [
      "Odd\n"
     ]
    }
   ],
   "source": [
    "# 10. Write a program that checks if a given number is even or odd.\n",
    "def check_even_odd(num):\n",
    "    if num % 2 == 0:\n",
    "        return \"Even\"\n",
    "    else:\n",
    "        return \"Odd\"\n",
    "\n",
    "# Example usage\n",
    "print(check_even_odd(7))  # Odd"
   ]
  },
  {
   "cell_type": "code",
   "execution_count": 77,
   "id": "24068bac-f676-47e6-bcad-ff08196e7acd",
   "metadata": {},
   "outputs": [],
   "source": [
    "#"
   ]
  },
  {
   "cell_type": "code",
   "execution_count": 90,
   "id": "9bc19b26-f555-4bb7-973f-e2bb9432b6ba",
   "metadata": {},
   "outputs": [
    {
     "name": "stdout",
     "output_type": "stream",
     "text": [
      "first root is 2.0 and second root is 1.0\n"
     ]
    }
   ],
   "source": [
    "# 11.  program for quadratic algorithm \n",
    "# x = (-b ± √(b^2 - 4ac)) / (2a)\n",
    "import math\n",
    "def quantfunc(a,b,c): # function having three parameteres for quadratic \n",
    "    x1 = (-b+math.sqrt((b**2 -(4*a*c))))/ (2*a)\n",
    "    x2 = (-b-math.sqrt((b**2 -(4*a*c))))/ (2*a)\n",
    "    print(f\"first root is {x1} and second root is {x2}\")\n",
    "\n",
    "quantfunc(1,-3,2)"
   ]
  },
  {
   "cell_type": "code",
   "execution_count": 112,
   "id": "e955a35e-d913-4d56-8a12-a507611c02bb",
   "metadata": {},
   "outputs": [
    {
     "name": "stdin",
     "output_type": "stream",
     "text": [
      "Enter the number between 1 to 7 inclusive:  5\n"
     ]
    },
    {
     "name": "stdout",
     "output_type": "stream",
     "text": [
      "The day according to the input is: Friday\n"
     ]
    }
   ],
   "source": [
    "# 12 Create a program that determines the day of the week based on the day number (1-7).\n",
    "def day(num):\n",
    "    # List of days of the week (index 1 to 7)\n",
    "    days = ['Monday', 'Tuesday', 'Wednesday', 'Thursday', 'Friday', 'Saturday', 'Sunday']\n",
    "\n",
    "    if 1 <= num <= 7:\n",
    "        print(\"The day according to the input is:\", days[num - 1])  # Adjust index for 0-based list\n",
    "    else:\n",
    "        print(\"Invalid input. Please enter a number between 1 and 7.\")\n",
    "        num = int(input(\"Enter the number properly between 1 to 7: \"))\n",
    "        day(num)  # Call the function again with the new input\n",
    "\n",
    "# Get user input\n",
    "num = int(input(\"Enter the number between 1 to 7 inclusive: \"))\n",
    "day(num)"
   ]
  },
  {
   "cell_type": "code",
   "execution_count": 7,
   "id": "4132ade2-61e4-4873-b328-aadc315bf709",
   "metadata": {},
   "outputs": [
    {
     "name": "stdin",
     "output_type": "stream",
     "text": [
      "Enter a non-negative integer:  7\n"
     ]
    },
    {
     "name": "stdout",
     "output_type": "stream",
     "text": [
      "The factorial of 7 is 5040.\n"
     ]
    }
   ],
   "source": [
    "# 13 develop a prpgram that creates a factorial of a number using recursion\n",
    "def factorial(n):\n",
    "    # Base case: factorial of 0 or 1 is 1\n",
    "    if n == 0 or n == 1:\n",
    "        return 1\n",
    "    # Recursive case: n * factorial of (n-1)\n",
    "    else:\n",
    "        return n * factorial(n - 1)\n",
    "\n",
    "# Prompt user for input\n",
    "number = int(input(\"Enter a non-negative integer: \"))\n",
    "if number < 0:\n",
    "    print(\"Factorial is not defined for negative numbers.\")\n",
    "else:\n",
    "    result = factorial(number)\n",
    "    print(f\"The factorial of {number} is {result}.\")"
   ]
  },
  {
   "cell_type": "code",
   "execution_count": 48,
   "id": "e99c9e7c-bcd4-4d63-9faf-a8ec3c27dc87",
   "metadata": {},
   "outputs": [
    {
     "data": {
      "text/plain": [
       "12"
      ]
     },
     "execution_count": 48,
     "metadata": {},
     "output_type": "execute_result"
    }
   ],
   "source": [
    "# 14 write a program to find the largest among the three values without using the max fucntion \n",
    "def maxval(a,b,c):\n",
    "    max = 0\n",
    "    if a>b and a>c:\n",
    "        max = a\n",
    "    if b>c and b>a:\n",
    "        max = b\n",
    "    else:\n",
    "        max = c\n",
    "    return max\n",
    "maxval(10,11,12)"
   ]
  },
  {
   "cell_type": "markdown",
   "id": "b1b0fbd3-5bc0-4e3b-827f-19d18c037406",
   "metadata": {},
   "source": [
    "### ```14 Write a program that simulates the basic ATM transaction menu ```"
   ]
  },
  {
   "cell_type": "code",
   "execution_count": 45,
   "id": "304db45a-e086-4304-bad7-825e2e147549",
   "metadata": {},
   "outputs": [
    {
     "name": "stdout",
     "output_type": "stream",
     "text": [
      "WELCOME !!!\n",
      "Enter 1 to check Balance\n",
      "Enter 2 to Deoposit the amount\n",
      "Enter 3 to withdraw the amount\n",
      "Enter 0 to exit\n"
     ]
    },
    {
     "name": "stdin",
     "output_type": "stream",
     "text": [
      "Enter the input 1\n",
      "enter the pin to check the balance or press 0 to exit  0987\n"
     ]
    },
    {
     "name": "stdout",
     "output_type": "stream",
     "text": [
      "your balance is : 10005789\n",
      "WELCOME !!!\n",
      "Enter 1 to check Balance\n",
      "Enter 2 to Deoposit the amount\n",
      "Enter 3 to withdraw the amount\n",
      "Enter 0 to exit\n"
     ]
    },
    {
     "name": "stdin",
     "output_type": "stream",
     "text": [
      "Enter the input 0\n"
     ]
    },
    {
     "name": "stdout",
     "output_type": "stream",
     "text": [
      "you are exited:\n"
     ]
    }
   ],
   "source": [
    "# predefined user data \n",
    "ac_balance = 10005789\n",
    "pin = \"0987\"\n",
    "def ATM():\n",
    "    # predefined user data \n",
    "    \n",
    "    access = \"Welcome to the account\"\n",
    "    def checkbal():\n",
    "        \"\"\" this function is to check the balance of the user \"\"\"\n",
    "        global ac_balance\n",
    "        global pin\n",
    "        attempt = 0\n",
    "        while attempt < 3 :\n",
    "            verify = input(\"enter the pin to check the balance or press 0 to exit \")\n",
    "            if verify == \"0\" :\n",
    "                print(\"exiting the ATM , Thank You !\")\n",
    "                return \n",
    "            if verify == pin:\n",
    "                print(\"your balance is :\",ac_balance)\n",
    "                return ATM()\n",
    "            else :\n",
    "                attempt += 1\n",
    "\n",
    "    def deposit(amount):\n",
    "        \"\"\" this fucntion is used to deposit the amount and the old balance will increase\"\"\"\n",
    "        global ac_balance\n",
    "        ac_balance = ac_balance+amount\n",
    "        print(f\"the amount {amount} credit to your bank , final balance is {ac_balance}\")\n",
    "\n",
    "    def withdrawl(withdraw):\n",
    "        \"\"\" this function is used to withdraw the amount\"\"\"\n",
    "        global ac_balance\n",
    "        ac_balance = ac_balance-withdraw\n",
    "        print(f\"the amount {withdraw} from your account , final balance is {ac_balance}\")\n",
    "\n",
    "    \n",
    "\n",
    "    print(\"WELCOME !!!\\nEnter 1 to check Balance\\nEnter 2 to Deoposit the amount\\nEnter 3 to withdraw the amount\\nEnter 0 to exit\")\n",
    "    n = int(input(\"Enter the input\"))\n",
    "    if n ==1 :\n",
    "        checkbal()\n",
    "\n",
    "    if n==2 :\n",
    "        amount = int(input(\"Enter the amount you want to deposit:\"))\n",
    "        deposit(amount)\n",
    "\n",
    "    if n==3:\n",
    "        withdraw = int(input(\"Enter the amount to withdarw\"))\n",
    "    if n == 0 :\n",
    "        print(\"you are exited:\")\n",
    "        \n",
    "\n",
    "ATM()"
   ]
  },
  {
   "cell_type": "code",
   "execution_count": 55,
   "id": "8d3d4d93-c230-4c17-adc5-a2bcd6dce375",
   "metadata": {},
   "outputs": [
    {
     "name": "stdin",
     "output_type": "stream",
     "text": [
      "enter the string to check wether it is pallindrome or not  gaur \n"
     ]
    },
    {
     "name": "stdout",
     "output_type": "stream",
     "text": [
      "not pallidrome\n"
     ]
    }
   ],
   "source": [
    "# 16. Build a program that checks if a given string is a palindrome or not. \n",
    "def pallin(string):\n",
    "    if string == string[::-1]:\n",
    "        print(\"pallindrome\")\n",
    "    else:\n",
    "        print(\"not pallidrome\")\n",
    "\n",
    "string = input(\"enter the string to check wether it is pallindrome or not \")\n",
    "pallin(string)"
   ]
  },
  {
   "cell_type": "markdown",
   "id": "666325af-5094-4325-b582-412587e9f6b8",
   "metadata": {},
   "source": [
    "### ``` 17. Write a program that calculates the average of a list of numbers, excluding the smallest and largest values.```"
   ]
  },
  {
   "cell_type": "code",
   "execution_count": 77,
   "id": "efc7e9ff-0a0c-4e8c-a0aa-b189b1aaf3ce",
   "metadata": {},
   "outputs": [
    {
     "name": "stdin",
     "output_type": "stream",
     "text": [
      "enter the number in comma seperated form 1,2,3,4,5,5\n"
     ]
    },
    {
     "name": "stdout",
     "output_type": "stream",
     "text": [
      "average of list [2, 3, 4] excluding 1 and 5 from [1, 2, 3, 4, 5, 5] is 3.0\n"
     ]
    }
   ],
   "source": [
    "def aver(li):\n",
    "    newl = [x for x in li if x != min(li) and x != max(li)]\n",
    "    tl = len(newl)\n",
    "    tot = sum(newl)\n",
    "    print(f\"average of list {newl} excluding {min(li)} and {max(li)} from {li} is {tot/tl}\")\n",
    "\n",
    "\n",
    "l = input(\"enter the number in comma seperated form\").split(\",\") \n",
    "li = [int(x) for x in l]\n",
    "aver(li)"
   ]
  },
  {
   "cell_type": "code",
   "execution_count": 87,
   "id": "b6d6e81a-149e-443d-be21-64bdc660438f",
   "metadata": {},
   "outputs": [
    {
     "name": "stdout",
     "output_type": "stream",
     "text": [
      "Welcome to the Basic Calculator!\n",
      "Select operation:\n",
      "1. Addition\n",
      "2. Subtraction\n",
      "3. Multiplication\n",
      "4. Division\n"
     ]
    },
    {
     "name": "stdin",
     "output_type": "stream",
     "text": [
      "Enter choice (1/2/3/4) or 'q' to quit:  1\n",
      "Enter first number:  1\n",
      "Enter second number:  1\n"
     ]
    },
    {
     "name": "stdout",
     "output_type": "stream",
     "text": [
      "1.0 + 1.0 = 2.0\n"
     ]
    },
    {
     "name": "stdin",
     "output_type": "stream",
     "text": [
      "Enter choice (1/2/3/4) or 'q' to quit:  q\n"
     ]
    },
    {
     "name": "stdout",
     "output_type": "stream",
     "text": [
      "Exiting the calculator. Goodbye!\n"
     ]
    }
   ],
   "source": [
    "# 19. Create a program that simulates a basic calculator for addition, subtraction, multiplication, and division.\n",
    "def add(x, y):\n",
    "    return x + y\n",
    "\n",
    "def subtract(x, y):\n",
    "    return x - y\n",
    "\n",
    "def multiply(x, y):\n",
    "    return x * y\n",
    "\n",
    "def divide(x, y):\n",
    "    if y == 0:\n",
    "        return \"Error! Division by zero.\"\n",
    "    return x / y\n",
    "\n",
    "def calculator():\n",
    "    print(\"Welcome to the Basic Calculator!\")\n",
    "    print(\"Select operation:\")\n",
    "    print(\"1. Addition\")\n",
    "    print(\"2. Subtraction\")\n",
    "    print(\"3. Multiplication\")\n",
    "    print(\"4. Division\")\n",
    "\n",
    "    while True:\n",
    "        choice = input(\"Enter choice (1/2/3/4) or 'q' to quit: \")\n",
    "\n",
    "        if choice == 'q':\n",
    "            print(\"Exiting the calculator. Goodbye!\")\n",
    "            break\n",
    "\n",
    "        if choice in ['1', '2', '3', '4']:\n",
    "            try:\n",
    "                num1 = float(input(\"Enter first number: \"))\n",
    "                num2 = float(input(\"Enter second number: \"))\n",
    "            except ValueError:\n",
    "                print(\"Invalid input! Please enter numeric values.\")\n",
    "                continue\n",
    "\n",
    "            if choice == '1':\n",
    "                print(f\"{num1} + {num2} = {add(num1, num2)}\")\n",
    "            elif choice == '2':\n",
    "                print(f\"{num1} - {num2} = {subtract(num1, num2)}\")\n",
    "            elif choice == '3':\n",
    "                print(f\"{num1} * {num2} = {multiply(num1, num2)}\")\n",
    "            elif choice == '4':\n",
    "                print(f\"{num1} / {num2} = {divide(num1, num2)}\")\n",
    "        else:\n",
    "            print(\"Invalid choice! Please select a valid operation.\")\n",
    "\n",
    "if __name__ == \"__main__\":\n",
    "    calculator()"
   ]
  },
  {
   "cell_type": "markdown",
   "id": "0fe7d0c4-a423-4786-bdbf-f88fb0d1d0f7",
   "metadata": {},
   "source": [
    "### ``` 20. Write a program that determines the roots of a cubic equation using the Cardano formula.```"
   ]
  },
  {
   "cell_type": "markdown",
   "id": "34aa7ccf-5010-4cab-a32f-39a5d2b32c9d",
   "metadata": {},
   "source": [
    "### ``` Advance Level```"
   ]
  },
  {
   "cell_type": "markdown",
   "id": "092afb50-7d1e-473b-8904-c8c018a992a8",
   "metadata": {},
   "source": [
    "### ``` 21. Create a program that calculates the income tax based on the user's income and tax brackets.```"
   ]
  },
  {
   "cell_type": "code",
   "execution_count": 84,
   "id": "41b39fab-78b2-4441-a493-b92c12830543",
   "metadata": {},
   "outputs": [
    {
     "name": "stdout",
     "output_type": "stream",
     "text": [
      "Welcome to the Income Tax Calculator!\n"
     ]
    },
    {
     "name": "stdin",
     "output_type": "stream",
     "text": [
      "Enter your annual income (or type 'q' to quit):  1735378\n"
     ]
    },
    {
     "name": "stdout",
     "output_type": "stream",
     "text": [
      "The income tax due on an income of $1,735,378.00 is $681,151.20.\n"
     ]
    },
    {
     "name": "stdin",
     "output_type": "stream",
     "text": [
      "Would you like to calculate again? (y/n):  n\n"
     ]
    },
    {
     "name": "stdout",
     "output_type": "stream",
     "text": [
      "Thank you for using the Income Tax Calculator!\n"
     ]
    }
   ],
   "source": [
    "def calculate_tax(income):\n",
    "    # Define tax brackets as tuples of (income_limit, tax_rate)\n",
    "    tax_brackets = [\n",
    "        (10000, 0.1),    # 10% for income up to $10,000\n",
    "        (40000, 0.2),    # 20% for income between $10,001 and $40,000\n",
    "        (80000, 0.3),    # 30% for income between $40,001 and $80,000\n",
    "        (float('inf'), 0.4)  # 40% for income above $80,000\n",
    "    ]\n",
    "    \n",
    "    tax_due = 0\n",
    "    previous_limit = 0\n",
    "\n",
    "    for limit, rate in tax_brackets:\n",
    "        if income > previous_limit:\n",
    "            taxable_income = min(income, limit) - previous_limit\n",
    "            tax_due += taxable_income * rate\n",
    "            previous_limit = limit\n",
    "        else:\n",
    "            break\n",
    "\n",
    "    return tax_due\n",
    "\n",
    "def main():\n",
    "    print(\"Welcome to the Income Tax Calculator!\")\n",
    "    \n",
    "    while True:\n",
    "        try:\n",
    "            income = float(input(\"Enter your annual income (or type 'q' to quit): \"))\n",
    "            tax_due = calculate_tax(income)\n",
    "            print(f\"The income tax due on an income of ${income:,.2f} is ${tax_due:,.2f}.\")\n",
    "        except ValueError:\n",
    "            print(\"Invalid input! Please enter a numeric value or 'q' to quit.\")\n",
    "            continue\n",
    "        \n",
    "        if input(\"Would you like to calculate again? (y/n): \").lower() != 'y':\n",
    "            break\n",
    "\n",
    "    print(\"Thank you for using the Income Tax Calculator!\")\n",
    "\n",
    "if __name__ == \"__main__\":\n",
    "    main()"
   ]
  },
  {
   "cell_type": "markdown",
   "id": "7b0f0086-b84e-4d8a-af9e-13f303d6a1fe",
   "metadata": {},
   "source": [
    "### ```22 write a program that simulates rock paper and scissors game```"
   ]
  },
  {
   "cell_type": "code",
   "execution_count": 19,
   "id": "97a66dd9-d09c-4967-8396-9b93036b57a5",
   "metadata": {},
   "outputs": [
    {
     "name": "stdout",
     "output_type": "stream",
     "text": [
      "Welcome to Rock-Paper-Scissors!\n"
     ]
    },
    {
     "name": "stdin",
     "output_type": "stream",
     "text": [
      "Enter rock, paper, or scissors (or 'q' to quit):  rock\n"
     ]
    },
    {
     "name": "stdout",
     "output_type": "stream",
     "text": [
      "Computer chose: scissors\n",
      "You win!\n"
     ]
    },
    {
     "name": "stdin",
     "output_type": "stream",
     "text": [
      "Enter rock, paper, or scissors (or 'q' to quit):  rock\n"
     ]
    },
    {
     "name": "stdout",
     "output_type": "stream",
     "text": [
      "Computer chose: paper\n",
      "Computer wins!\n"
     ]
    },
    {
     "name": "stdin",
     "output_type": "stream",
     "text": [
      "Enter rock, paper, or scissors (or 'q' to quit):  rock\n"
     ]
    },
    {
     "name": "stdout",
     "output_type": "stream",
     "text": [
      "Computer chose: scissors\n",
      "You win!\n"
     ]
    },
    {
     "name": "stdin",
     "output_type": "stream",
     "text": [
      "Enter rock, paper, or scissors (or 'q' to quit):  rock\n"
     ]
    },
    {
     "name": "stdout",
     "output_type": "stream",
     "text": [
      "Computer chose: paper\n",
      "Computer wins!\n"
     ]
    },
    {
     "name": "stdin",
     "output_type": "stream",
     "text": [
      "Enter rock, paper, or scissors (or 'q' to quit):  rock\n"
     ]
    },
    {
     "name": "stdout",
     "output_type": "stream",
     "text": [
      "Computer chose: rock\n",
      "It's a tie!\n"
     ]
    },
    {
     "name": "stdin",
     "output_type": "stream",
     "text": [
      "Enter rock, paper, or scissors (or 'q' to quit):  rock\n"
     ]
    },
    {
     "name": "stdout",
     "output_type": "stream",
     "text": [
      "Computer chose: paper\n",
      "Computer wins!\n"
     ]
    },
    {
     "name": "stdin",
     "output_type": "stream",
     "text": [
      "Enter rock, paper, or scissors (or 'q' to quit):  rock\n"
     ]
    },
    {
     "name": "stdout",
     "output_type": "stream",
     "text": [
      "Computer chose: rock\n",
      "It's a tie!\n"
     ]
    },
    {
     "name": "stdin",
     "output_type": "stream",
     "text": [
      "Enter rock, paper, or scissors (or 'q' to quit):  q\n"
     ]
    },
    {
     "name": "stdout",
     "output_type": "stream",
     "text": [
      "Thanks for playing!\n"
     ]
    }
   ],
   "source": [
    "import random\n",
    "\n",
    "def get_computer_choice():\n",
    "    choices = ['rock', 'paper', 'scissors']\n",
    "    return random.choice(choices)\n",
    "\n",
    "def determine_winner(user_choice, computer_choice):\n",
    "    if user_choice == computer_choice:\n",
    "        return \"It's a tie!\"\n",
    "    elif (user_choice == 'rock' and computer_choice == 'scissors') or \\\n",
    "         (user_choice == 'scissors' and computer_choice == 'paper') or \\\n",
    "         (user_choice == 'paper' and computer_choice == 'rock'):\n",
    "        return \"You win!\"\n",
    "    else:\n",
    "        return \"Computer wins!\"\n",
    "\n",
    "def main():\n",
    "    print(\"Welcome to Rock-Paper-Scissors!\")\n",
    "    \n",
    "    while True:\n",
    "        user_choice = input(\"Enter rock, paper, or scissors (or 'q' to quit): \").lower()\n",
    "        \n",
    "        if user_choice == 'q':\n",
    "            print(\"Thanks for playing!\")\n",
    "            break\n",
    "        \n",
    "        if user_choice not in ['rock', 'paper', 'scissors']:\n",
    "            print(\"Invalid choice! Please try again.\")\n",
    "            continue\n",
    "        \n",
    "        computer_choice = get_computer_choice()\n",
    "        print(f\"Computer chose: {computer_choice}\")\n",
    "        \n",
    "        result = determine_winner(user_choice, computer_choice)\n",
    "        print(result)\n",
    "\n",
    "if __name__ == \"__main__\":\n",
    "    main()"
   ]
  },
  {
   "cell_type": "code",
   "execution_count": 1,
   "id": "29e4d3cb-b653-4ff1-95c8-d4dea3ff509f",
   "metadata": {},
   "outputs": [],
   "source": [
    "# 23. Develop a program that generates a random password based on user preferences (length, complexity)."
   ]
  },
  {
   "cell_type": "code",
   "execution_count": 9,
   "id": "a543435a-e5e8-4568-b5c1-952c78cb588a",
   "metadata": {},
   "outputs": [
    {
     "name": "stdin",
     "output_type": "stream",
     "text": [
      "Enter desired password length (minimum 1):  5\n",
      "Include uppercase letters? (yes/no):  yes\n",
      "Include lowercase letters? (yes/no):  yes\n",
      "Include numbers? (yes/no):  yes\n",
      "Include special characters? (yes/no):  tyes\n"
     ]
    },
    {
     "name": "stdout",
     "output_type": "stream",
     "text": [
      "Generated password: hj2Jn\n"
     ]
    }
   ],
   "source": [
    "import random\n",
    "import string\n",
    "\n",
    "def get_user_preferences():\n",
    "    # Get password length from user\n",
    "    length = int(input(\"Enter desired password length (minimum 1): \"))\n",
    "    while length < 1:\n",
    "        print(\"Length must be at least 1. Please try again.\")\n",
    "        length = int(input(\"Enter desired password length (minimum 1): \"))\n",
    "\n",
    "    # Get complexity preferences\n",
    "    include_uppercase = input(\"Include uppercase letters? (yes/no): \").strip().lower() == 'yes'\n",
    "    include_lowercase = input(\"Include lowercase letters? (yes/no): \").strip().lower() == 'yes'\n",
    "    include_numbers = input(\"Include numbers? (yes/no): \").strip().lower() == 'yes'\n",
    "    include_special = input(\"Include special characters? (yes/no): \").strip().lower() == 'yes'\n",
    "\n",
    "    return length, include_uppercase, include_lowercase, include_numbers, include_special\n",
    "\n",
    "def generate_password(length, include_uppercase, include_lowercase, include_numbers, include_special):\n",
    "    # Define character sets\n",
    "    character_set = \"\"\n",
    "    if include_uppercase:\n",
    "        character_set += string.ascii_uppercase\n",
    "    if include_lowercase:\n",
    "        character_set += string.ascii_lowercase\n",
    "    if include_numbers:\n",
    "        character_set += string.digits\n",
    "    if include_special:\n",
    "        character_set += string.punctuation\n",
    "\n",
    "    # Check if at least one character set is selected\n",
    "    if not character_set:\n",
    "        print(\"Error: At least one character type must be selected.\")\n",
    "        return None\n",
    "\n",
    "    # Ensure the password contains at least one character from each selected set\n",
    "    password = []\n",
    "    if include_uppercase:\n",
    "        password.append(random.choice(string.ascii_uppercase))\n",
    "    if include_lowercase:\n",
    "        password.append(random.choice(string.ascii_lowercase))\n",
    "    if include_numbers:\n",
    "        password.append(random.choice(string.digits))\n",
    "    if include_special:\n",
    "        password.append(random.choice(string.punctuation))\n",
    "\n",
    "    # Fill the remaining length with random choices from the character set\n",
    "    password += random.choices(character_set, k=length - len(password))\n",
    "\n",
    "    # Shuffle the password list to ensure randomness\n",
    "    random.shuffle(password)\n",
    "\n",
    "    # Join the list into a string\n",
    "    return ''.join(password)\n",
    "\n",
    "# Main program execution\n",
    "# holding all the 6 values return by the fucntion get_user__preferences() in 6 variables that we declare here and then we pass these variavble as arguement in the generate_password() fucntion\n",
    "length, include_uppercase, include_lowercase, include_numbers, include_special = get_user_preferences()  \n",
    "password = generate_password(length, include_uppercase, include_lowercase, include_numbers, include_special)\n",
    "\n",
    "if password:\n",
    "    print(\"Generated password: \" + password)"
   ]
  },
  {
   "cell_type": "markdown",
   "id": "c60516bc-0745-4083-bde0-23361d5e7469",
   "metadata": {},
   "source": [
    "### ``` 24 Create a program that implements a simple text-based adventure game with branching scenarios.```"
   ]
  },
  {
   "cell_type": "code",
   "execution_count": 16,
   "id": "a4ad2b0d-9ae6-46dd-9e5a-e6f0875ad758",
   "metadata": {},
   "outputs": [
    {
     "name": "stdout",
     "output_type": "stream",
     "text": [
      "Welcome to the quest for the lost treasure\n",
      "You stand at the entrance of a dark cave. Rumors say a great treasure lies within.\n"
     ]
    },
    {
     "name": "stdin",
     "output_type": "stream",
     "text": [
      "Do you want to enter the cave or leave press 1 to enter press 2 to leave :  1\n"
     ]
    },
    {
     "name": "stdout",
     "output_type": "stream",
     "text": [
      "You bravely step into the cave. The darkness surrounds you.\n",
      "You see two paths: one to the left and one to the right.\n"
     ]
    },
    {
     "name": "stdin",
     "output_type": "stream",
     "text": [
      "press 1 to move left and press 2 to move right  2\n"
     ]
    },
    {
     "name": "stdout",
     "output_type": "stream",
     "text": [
      "You take the right path and encounter a sleeping dragon!\n",
      "What do you want to do?\n"
     ]
    },
    {
     "name": "stdin",
     "output_type": "stream",
     "text": [
      "Press 1 to sneak past the dragon, press 2 to try to wake the dragon:  2\n"
     ]
    },
    {
     "name": "stdout",
     "output_type": "stream",
     "text": [
      "You wake the dragon, and it roars angrily!\n",
      "You try to run, but the dragon catches you. Game over.\n"
     ]
    }
   ],
   "source": [
    "def startgame():\n",
    "    print(\"Welcome to the quest for the lost treasure\")\n",
    "    print(\"You stand at the entrance of a dark cave. Rumors say a great treasure lies within.\")\n",
    "    firstchoice()\n",
    "\n",
    "def firstchoice():\n",
    "    choice = input(\"Do you want to enter the cave or leave press 1 to enter press 2 to leave : \")\n",
    "    if choice == \"1\":\n",
    "        entercave()\n",
    "    elif choice ==\"2\":\n",
    "        leavegame()\n",
    "    else:\n",
    "        print(\"wrong input !!! please enter valid input \")\n",
    "        firstchoice()\n",
    "\n",
    "def entercave():\n",
    "    print(\"You bravely step into the cave. The darkness surrounds you.\")\n",
    "    print(\"You see two paths: one to the left and one to the right.\")\n",
    "    choice  = input(\"press 1 to move left and press 2 to move right \")\n",
    "    if choice == \"1\":\n",
    "        leftpath()\n",
    "    elif choice == \"2\":\n",
    "        rightpath()\n",
    "    else:\n",
    "        print(\"invalid input . type again \")\n",
    "        entercave()\n",
    "\n",
    "def leftpath():\n",
    "    print(\"You take the left path and find a treasure chest!\")\n",
    "    print(\"What do you want to do?\")\n",
    "    choice = input(\"Press 1 to open the chest, press 2 to leave it alone: \")\n",
    "    if choice == \"1\":\n",
    "        print(\"You open the chest and find gold coins! You are now rich! You win!\")\n",
    "    elif choice == \"2\":\n",
    "        print(\"You decide to leave the chest alone. As you turn to leave, you find a hidden exit!\")\n",
    "        print(\"You escape the cave safely. Game over.\")\n",
    "    else:\n",
    "        print(\"Invalid input. Please try again.\")\n",
    "        leftpath()\n",
    "\n",
    "def rightpath():\n",
    "    print(\"You take the right path and encounter a sleeping dragon!\")\n",
    "    print(\"What do you want to do?\")\n",
    "    choice = input(\"Press 1 to sneak past the dragon, press 2 to try to wake the dragon: \")\n",
    "    if choice == \"1\":\n",
    "        print(\"You successfully sneak past the dragon and find a hidden treasure room!\")\n",
    "        print(\"You gather the treasure and escape. You win!\")\n",
    "    elif choice == \"2\":\n",
    "        print(\"You wake the dragon, and it roars angrily!\")\n",
    "        print(\"You try to run, but the dragon catches you. Game over.\")\n",
    "    else:\n",
    "        print(\"Invalid input. Please try again.\")\n",
    "        rightpath()\n",
    "\n",
    "def leavegame():\n",
    "    print(\"You decide to leave the cave. The treasure remains hidden, but you live to explore another day.\")\n",
    "    print(\"Game over.\")\n",
    "\n",
    "# Start the game\n",
    "startgame()"
   ]
  },
  {
   "cell_type": "markdown",
   "id": "b5f44e37-b0ac-4bbb-84c1-e5b5aa2cb2fe",
   "metadata": {},
   "source": [
    "### ``` 25. Build a program that solves a linear equation for x, considering different cases.```"
   ]
  },
  {
   "cell_type": "code",
   "execution_count": 21,
   "id": "77e12cc8-da71-4cfb-b632-e9f409093a0c",
   "metadata": {},
   "outputs": [
    {
     "name": "stdout",
     "output_type": "stream",
     "text": [
      "The solution is x = 2.0\n",
      "The equation has no solution.\n",
      "The equation has infinitely many solutions.\n"
     ]
    }
   ],
   "source": [
    "def solve_linear_equation(a, b, c):\n",
    "    if a == 0:\n",
    "        if b == c:\n",
    "            return \"The equation has infinitely many solutions.\"\n",
    "        else:\n",
    "            return \"The equation has no solution.\"\n",
    "    else:\n",
    "        x = (c - b) / a\n",
    "        return f\"The solution is x = {x}\"\n",
    "\n",
    "# Example usage\n",
    "print(solve_linear_equation(2, 3, 7))  # Case 1: a != 0\n",
    "print(solve_linear_equation(0, 3, 7))  # Case 2: a = 0, b != c\n",
    "print(solve_linear_equation(0, 3, 3))  # Case 3: a = 0, b = c"
   ]
  },
  {
   "cell_type": "markdown",
   "id": "b5e6473a-b20a-457c-93e3-92a8ea971097",
   "metadata": {},
   "source": [
    "### ``` 26. Write a program that simulates a basic quiz game with multiple-choice questions and scoring.```"
   ]
  },
  {
   "cell_type": "code",
   "execution_count": 29,
   "id": "662707b7-dc24-4963-8bb9-69247e8b8ed5",
   "metadata": {},
   "outputs": [
    {
     "name": "stdout",
     "output_type": "stream",
     "text": [
      "What is the capital of France?\n"
     ]
    },
    {
     "name": "stdin",
     "output_type": "stream",
     "text": [
      "choose your option 1.berlin 2. madrid 3.paris 4.rome 3\n"
     ]
    },
    {
     "name": "stdout",
     "output_type": "stream",
     "text": [
      "correct\n",
      "What is the chemical symbol for water?\n"
     ]
    },
    {
     "name": "stdin",
     "output_type": "stream",
     "text": [
      "choose your option 1. h2o 2. co2 3. h2s 4. o3 1\n"
     ]
    },
    {
     "name": "stdout",
     "output_type": "stream",
     "text": [
      "correct\n",
      "Who was the first President of the United States?\n"
     ]
    },
    {
     "name": "stdin",
     "output_type": "stream",
     "text": [
      "choose your option 1) Abraham Lincoln 2) George Washington 3) Thomas Jefferson 4) John Adams 2\n"
     ]
    },
    {
     "name": "stdout",
     "output_type": "stream",
     "text": [
      "correct\n",
      "your final score  30\n"
     ]
    }
   ],
   "source": [
    "def q1(score):\n",
    "    print(\"What is the capital of France?\")\n",
    "    choose = input(\"choose your option 1.berlin 2. madrid 3.paris 4.rome\")\n",
    "    if choose == \"3\":\n",
    "        print(\"correct\")\n",
    "        score += 10\n",
    "    else:\n",
    "        print(\"wrong answer\")\n",
    "    return score\n",
    "\n",
    "def q2(score):\n",
    "    print(\"What is the chemical symbol for water?\")\n",
    "    choose = input(\"choose your option 1. h2o 2. co2 3. h2s 4. o3\")\n",
    "    if choose == \"1\":\n",
    "        print(\"correct\")\n",
    "        score += 10\n",
    "    else:\n",
    "        print(\"wrong answer\")\n",
    "    return score\n",
    "\n",
    "def q3(score):\n",
    "    print(\"Who was the first President of the United States?\")\n",
    "    choose = input(\"choose your option 1) Abraham Lincoln 2) George Washington 3) Thomas Jefferson 4) John Adams\")\n",
    "    if choose == \"2\":\n",
    "        print(\"correct\")\n",
    "        score += 10\n",
    "    else:\n",
    "        print(\"wrong answer\")\n",
    "    return score\n",
    "\n",
    "def mcq():\n",
    "    \"\"\" this quiz program has 3 demo question to check the program module\"\"\"\n",
    "    score = 0\n",
    "    score = q1(score)\n",
    "    score = q2(score)\n",
    "    score = q3(score)\n",
    "    print(\"your final score \", score)\n",
    "\n",
    "mcq()"
   ]
  },
  {
   "cell_type": "code",
   "execution_count": 9,
   "id": "df336ef8-c260-4795-961a-d70abbb00103",
   "metadata": {},
   "outputs": [],
   "source": [
    "# 27 Develop a program that determines whether a given year is a prime number or not."
   ]
  },
  {
   "cell_type": "code",
   "execution_count": 11,
   "id": "9970a33d-b821-4b26-8b0d-fbde1fd775ca",
   "metadata": {},
   "outputs": [
    {
     "name": "stdin",
     "output_type": "stream",
     "text": [
      "Enter the year to check wether it is prime or not  29\n"
     ]
    },
    {
     "name": "stdout",
     "output_type": "stream",
     "text": [
      " yes the year 29 is prime\n"
     ]
    }
   ],
   "source": [
    "from sympy import isprime\n",
    "number = int(input(\"Enter the year to check wether it is prime or not \").strip())\n",
    "def checking(number):\n",
    "    if isprime(number):\n",
    "        print(f\" yes the year {number} is prime\")\n",
    "    else:\n",
    "        print(\"no\")\n",
    "\n",
    "checking(number)"
   ]
  },
  {
   "cell_type": "code",
   "execution_count": 13,
   "id": "95a8f466-461f-4579-a2f5-7a8118a2f9ab",
   "metadata": {},
   "outputs": [
    {
     "name": "stdin",
     "output_type": "stream",
     "text": [
      "Enter the first number:  3\n",
      "Enter the second number:  1\n",
      "Enter the third number:  2\n"
     ]
    },
    {
     "name": "stdout",
     "output_type": "stream",
     "text": [
      "The numbers in ascending order are: 1.0 2.0 3.0\n"
     ]
    }
   ],
   "source": [
    "#28 . Create a program that sorts three numbers in ascending order using conditional statements.\n",
    "# Get input from the user\n",
    "num1 = float(input(\"Enter the first number: \"))\n",
    "num2 = float(input(\"Enter the second number: \"))\n",
    "num3 = float(input(\"Enter the third number: \"))\n",
    "\n",
    "# Sort the numbers in ascending order\n",
    "if num1 <= num2 and num1 <= num3:\n",
    "    if num2 <= num3:\n",
    "        print(\"The numbers in ascending order are:\", num1, num2, num3)\n",
    "    else:\n",
    "        print(\"The numbers in ascending order are:\", num1, num3, num2)\n",
    "elif num2 <= num1 and num2 <= num3:\n",
    "    if num1 <= num3:\n",
    "        print(\"The numbers in ascending order are:\", num2, num1, num3)\n",
    "    else:\n",
    "        print(\"The numbers in ascending order are:\", num2, num3, num1)\n",
    "else:\n",
    "    if num1 <= num2:\n",
    "        print(\"The numbers in ascending order are:\", num3, num1, num2)\n",
    "    else:\n",
    "        print(\"The numbers in ascending order are:\", num3, num2, num1)"
   ]
  },
  {
   "cell_type": "markdown",
   "id": "0a7c775f-42c7-42ab-acfe-1c98697cc3af",
   "metadata": {},
   "source": [
    "### ```29 Build a program that determines the roots of a quartic equation using numerical methods.```"
   ]
  },
  {
   "cell_type": "code",
   "execution_count": 20,
   "id": "c226511e-b7de-4760-b971-0ddb251899ad",
   "metadata": {},
   "outputs": [
    {
     "name": "stdout",
     "output_type": "stream",
     "text": [
      "Welcome to the BMI Calculator!\n"
     ]
    },
    {
     "name": "stdin",
     "output_type": "stream",
     "text": [
      "Enter your weight in kilograms:  55\n",
      "Enter your height in meters:  1.65\n"
     ]
    },
    {
     "name": "stdout",
     "output_type": "stream",
     "text": [
      "\n",
      "Your BMI is: 20.20\n",
      "BMI Category: Normal weight\n",
      "Recommendation: Great job! Maintain a healthy lifestyle to keep your weight stable.\n"
     ]
    }
   ],
   "source": [
    "# 30 program to calculate bmi and give recommendation based on this \n",
    "\n",
    "def calculate_bmi(weight, height):\n",
    "    \"\"\"Calculate BMI using weight in kilograms and height in meters.\"\"\"\n",
    "    return weight / (height ** 2)\n",
    "\n",
    "def get_bmi_category(bmi):\n",
    "    \"\"\"Determine the BMI category based on the BMI value.\"\"\"\n",
    "    if bmi < 18.5:\n",
    "        return \"Underweight\", \"You should consider gaining weight through a balanced diet and regular exercise.\"\n",
    "    elif 18.5 <= bmi < 24.9:\n",
    "        return \"Normal weight\", \"Great job! Maintain a healthy lifestyle to keep your weight stable.\"\n",
    "    elif 25 <= bmi < 29.9:\n",
    "        return \"Overweight\", \"Consider adopting a healthier diet and increasing physical activity.\"\n",
    "    else:\n",
    "        return \"Obesity\", \"It's advisable to consult a healthcare provider for personalized advice.\"\n",
    "\n",
    "def main():\n",
    "    print(\"Welcome to the BMI Calculator!\")\n",
    "    \n",
    "    # Get user input\n",
    "    weight = float(input(\"Enter your weight in kilograms: \"))\n",
    "    height = float(input(\"Enter your height in meters: \"))\n",
    "    \n",
    "    # Calculate BMI\n",
    "    bmi = calculate_bmi(weight, height)\n",
    "    \n",
    "    # Get BMI category and recommendation\n",
    "    category, recommendation = get_bmi_category(bmi)\n",
    "    \n",
    "    # Display results\n",
    "    print(f\"\\nYour BMI is: {bmi:.2f}\")\n",
    "    print(f\"BMI Category: {category}\")\n",
    "    print(f\"Recommendation: {recommendation}\")\n",
    "\n",
    "if __name__ == \"__main__\":\n",
    "    main()"
   ]
  },
  {
   "cell_type": "markdown",
   "id": "a4976888-3525-4ef4-ab9e-354aa571f5af",
   "metadata": {},
   "source": [
    "### ``` Challenge Level Questions ```"
   ]
  },
  {
   "cell_type": "markdown",
   "id": "ff3c5883-8284-4735-8a2c-0375a5ae3687",
   "metadata": {},
   "source": [
    "### ``` 31 Create a program that validates a password based on complexity rules (length, characters, etc.).```"
   ]
  },
  {
   "cell_type": "code",
   "execution_count": 27,
   "id": "dc9cee69-afd3-4664-bd13-646d7b107d9c",
   "metadata": {},
   "outputs": [
    {
     "name": "stdin",
     "output_type": "stream",
     "text": [
      "Enter a password:  20Millah@\n"
     ]
    },
    {
     "name": "stdout",
     "output_type": "stream",
     "text": [
      "Password is valid.\n"
     ]
    }
   ],
   "source": [
    "import re\n",
    "\n",
    "def validate_password(password):\n",
    "    # Check length\n",
    "    if len(password) < 8:\n",
    "        return \"Password must be at least 8 characters long.\"\n",
    "    \n",
    "    # Check for uppercase letter\n",
    "    if not any(char.isupper() for char in password):\n",
    "        return \"Password must contain at least one uppercase letter.\"\n",
    "    \n",
    "    # Check for lowercase letter\n",
    "    if not any(char.islower() for char in password):\n",
    "        return \"Password must contain at least one lowercase letter.\"\n",
    "    \n",
    "    # Check for digit\n",
    "    if not any(char.isdigit() for char in password):\n",
    "        return \"Password must contain at least one digit.\"\n",
    "    \n",
    "    # Check for special character\n",
    "    special_chars = re.compile(r'[!@#$%^&*(),.?\":{}|<>]')\n",
    "    if not special_chars.search(password):\n",
    "        return \"Password must contain at least one special character.\"\n",
    "    \n",
    "    return \"Password is valid.\"\n",
    "\n",
    "def main():\n",
    "    password = input(\"Enter a password: \")\n",
    "    result = validate_password(password)\n",
    "    print(result)\n",
    "\n",
    "if __name__ == \"__main__\":\n",
    "    main()"
   ]
  },
  {
   "cell_type": "markdown",
   "id": "d7fc3c96-1a5f-48af-9626-63c533eaf0f7",
   "metadata": {},
   "source": [
    "### ``` 32. Develop a program that performs matrix addition and subtraction based on user input.```"
   ]
  },
  {
   "cell_type": "code",
   "execution_count": 25,
   "id": "2480cb5a-3248-443b-a9a5-356146982fc1",
   "metadata": {},
   "outputs": [
    {
     "name": "stdout",
     "output_type": "stream",
     "text": [
      "Matrix Operations\n",
      "1. Addition\n",
      "2. Subtraction\n"
     ]
    },
    {
     "name": "stdin",
     "output_type": "stream",
     "text": [
      "Enter your choice (1 or 2):  1\n",
      "Enter the number of rows:  4\n",
      "Enter the number of columns:  4\n"
     ]
    },
    {
     "name": "stdout",
     "output_type": "stream",
     "text": [
      "\n",
      "Enter the first matrix:\n",
      "Enter the elements of the 4x4 matrix (row-wise):\n"
     ]
    },
    {
     "name": "stdin",
     "output_type": "stream",
     "text": [
      " 1\n",
      " 3\n",
      " 4\n",
      " 5\n"
     ]
    },
    {
     "name": "stdout",
     "output_type": "stream",
     "text": [
      "\n",
      "Enter the second matrix:\n",
      "Enter the elements of the 4x4 matrix (row-wise):\n"
     ]
    },
    {
     "name": "stdin",
     "output_type": "stream",
     "text": [
      " 9\n",
      " 8\n",
      " 7\n",
      " 6\n"
     ]
    },
    {
     "name": "stdout",
     "output_type": "stream",
     "text": [
      "\n",
      "Result of matrix addition:\n",
      "[[10]\n",
      " [11]\n",
      " [11]\n",
      " [11]]\n"
     ]
    }
   ],
   "source": [
    "import numpy as np\n",
    "\n",
    "def get_matrix(rows, cols):\n",
    "    \"\"\"Get a matrix from the user\"\"\"\n",
    "    print(f\"Enter the elements of the {rows}x{cols} matrix (row-wise):\")\n",
    "    matrix = []\n",
    "    for _ in range(rows):\n",
    "        row = list(map(int, input().split()))\n",
    "        matrix.append(row)\n",
    "    return np.array(matrix)\n",
    "\n",
    "def main():\n",
    "    print(\"Matrix Operations\")\n",
    "    print(\"1. Addition\")\n",
    "    print(\"2. Subtraction\")\n",
    "    choice = int(input(\"Enter your choice (1 or 2): \"))\n",
    "\n",
    "    rows = int(input(\"Enter the number of rows: \"))\n",
    "    cols = int(input(\"Enter the number of columns: \"))\n",
    "\n",
    "    print(\"\\nEnter the first matrix:\")\n",
    "    matrix1 = get_matrix(rows, cols)\n",
    "\n",
    "    print(\"\\nEnter the second matrix:\")\n",
    "    matrix2 = get_matrix(rows, cols)\n",
    "\n",
    "    if choice == 1:\n",
    "        result = np.add(matrix1, matrix2)\n",
    "        print(\"\\nResult of matrix addition:\")\n",
    "    else:\n",
    "        result = np.subtract(matrix1, matrix2)\n",
    "        print(\"\\nResult of matrix subtraction:\")\n",
    "\n",
    "    print(result)\n",
    "\n",
    "if __name__ == \"__main__\":\n",
    "    main()"
   ]
  },
  {
   "cell_type": "markdown",
   "id": "57ad5c06-b64c-43e3-9cb8-61cf84c34220",
   "metadata": {},
   "source": [
    "### ``` 33 Euclidean Algorithm for GCD:```"
   ]
  },
  {
   "cell_type": "code",
   "execution_count": null,
   "id": "e0eec33d-deda-4d6f-9da6-6f5c859a945e",
   "metadata": {},
   "outputs": [],
   "source": [
    "def gcd(a, b):\n",
    "    while b != 0:\n",
    "        a, b = b, a % b\n",
    "    return a\n",
    "\n",
    "# Example usage\n",
    "num1 = 24\n",
    "num2 = 36\n",
    "result = gcd(num1, num2)\n",
    "print(f\"The GCD of {num1} and {num2} is: {result}\")"
   ]
  },
  {
   "cell_type": "markdown",
   "id": "e8a7e616-08f1-4b9a-b362-9bc1b291d86e",
   "metadata": {},
   "source": [
    "### ```34 Matrix Multiplication using Nested Loops and Conditional Statements:```"
   ]
  },
  {
   "cell_type": "code",
   "execution_count": 32,
   "id": "93d500f1-1db5-4a7d-9cea-58aa763c99c6",
   "metadata": {},
   "outputs": [
    {
     "name": "stdout",
     "output_type": "stream",
     "text": [
      "Result of matrix multiplication:\n",
      "[19, 22]\n",
      "[43, 50]\n"
     ]
    }
   ],
   "source": [
    "def multiply_matrices(matrix1, matrix2):\n",
    "    rows1, cols1 = len(matrix1), len(matrix1[0])\n",
    "    cols2 = len(matrix2[0])\n",
    "    result = [[0 for _ in range(cols2)] for _ in range(rows1)]\n",
    "\n",
    "    for i in range(rows1):\n",
    "        for j in range(cols2):\n",
    "            for k in range(cols1):\n",
    "                result[i][j] += matrix1[i][k] * matrix2[k][j]\n",
    "\n",
    "    return result\n",
    "\n",
    "# Example usage\n",
    "matrix1 = [[1, 2], [3, 4]]\n",
    "matrix2 = [[5, 6], [7, 8]]\n",
    "result = multiply_matrices(matrix1, matrix2)\n",
    "print(\"Result of matrix multiplication:\")\n",
    "for row in result:\n",
    "    print(row)"
   ]
  },
  {
   "cell_type": "markdown",
   "id": "a0bbb8ab-52f0-4cf5-891a-abd8d342f344",
   "metadata": {},
   "source": [
    "### ```35 Text-based Tic-Tac-Toe Game:```"
   ]
  },
  {
   "cell_type": "code",
   "execution_count": 35,
   "id": "980871f7-5b7c-46f7-94eb-c604499c2246",
   "metadata": {},
   "outputs": [
    {
     "name": "stdout",
     "output_type": "stream",
     "text": [
      "-------------\n",
      "|   |   |   | \n",
      "-------------\n",
      "|   |   |   | \n",
      "-------------\n",
      "|   |   |   | \n",
      "-------------\n"
     ]
    }
   ],
   "source": [
    "def display_board(board):\n",
    "    print(\"-------------\")\n",
    "    for i in range(3):\n",
    "        print(\"| \", end=\"\")\n",
    "        for j in range(3):\n",
    "            print(board[i][j] + \" | \", end=\"\")\n",
    "        print(\"\\n-------------\")\n",
    "\n",
    "def check_winner(board, symbol):\n",
    "    # Check rows\n",
    "    for i in range(3):\n",
    "        if board[i][0] == board[i][1] == board[i][2] == symbol:\n",
    "            return True\n",
    "    # Check columns\n",
    "    for i in range(3):\n",
    "        if board[0][i] == board[1][i] == board[2][i] == symbol:\n",
    "            return True\n",
    "    # Check diagonals\n",
    "    if board[0][0] == board[1][1] == board[2][2] == symbol:\n",
    "        return True\n",
    "    if board[0][2] == board[1][1] == board[2][0] == symbol:\n",
    "        return True\n",
    "    return False\n",
    "\n",
    "# Example usage\n",
    "board = [[\" \", \" \", \" \"], [\" \", \" \", \" \"], [\" \", \" \", \" \"]]\n",
    "display_board(board)\n",
    "# Game logic..."
   ]
  },
  {
   "cell_type": "markdown",
   "id": "78b1fab6-4db7-4207-b581-3412ccf3131c",
   "metadata": {},
   "source": [
    "### ``` 36 Fibonacci Numbers using Iterative Methods:```"
   ]
  },
  {
   "cell_type": "code",
   "execution_count": 38,
   "id": "0f83e964-d465-4fb8-b9dd-817545587f3e",
   "metadata": {},
   "outputs": [
    {
     "name": "stdout",
     "output_type": "stream",
     "text": [
      "The 10th Fibonacci number is: 55\n"
     ]
    }
   ],
   "source": [
    "def fibonacci(n):\n",
    "    if n <= 0:\n",
    "        return 0\n",
    "    elif n == 1:\n",
    "        return 1\n",
    "    else:\n",
    "        a, b = 0, 1\n",
    "        for i in range(2, n+1):\n",
    "            c = a + b\n",
    "            a, b = b, c\n",
    "        return b\n",
    "\n",
    "# Example usage\n",
    "n = 10\n",
    "result = fibonacci(n)\n",
    "print(f\"The {n}th Fibonacci number is: {result}\")"
   ]
  },
  {
   "cell_type": "markdown",
   "id": "eeb40153-9985-40c0-9799-89ec3a51123c",
   "metadata": {},
   "source": [
    "### ``` 37 Fibonacci Sequence using Memoization:```"
   ]
  },
  {
   "cell_type": "code",
   "execution_count": 41,
   "id": "95d82111-10a3-4643-ab66-6b513553b434",
   "metadata": {},
   "outputs": [
    {
     "name": "stdout",
     "output_type": "stream",
     "text": [
      "The 10th Fibonacci number is: 55\n"
     ]
    }
   ],
   "source": [
    "memo = {}\n",
    "\n",
    "def fibonacci(n):\n",
    "    if n <= 0:\n",
    "        return 0\n",
    "    elif n == 1:\n",
    "        return 1\n",
    "    elif n in memo:\n",
    "        return memo[n]\n",
    "    else:\n",
    "        result = fibonacci(n-1) + fibonacci(n-2)\n",
    "        memo[n] = result\n",
    "        return result\n",
    "\n",
    "# Example usage\n",
    "n = 10\n",
    "result = fibonacci(n)\n",
    "print(f\"The {n}th Fibonacci number is: {result}\")"
   ]
  },
  {
   "cell_type": "markdown",
   "id": "c0fde116-23f5-4a95-b082-dc05d2533ff8",
   "metadata": {},
   "source": [
    "### ``` 38 Calendar Generation using Conditional Statements:```"
   ]
  },
  {
   "cell_type": "code",
   "execution_count": 44,
   "id": "a48fb02c-b69b-4891-8a4d-f28c348c1e91",
   "metadata": {},
   "outputs": [
    {
     "name": "stdout",
     "output_type": "stream",
     "text": [
      "Calendar for 3/2023:\n",
      "Sunday  Monday  Tuesday  Wednesday  Thursday  Friday  Saturday\n",
      "--------------------\n",
      "             1  2  3 \n",
      " 4  5  6  7  8  9 10 \n",
      "11 12 13 14 15 16 17 \n",
      "18 19 20 21 22 23 24 \n",
      "25 26 27 28 29 30 31 \n"
     ]
    }
   ],
   "source": [
    "def is_leap_year(year):\n",
    "    if year % 400 == 0 or (year % 4 == 0 and year % 100 != 0):\n",
    "        return True\n",
    "    else:\n",
    "        return False\n",
    "\n",
    "def get_weekday(day, month, year):\n",
    "    # Zeller's congruence algorithm\n",
    "    if month < 3:\n",
    "        month += 12\n",
    "        year -= 1\n",
    "    q = day\n",
    "    m = month\n",
    "    K = year % 100\n",
    "    J = year // 100\n",
    "    h = q + 13 * (m + 1) // 5 + K + K // 4 + J // 4 + 5 * J\n",
    "    h %= 7\n",
    "    return h\n",
    "\n",
    "# Example usage\n",
    "month = 3\n",
    "year = 2023\n",
    "weekdays = [\"Sunday\", \"Monday\", \"Tuesday\", \"Wednesday\", \"Thursday\", \"Friday\", \"Saturday\"]\n",
    "days_in_month = [31, 28, 31, 30, 31, 30, 31, 31, 30, 31, 30, 31]\n",
    "\n",
    "print(f\"Calendar for {month}/{year}:\")\n",
    "print(\"  \".join(weekdays))\n",
    "print(\"-\" * 20)\n",
    "\n",
    "start_weekday = get_weekday(1, month, year)\n",
    "if is_leap_year(year) and month == 2:\n",
    "    days_in_month[1] = 29\n",
    "\n",
    "for i in range(start_weekday):\n",
    "    print(\"   \", end=\"\")\n",
    "\n",
    "for day in range(1, days_in_month[month-1]+1):\n",
    "    print(f\"{day:2} \", end=\"\")\n",
    "    start_weekday += 1\n",
    "    if start_weekday > 6:\n",
    "        print()\n",
    "        start_weekday = 0"
   ]
  },
  {
   "cell_type": "markdown",
   "id": "7745f05c-7c68-4ea3-8a03-cee81989f4e5",
   "metadata": {},
   "source": [
    "### ``` 39 Text-based Blackjack Game:```"
   ]
  },
  {
   "cell_type": "code",
   "execution_count": 49,
   "id": "02d5d600-97c0-4be9-afbe-0b3812619ea0",
   "metadata": {},
   "outputs": [
    {
     "name": "stdout",
     "output_type": "stream",
     "text": [
      "Your cards: [10, 4], current score: 14\n",
      "Dealer's first card: 7\n"
     ]
    },
    {
     "name": "stdin",
     "output_type": "stream",
     "text": [
      "Type 'hit' to get another card, type 'stand' to pass:  pass\n"
     ]
    },
    {
     "name": "stdout",
     "output_type": "stream",
     "text": [
      "Your final hand: [10, 4], final score: 14\n",
      "Dealer's final hand: [7, 2, 3, 3, 10], final score: 25\n",
      "You lose.\n"
     ]
    }
   ],
   "source": [
    "import random\n",
    "\n",
    "def deal_card():\n",
    "    cards = [2, 3, 4, 5, 6, 7, 8, 9, 10, 10, 10, 10, 11]\n",
    "    return random.choice(cards)\n",
    "\n",
    "def calculate_score(cards):\n",
    "    score = sum(cards)\n",
    "    if score > 21 and 11 in cards:\n",
    "        cards.remove(11)\n",
    "        cards.append(1)\n",
    "        score = sum(cards)\n",
    "    return score\n",
    "\n",
    "def play_game():\n",
    "    player_cards = [deal_card(), deal_card()]\n",
    "    dealer_cards = [deal_card(), deal_card()]\n",
    "\n",
    "    while True:\n",
    "        print(f\"Your cards: {player_cards}, current score: {calculate_score(player_cards)}\")\n",
    "        print(f\"Dealer's first card: {dealer_cards[0]}\")\n",
    "\n",
    "        if calculate_score(player_cards) == 21:\n",
    "            print(\"Blackjack! You win.\")\n",
    "            return\n",
    "\n",
    "        choice = input(\"Type 'hit' to get another card, type 'stand' to pass: \")\n",
    "        if choice == 'hit':\n",
    "            player_cards.append(deal_card())\n",
    "            if calculate_score(player_cards) > 21:\n",
    "                print(f\"Your final hand: {player_cards}, final score: {calculate_score(player_cards)}\")\n",
    "                print(\"You went over 21. You lose.\")\n",
    "                return\n",
    "        else:\n",
    "            break\n",
    "\n",
    "    while calculate_score(dealer_cards) < 17:\n",
    "        dealer_cards.append(deal_card())\n",
    "\n",
    "    player_score = calculate_score(player_cards)\n",
    "    dealer_score = calculate_score(dealer_cards)\n",
    "\n",
    "    print(f\"Your final hand: {player_cards}, final score: {player_score}\")\n",
    "    print(f\"Dealer's final hand: {dealer_cards}, final score: {dealer_score}\")\n",
    "\n",
    "    if player_score > dealer_score:\n",
    "        print(\"You win!\")\n",
    "    elif player_score < dealer_score:\n",
    "        print(\"You lose.\")\n",
    "    else:\n",
    "        print(\"It's a draw.\")\n",
    "\n",
    "play_game()"
   ]
  },
  {
   "cell_type": "markdown",
   "id": "3a981b00-6f95-4219-bb82-d9314e8fa352",
   "metadata": {},
   "source": [
    "### ```40 Prime Factors using Trial Division: ```"
   ]
  },
  {
   "cell_type": "code",
   "execution_count": 52,
   "id": "26e75ac4-a157-4f73-90b6-194340ac88ac",
   "metadata": {},
   "outputs": [
    {
     "name": "stdout",
     "output_type": "stream",
     "text": [
      "The prime factors of 60 are: [2, 2, 3, 5]\n"
     ]
    }
   ],
   "source": [
    "def prime_factors(n):\n",
    "    factors = []\n",
    "    while n % 2 == 0:\n",
    "        factors.append(2)\n",
    "        n //= 2\n",
    "    for i in range(3, int(n ** 0.5) + 1, 2):\n",
    "        while n % i == 0:\n",
    "            factors.append(i)\n",
    "            n //= i\n",
    "    if n > 2:\n",
    "        factors.append(n)\n",
    "    return factors\n",
    "\n",
    "# Example usage\n",
    "number = 60\n",
    "result = prime_factors(number)\n",
    "print(f\"The prime factors of {number} are: {result}\")"
   ]
  },
  {
   "cell_type": "code",
   "execution_count": null,
   "id": "26d05bde-064b-49a3-b05a-f56aa3daeda0",
   "metadata": {},
   "outputs": [],
   "source": []
  }
 ],
 "metadata": {
  "kernelspec": {
   "display_name": "Python 3 (ipykernel)",
   "language": "python",
   "name": "python3"
  },
  "language_info": {
   "codemirror_mode": {
    "name": "ipython",
    "version": 3
   },
   "file_extension": ".py",
   "mimetype": "text/x-python",
   "name": "python",
   "nbconvert_exporter": "python",
   "pygments_lexer": "ipython3",
   "version": "3.11.8"
  }
 },
 "nbformat": 4,
 "nbformat_minor": 5
}
