{
 "cells": [
  {
   "cell_type": "markdown",
   "metadata": {
    "id": "kLZ_vCeE0lsM"
   },
   "source": [
    "###`Problem 1:` Combine two lists index-wise(columns wise)\n",
    "\n",
    "Write a program to add two lists index-wise. Create a new list that contains the 0th index item from both the list, then the 1st index item, and so on till the last element. any leftover items will get added at the end of the new list.\n",
    "\n",
    "`Given List:`\n",
    "```\n",
    "list1 = [\"M\", \"na\", \"i\", \"Kh\"]\n",
    "list2 = [\"y\", \"me\", \"s\", \"an\"]\n",
    "```\n",
    "\n",
    "`Output:`\n",
    "```\n",
    "[['M','y'], ['na', me'], ['i', 's'], ['Kh', 'an']]\n",
    "```"
   ]
  },
  {
   "cell_type": "code",
   "execution_count": 10,
   "metadata": {},
   "outputs": [
    {
     "data": {
      "text/plain": [
       "[['M', 'y'], ['na', 'me'], ['i', 's'], ['Kh', 'an']]"
      ]
     },
     "execution_count": 10,
     "metadata": {},
     "output_type": "execute_result"
    }
   ],
   "source": [
    "# using list comnprehension \n",
    "list1 = [\"M\", \"na\", \"i\", \"Kh\"\"]\n",
    "list2 = [\"y\", \"me\", \"s\", \"an\"]\n",
    "[[i,j] for (i,j) in zip(list1,list2)]"
   ]
  },
  {
   "cell_type": "code",
   "execution_count": 14,
   "metadata": {},
   "outputs": [
    {
     "name": "stdout",
     "output_type": "stream",
     "text": [
      "[['M', 'y'], ['na', 'me'], ['i', 's'], ['Kh', 'an'], ['Kh'], ['ali'], ['gauhar']]\n"
     ]
    }
   ],
   "source": [
    "# using append fucntion \n",
    "list1 = [\"M\", \"na\", \"i\", \"Kh\",\"ali\",\"gauhar\"] #6\n",
    "list2 = [\"y\", \"me\", \"s\",\"an\"] #4\n",
    "#output should be the 2d list [['M', 'y'], ['na', 'me'], ['i', 's'], ['Kh', 'an'],[\"ali\"],[\"gauhar\"]]\n",
    "res = []\n",
    "len1 = len(list1)\n",
    "len2 = len(list2)\n",
    "mini = min(len1,len2)   # len 2 is smaller \n",
    "maxi = max(len1,len2)\n",
    "for i in range(0,mini):\n",
    "    res.append([list1[i],list2[i]])\n",
    "for j in range(mini-1,maxi):\n",
    "    res.append([list1[j]])\n",
    "\n",
    "\n",
    "print(res)"
   ]
  },
  {
   "cell_type": "code",
   "execution_count": null,
   "metadata": {},
   "outputs": [],
   "source": [
    "\n",
    "     "
   ]
  },
  {
   "cell_type": "code",
   "execution_count": 22,
   "metadata": {},
   "outputs": [
    {
     "name": "stdout",
     "output_type": "stream",
     "text": [
      "['My', 'name', 'is', 'Khan']\n"
     ]
    }
   ],
   "source": [
    "def add_lists_index_wise(list1, list2):\n",
    "    # Initialize an empty result list\n",
    "    result = []\n",
    "\n",
    "    # Determine the length of the shorter list\n",
    "    min_length = min(len(list1), len(list2))\n",
    "\n",
    "    # Add elements from both lists index-wise\n",
    "    for i in range(min_length):\n",
    "        result.append(list1[i] + list2[i])\n",
    "\n",
    "    # Add any leftover items from longer list\n",
    "    if len(list1) > min_length:\n",
    "        result.extend(list1[min_length:])\n",
    "    elif len(list2) > min_length:\n",
    "        result.extend(list2[min_length:])\n",
    "\n",
    "    return result\n",
    "\n",
    "# Given lists\n",
    "list1 = [\"M\", \"na\", \"i\", \"Kh\"]\n",
    "list2 = [\"y\", \"me\", \"s\", \"an\"]\n",
    "\n",
    "# Call the function and print the result\n",
    "combined_list = add_lists_index_wise(list1, list2)\n",
    "print(combined_list)\n"
   ]
  },
  {
   "cell_type": "code",
   "execution_count": 9,
   "metadata": {},
   "outputs": [
    {
     "name": "stdout",
     "output_type": "stream",
     "text": [
      "[['M', 'y'], ['na', 'me'], ['i', 's'], ['Kh', 'an'], ['ali', None], ['hi', None]]\n"
     ]
    }
   ],
   "source": [
    "\n",
    "# Given lists\n",
    "list1 = [\"M\", \"na\", \"i\", \"Kh\",\"ali\",\"hi\"]\n",
    "list2 = [\"y\", \"me\", \"s\", \"an\"]\n",
    "\n",
    "# Initialize an empty result list\n",
    "result = []\n",
    "\n",
    "# Determine the length of the shorter list\n",
    "min_length = min(len(list1), len(list2))\n",
    "\n",
    "# Add elements from both lists index-wise\n",
    "for i in range(min_length):\n",
    "    result.append([list1[i], list2[i]])  # Create a sublist with both elements\n",
    "\n",
    "# Add any leftover items from longer list\n",
    "if len(list1) > min_length:\n",
    "    result.extend([[item, None] for item in list1[min_length:]])\n",
    "elif len(list2) > min_length:\n",
    "    result.extend([[None, item] for item in list2[min_length:]])\n",
    "\n",
    "# Print the result\n",
    "print(result)\n"
   ]
  },
  {
   "cell_type": "markdown",
   "metadata": {
    "id": "bnRwRgf_0qLu"
   },
   "source": [
    "### `Problem 2:` Add new item to list after a specified item\n",
    "Write a program to add item 7000 after 6000 in the following Python List\n",
    "```\n",
    "list1 = [10, 20, [300, 400, [5000, 6000], 500], 30, 40]\n",
    "```\n",
    "`Output:`\n",
    "```\n",
    "[10, 20, [300, 400, [5000, 6000, 7000], 500], 30, 40]\n",
    "```"
   ]
  },
  {
   "cell_type": "code",
   "execution_count": 5,
   "metadata": {
    "id": "yW5lLPns00q9"
   },
   "outputs": [
    {
     "name": "stdout",
     "output_type": "stream",
     "text": [
      "[10, 20, [300, 400, [5000, 6000, 7000], 500], 30, 40]\n"
     ]
    }
   ],
   "source": [
    "# using append fucntion \n",
    "l1 = [10, 20, [300, 400, [5000, 6000], 500], 30, 40]\n",
    "l1[2][2].append(7000) # we grab the list [5000,600] and then append the list by 7000\n",
    "print(l1)\n",
    "\n",
    "# the ouyput should be [10, 20, [300, 400, [5000, 6000, 7000], 500], 30, 40]"
   ]
  },
  {
   "cell_type": "code",
   "execution_count": 11,
   "metadata": {},
   "outputs": [
    {
     "name": "stdout",
     "output_type": "stream",
     "text": [
      "[10, 20, [300, 400, [5000, 6000], 500], 30, 40]\n"
     ]
    }
   ],
   "source": [
    "# Using concatenate function \n",
    "l1 = [10, 20, [300, 400, [5000, 6000], 500], 30, 40]\n",
    "l1[2][2]+[7000]\n",
    "print(l1)\n",
    "# the output should be this [10, 20, [300, 400, [5000, 6000, 7000], 500], 30, 40]"
   ]
  },
  {
   "cell_type": "code",
   "execution_count": 13,
   "metadata": {},
   "outputs": [
    {
     "name": "stdout",
     "output_type": "stream",
     "text": [
      "[10, 20, [300, 400, [5000, 6000], 500], 30, 40]\n"
     ]
    }
   ],
   "source": [
    "l1 = [10, 20, [300, 400, [5000, 6000], 500], 30, 40]\n",
    "l1[2][2] +[7000]  # it will create a new list [5000,6000,7000] only this list \n",
    "print(l1)\n"
   ]
  },
  {
   "cell_type": "code",
   "execution_count": 15,
   "metadata": {},
   "outputs": [
    {
     "name": "stdout",
     "output_type": "stream",
     "text": [
      "[10, 20, [300, 400, [5000, 6000, 7000], 500], 30, 40]\n"
     ]
    }
   ],
   "source": [
    "l1 = [10, 20, [300, 400, [5000, 6000], 500], 30, 40]\n",
    "l1[2][2] +=[7000] \n",
    "print(l1)"
   ]
  },
  {
   "cell_type": "markdown",
   "metadata": {
    "id": "w7fC8oHk02fH"
   },
   "source": [
    "###`Problem 3:` Update no of items available\n",
    "\n",
    "Suppose you are given a list of candy and another list of same size representing no of items of respective candy.\n",
    "\n",
    "i.e -  \n",
    "```\n",
    "candy_list = ['Jelly Belly','Kit Kat','Double Bubble','Milky Way','Three Musketeers']\n",
    "no_of_items = [10,20,34,74,32]\n",
    "```\n",
    "\n",
    "Write a program to show no. of items of each candy type.\n",
    "\n",
    "`Output:`\n",
    "\n",
    "```\n",
    "Jelly Belly-10\n",
    "Kit Kat-20\n",
    "Double Bubble-34\n",
    "Milky Way-74\n",
    "Three Musketeers-32\n",
    "\n",
    "```"
   ]
  },
  {
   "cell_type": "code",
   "execution_count": 4,
   "metadata": {
    "id": "gg5JEX1a09q8"
   },
   "outputs": [
    {
     "name": "stdout",
     "output_type": "stream",
     "text": [
      "[('Jelly Belly', 10), ('Kit Kat', 20), ('Double Bubble', 34), ('Milky Way', 74), ('Three Musketeers', 32)]\n",
      "Jelly Belly - 10\n",
      "Kit Kat - 20\n",
      "Double Bubble - 34\n",
      "Milky Way - 74\n",
      "Three Musketeers - 32\n"
     ]
    }
   ],
   "source": [
    "# doubtful\n",
    "\n",
    "candy_list = ['Jelly Belly','Kit Kat','Double Bubble','Milky Way','Three Musketeers']\n",
    "no_of_items = [10,20,34,74,32]\n",
    "zipped = zip(candy_list,no_of_items)\n",
    "zipped = list(zipped)\n",
    "print(list(zipped))\n",
    "for i,j in zipped:\n",
    "    print(i,'-',j)\n",
    "    "
   ]
  },
  {
   "cell_type": "code",
   "execution_count": 27,
   "metadata": {},
   "outputs": [
    {
     "name": "stdout",
     "output_type": "stream",
     "text": [
      "Jelly Belly - 10\n",
      "Kit Kat - 20\n",
      "Double Bubble - 34\n",
      "Milky Way - 74\n",
      "Three Musketeers - 32\n"
     ]
    }
   ],
   "source": [
    "candy_list = ['Jelly Belly', 'Kit Kat', 'Double Bubble', 'Milky Way', 'Three Musketeers']\n",
    "no_of_items = [10, 20, 34, 74, 32]\n",
    "zipped = list(zip(candy_list, no_of_items))  # Convert to a list\n",
    "for i, j in zipped:\n",
    "    print(i, '-', j)\n"
   ]
  },
  {
   "cell_type": "markdown",
   "metadata": {
    "id": "mFGZAvnB1D3N"
   },
   "source": [
    "###`Problem 4:` Running Sum on list\n",
    "Write a program to print a list after performing running sum on it.\n",
    "\n",
    "i.e:\n",
    "\n",
    "`Input:`\n",
    "```\n",
    "list1 = [1,2,3,4,5,6]\n",
    "```\n",
    "`Output:`\n",
    "```\n",
    "[1,3,6,10,15,21]\n",
    "```"
   ]
  },
  {
   "cell_type": "code",
   "execution_count": 28,
   "metadata": {
    "id": "8LPS6DaD1FTs"
   },
   "outputs": [
    {
     "name": "stdout",
     "output_type": "stream",
     "text": [
      "[1, 3, 6, 10, 15, 21]\n"
     ]
    }
   ],
   "source": [
    "# Write code here\n",
    "list1 = [1,2,3,4,5,6]\n",
    "sum = 0 \n",
    "newl = []\n",
    "for i in list1:\n",
    "    sum = sum+i\n",
    "    newl.append(sum)\n",
    "\n",
    "print(newl)\n",
    "    "
   ]
  },
  {
   "cell_type": "markdown",
   "metadata": {
    "id": "2ztcZ-EW1HEU"
   },
   "source": [
    "###`Problem 5:` You are given a list of integers. You are asked to make a list by running through elements of the list by adding all elements greater and itself.\n",
    "\n",
    "i.e. Say given list is `[2,4,6,10,1]`\n",
    "resultant list will be `[22,20,10,23]`.\n",
    "\n",
    "For 1st element `2` ->> these are greater `(4+6+10)` values and `2` itself so on adding becomes `22`.\n",
    "\n",
    "For 2nd element `4` ->> greater elements are `(6, 10)` and `4` itself, so on adding `20`\n",
    "\n",
    "like wise for all other elememts.\n",
    "\n",
    "`[2,4,6,10,1]`-->`[22,20,16,10,23]`\n",
    "\n",
    "\n"
   ]
  },
  {
   "cell_type": "code",
   "execution_count": 1,
   "metadata": {
    "id": "UJuWqzj31UD2"
   },
   "outputs": [
    {
     "name": "stdout",
     "output_type": "stream",
     "text": [
      "[22, 20, 16, 10, 23]\n"
     ]
    }
   ],
   "source": [
    "l1 = [2,4,6,10,1]\n",
    "l2 = []\n",
    "n = 5\n",
    "for i in range(0,n):\n",
    "    mytotal = 0\n",
    "    for j in range(0,n):\n",
    "        if l1[j]>=l1[i]:\n",
    "            mytotal+=l1[j]\n",
    "    l2.append(mytotal)\n",
    "print(l2)\n",
    "\n",
    "# the output should be [22,20,16,10,23]"
   ]
  },
  {
   "cell_type": "code",
   "execution_count": 2,
   "metadata": {},
   "outputs": [
    {
     "name": "stdout",
     "output_type": "stream",
     "text": [
      "[22, 20, 16, 10, 23]\n"
     ]
    }
   ],
   "source": [
    "l1 = [2, 4, 6, 10, 1]\n",
    "l2 = []\n",
    "n = len(l1) #5\n",
    "\n",
    "for i in range(n):\n",
    "    my_total = 0  # Renamed the variable to avoid conflicts\n",
    "    for j in range(n):\n",
    "        if l1[j] >= l1[i]:\n",
    "            my_total += l1[j]\n",
    "    l2.append(my_total)\n",
    "\n",
    "print(l2)  # Output: [22, 20, 16, 10, 23]\n",
    "\n"
   ]
  },
  {
   "cell_type": "markdown",
   "metadata": {
    "id": "c9H6tYTx1ZYo"
   },
   "source": [
    "###`Problem 6:` Find list of common unique items from two list. and show in increasing order\n",
    "\n",
    "`Input`\n",
    "\n",
    "```\n",
    "num1 = [23,45,67,78,89,34]\n",
    "num2 = [34,89,55,56,39,67]\n",
    "```\n",
    "\n",
    "`Output:`\n",
    "```\n",
    "[34, 67, 89]\n",
    "```\n"
   ]
  },
  {
   "cell_type": "code",
   "execution_count": 1,
   "metadata": {
    "id": "dDxdi7eE1e1W"
   },
   "outputs": [
    {
     "data": {
      "text/plain": [
       "[34, 67, 89]"
      ]
     },
     "execution_count": 1,
     "metadata": {},
     "output_type": "execute_result"
    }
   ],
   "source": [
    "# using for loops and simple append fucntion \n",
    "num1 = [23,45,67,78,89,34]\n",
    "num2 = [34,89,55,56,39,67]\n",
    "emp1 = []\n",
    "for i in num1:\n",
    "    for j in num2 :\n",
    "        if i ==j:\n",
    "            emp1.append(i)\n",
    "emp1.sort()\n",
    "emp1"
   ]
  },
  {
   "cell_type": "code",
   "execution_count": 16,
   "metadata": {},
   "outputs": [
    {
     "data": {
      "text/plain": [
       "[34, 67, 89]"
      ]
     },
     "execution_count": 16,
     "metadata": {},
     "output_type": "execute_result"
    }
   ],
   "source": [
    "# using set fucntion in the python \n",
    "l1 =  list(set(num1).intersection(set(num2))) # first list is converted into set then we take intersection of both set and then converted it in the list \n",
    "l1.sort() # list is sort pemanently in the memory in the ascending order \n",
    "l1"
   ]
  },
  {
   "cell_type": "code",
   "execution_count": 23,
   "metadata": {},
   "outputs": [
    {
     "data": {
      "text/plain": [
       "[34, 67, 89]"
      ]
     },
     "execution_count": 23,
     "metadata": {},
     "output_type": "execute_result"
    }
   ],
   "source": [
    "# using in fucntion \n",
    "num1 = [23,45,67,78,89,34]\n",
    "num2 = [34,89,55,56,39,67]\n",
    "emp1 = []\n",
    "for i in num1 :\n",
    "    if i in num2 and i not in emp1: # i not in emp1 is to make sure the items are not repeating in the list \n",
    "        emp1.append(i)\n",
    "\n",
    "emp1.sort()\n",
    "emp1\n",
    "    "
   ]
  },
  {
   "cell_type": "markdown",
   "metadata": {
    "id": "i3Izok2i1gRD"
   },
   "source": [
    "###`Problem 7:` Sort a list of alphanumeric strings based on product value of numeric character in it. If in any string there is no numeric character take it's product value as 1.\n",
    "\n",
    "`Input:`\n",
    "```\n",
    "['1ac21', '23fg', '456', '098d','1','kls']\n",
    "```\n",
    "\n",
    "`Output:`\n",
    "```\n",
    "['456', '23fg', '1ac21', '1', 'kls', '098d']\n",
    "\n",
    "```"
   ]
  },
  {
   "cell_type": "code",
   "execution_count": 31,
   "metadata": {},
   "outputs": [
    {
     "data": {
      "text/plain": [
       "[(120, '456'), (6, '23fg'), (2, '1ac21'), (1, 'kls'), (1, '1'), (0, '098d')]"
      ]
     },
     "execution_count": 31,
     "metadata": {},
     "output_type": "execute_result"
    }
   ],
   "source": [
    "# Write code here\n",
    "l = ['1ac21', '23fg', '456', '098d','1','kls']\n",
    "plist  = []\n",
    "for item in l:\n",
    "    product = 1\n",
    "    for i in item: # this loop will iterarte on a string \n",
    "        if i.isdigit():\n",
    "            product = product*int(i)\n",
    "    plist.append(product)   # appe)nding product value and making a list containing product value \n",
    "\n",
    "zipped = list(zip(plist,l))\n",
    "sort_list = sorted(zipped)\n",
    "sort_list.reverse()\n",
    "sort_list"
   ]
  },
  {
   "cell_type": "code",
   "execution_count": 2,
   "metadata": {
    "id": "eiXSanG11oq6",
    "scrolled": true
   },
   "outputs": [
    {
     "name": "stdout",
     "output_type": "stream",
     "text": [
      "[(0, '098d'), (1, '1'), (1, 'kls'), (2, '1ac21'), (6, '23fg'), (120, '456')]\n"
     ]
    }
   ],
   "source": [
    "# Write code here\n",
    "l = ['1ac21', '23fg', '456', '098d','1','kls']\n",
    "plist  = []\n",
    "for item in l:\n",
    "    product = 1\n",
    "    for i in item: # this loop will iterarte on a string \n",
    "        if i.isdigit():\n",
    "            product = product*int(i)\n",
    "    plist.append(product)   # appe)nding product value and making a list containing product value \n",
    "\n",
    "zipped = list(zip(plist,l))\n",
    "sort_list = print(sorted(zipped))\n"
   ]
  },
  {
   "cell_type": "code",
   "execution_count": 8,
   "metadata": {
    "id": "eiXSanG11oq6",
    "scrolled": true
   },
   "outputs": [
    {
     "name": "stdout",
     "output_type": "stream",
     "text": [
      "None\n"
     ]
    }
   ],
   "source": [
    "# Write code here\n",
    "l = ['1ac21', '23fg', '456', '098d','1','kls']\n",
    "plist  = []\n",
    "for item in l:\n",
    "    product = 1\n",
    "    for i in item: # this loop will iterarte on a string \n",
    "        if i.isdigit():\n",
    "            product = product*int(i)\n",
    "    plist.append(product)   # appe)nding product value and making a list containing product value \n",
    "\n",
    "zipped = list(zip(plist,l))\n",
    "sort_list = sorted(zipped)\n",
    "print(sort_list.reverse())"
   ]
  },
  {
   "cell_type": "code",
   "execution_count": 7,
   "metadata": {
    "id": "eiXSanG11oq6",
    "scrolled": true
   },
   "outputs": [
    {
     "name": "stdout",
     "output_type": "stream",
     "text": [
      "None\n"
     ]
    }
   ],
   "source": [
    "# Write code here\n",
    "l = ['1ac21', '23fg', '456', '098d','1','kls']\n",
    "plist  = []\n",
    "for item in l:\n",
    "    product = 1\n",
    "    for i in item: # this loop will iterarte on a string \n",
    "        if i.isdigit():\n",
    "            product = product*int(i)\n",
    "    plist.append(product)   # appe)nding product value and making a list containing product value \n",
    "\n",
    "zipped = list(zip(plist,l))\n",
    "sort_list = sorted(zipped)\n",
    "slist = sort_list.reverse()\n",
    "print(slist)"
   ]
  },
  {
   "cell_type": "code",
   "execution_count": 8,
   "metadata": {
    "id": "eiXSanG11oq6",
    "scrolled": true
   },
   "outputs": [
    {
     "name": "stdout",
     "output_type": "stream",
     "text": [
      "[(120, '456'), (6, '23fg'), (2, '1ac21'), (1, 'kls'), (1, '1'), (0, '098d')]\n"
     ]
    },
    {
     "data": {
      "text/plain": [
       "['456', '23fg', '1ac21', 'kls', '1', '098d']"
      ]
     },
     "execution_count": 8,
     "metadata": {},
     "output_type": "execute_result"
    }
   ],
   "source": [
    "# Write code here\n",
    "l = ['1ac21', '23fg', '456', '098d','1','kls']\n",
    "plist  = []\n",
    "for item in l:\n",
    "    product = 1\n",
    "    for i in item: # this loop will iterarte on a string \n",
    "        if i.isdigit():\n",
    "            product = product*int(i)\n",
    "    plist.append(product)   # appe)nding product value and making a list containing product value \n",
    "\n",
    "zipped = list(zip(plist,l))\n",
    "sort_list = sorted(zipped)\n",
    "rev = sort_list[::-1]\n",
    "print(rev)\n",
    "[j for i,j in rev]"
   ]
  },
  {
   "cell_type": "code",
   "execution_count": 32,
   "metadata": {},
   "outputs": [
    {
     "name": "stdout",
     "output_type": "stream",
     "text": [
      "None\n",
      "[7, 6, 5, 4, 3, 1]\n"
     ]
    }
   ],
   "source": [
    "l = [1,3,4,5,6,7]\n",
    "print(l.reverse()) # this function cant print but it reverse the list \n",
    "print(l)"
   ]
  },
  {
   "cell_type": "markdown",
   "metadata": {
    "id": "McMaNSpB1zJB"
   },
   "source": [
    "`Problem 8:` Split String of list on K character.\n",
    "\n",
    "**Example :**\n",
    "\n",
    "Input:\n",
    "```bash\n",
    "['CampusX is a channel', 'for data-science', 'aspirants.']\n",
    "```\n",
    "\n",
    "Output:\n",
    "```bash\n",
    "['CampusX', 'is', 'a', 'channel', 'for', 'data-science', 'aspirants.']\n",
    "```"
   ]
  },
  {
   "cell_type": "code",
   "execution_count": 4,
   "metadata": {
    "id": "rLg6AUhf14wI"
   },
   "outputs": [
    {
     "name": "stdin",
     "output_type": "stream",
     "text": [
      "Emter the character on which you want to break a sentence  \n"
     ]
    },
    {
     "data": {
      "text/plain": [
       "['CampusX ', 'is ', 'a ', 'channel', 'for ', 'data-science', 'aspirants.']"
      ]
     },
     "execution_count": 4,
     "metadata": {},
     "output_type": "execute_result"
    }
   ],
   "source": [
    "# Write code here\n",
    "l1 = ['CampusX is a channel', 'for data-science', 'aspirants.']\n",
    "n = input(\"Emter the character on which you want to break a sentence\")\n",
    "nl = []\n",
    "for item in l1:\n",
    "    str = \"\"\n",
    "    for j in item:\n",
    "        str = str+j\n",
    "        if j ==n:\n",
    "            nl.append(str)\n",
    "            str = \"\"\n",
    "    nl.append(str)\n",
    "nl\n",
    "            "
   ]
  },
  {
   "cell_type": "markdown",
   "metadata": {
    "id": "ebqIC0Xa16dG"
   },
   "source": [
    "### `Problem 9:` Convert Character Matrix to single String using string comprehension.\n",
    "\n",
    "**Example 1:**\n",
    "\n",
    "Input:\n",
    "```bash\n",
    "[['c', 'a', 'm', 'p', 'u', 'x'], ['i', 's'], ['b', 'e', 's', 't'], ['c', 'h', 'a', 'n', 'n', 'e', 'l']]\n",
    "```\n",
    "\n",
    "Output:\n",
    "```bash\n",
    "campux is best channel\n",
    "```"
   ]
  },
  {
   "cell_type": "code",
   "execution_count": 1,
   "metadata": {
    "id": "KLKxzyZf2BLr"
   },
   "outputs": [
    {
     "name": "stdout",
     "output_type": "stream",
     "text": [
      "campux is best channel \n"
     ]
    }
   ],
   "source": [
    "# Write code here\n",
    "l = [['c', 'a', 'm', 'p', 'u', 'x'], ['i', 's'], ['b', 'e', 's', 't'], ['c', 'h', 'a', 'n', 'n', 'e', 'l']]\n",
    "str = \"\"\n",
    "for item in l:\n",
    "    for j in item:\n",
    "        str = str+j\n",
    "    str = str+\" \"\n",
    "\n",
    "print(str)"
   ]
  },
  {
   "cell_type": "markdown",
   "metadata": {
    "id": "0v1Z3Snp2DAm"
   },
   "source": [
    "### `Problem 10:` Add Space between Potential Words.\n",
    "\n",
    "**Example:**\n",
    "\n",
    "Input:\n",
    "\n",
    "```bash\n",
    "['campusxIs', 'bestFor', 'dataScientist']\n",
    "```\n",
    "\n",
    "Output:\n",
    "```bash\n",
    "['campusx Is', 'best For', 'data Scientist']\n",
    "```"
   ]
  },
  {
   "cell_type": "code",
   "execution_count": 16,
   "metadata": {
    "id": "pltvqSXa2IxP"
   },
   "outputs": [
    {
     "data": {
      "text/plain": [
       "[' s', ' r', ' t']"
      ]
     },
     "execution_count": 16,
     "metadata": {},
     "output_type": "execute_result"
    }
   ],
   "source": [
    "# adding space after a capital letter \n",
    "l = ['campusxIs', 'bestFor', 'dataScientist']\n",
    "nl = []\n",
    "ltemp = []\n",
    "for i in l:\n",
    "    for j in i:\n",
    "        str = str+j\n",
    "        if j.isupper:\n",
    "            str = \" \"+j\n",
    "    nl.append(str)\n",
    "\n",
    "            \n",
    "nl         \n",
    "            \n",
    "    "
   ]
  },
  {
   "cell_type": "markdown",
   "metadata": {
    "id": "tnmBk1M52KXW"
   },
   "source": [
    "### `Problem 11:` Write a program that can perform union operation on 2 lists\n",
    "\n",
    "**Example:**\n",
    "\n",
    "Input:\n",
    "\n",
    "```bash\n",
    "[1,2,3,4,5,1]\n",
    "[2,3,5,7,8]\n",
    "```\n",
    "\n",
    "Output:\n",
    "```bash\n",
    "[1,2,3,4,5,7,8]\n",
    "```"
   ]
  },
  {
   "cell_type": "code",
   "execution_count": 1,
   "metadata": {
    "id": "u0AgIToU2-Ht"
   },
   "outputs": [
    {
     "name": "stdout",
     "output_type": "stream",
     "text": [
      "{1, 2, 3, 4, 5, 7, 8}\n"
     ]
    }
   ],
   "source": [
    "# using set function in the python \n",
    "l1 = [1,2,3,4,5,1]\n",
    "l2 = [2,3,5,7,8]\n",
    "s1 = set(l1)\n",
    "s2 = set(l2)\n",
    "print(s1.union(s2))"
   ]
  },
  {
   "cell_type": "code",
   "execution_count": 2,
   "metadata": {},
   "outputs": [
    {
     "data": {
      "text/plain": [
       "[1, 2, 3, 4, 5, 7, 8]"
      ]
     },
     "execution_count": 2,
     "metadata": {},
     "output_type": "execute_result"
    }
   ],
   "source": [
    "# finding union set operation using only loops and andf list function \n",
    "l1 = [1,2,3,4,5,1]\n",
    "l2 = [2,3,5,7,8]\n",
    "emp = []\n",
    "for i in l1:\n",
    "    if i not in emp:\n",
    "        emp.append(i)\n",
    "\n",
    "for j in l2 :\n",
    "    if j not in emp:\n",
    "        emp.append(j)\n",
    "\n",
    "emp\n",
    "    "
   ]
  },
  {
   "cell_type": "markdown",
   "metadata": {
    "id": "Yt8x67Ch3Ow1"
   },
   "source": [
    "### `Problem 12:` Write a program that can find the max number of each row of a matrix\n",
    "\n",
    "**Example:**\n",
    "\n",
    "Input:\n",
    "\n",
    "```bash\n",
    "[[1,2,3],[4,5,6],[7,8,9]]\n",
    "```\n",
    "\n",
    "Output:\n",
    "```bash\n",
    "[3,6,9]\n",
    "```"
   ]
  },
  {
   "cell_type": "code",
   "execution_count": 32,
   "metadata": {
    "id": "7QopAaAI3noh"
   },
   "outputs": [
    {
     "name": "stdout",
     "output_type": "stream",
     "text": [
      "[3, 6, 9]\n"
     ]
    }
   ],
   "source": [
    "# Write code here\n",
    "l2 = [[1,2,3],[4,5,6],[7,8,9]]\n",
    "nl = []\n",
    "for i in l2:\n",
    "    m = max(i)\n",
    "    nl.append(m)\n",
    "print(nl)   "
   ]
  },
  {
   "cell_type": "code",
   "execution_count": 7,
   "metadata": {},
   "outputs": [
    {
     "name": "stdout",
     "output_type": "stream",
     "text": [
      "[[0, 1, 2], [3, 4, 5], [6, 7, 8]]\n"
     ]
    }
   ],
   "source": [
    "rows, cols = 3, 3\n",
    "matrix = [[i * cols + j for j in range(cols)] for i in range(rows)]\n",
    "print(matrix)\n"
   ]
  },
  {
   "cell_type": "markdown",
   "metadata": {},
   "source": [
    "### `Problem 13:` Write a list comprehension to print the following matrix\n",
    "\n",
    "[[0, 1, 2], [3, 4, 5], [6, 7, 8]]"
   ]
  },
  {
   "cell_type": "markdown",
   "metadata": {
    "id": "j3vTuFC737kG"
   },
   "source": [
    "### `Problem 14:` Write a list comprehension that can transpose a given matrix\n",
    "\n",
    "matrix = [<br>\n",
    "  [1,2,3],<br>\n",
    "          [4,5,6],<br>\n",
    "          [7,8,9]<br>]<br>\n",
    "\n",
    "[1, 4, 7]<br>\n",
    "[2, 5, 8]<br>\n",
    "[3, 6, 9]<br>"
   ]
  },
  {
   "cell_type": "code",
   "execution_count": null,
   "metadata": {
    "id": "CcBNu0gk4XsR"
   },
   "outputs": [],
   "source": [
    "# Write code here\n",
    "# transpose of matrix \n",
    "[[1,2,3,],[4,5,6],[7,8,9]\n"
   ]
  },
  {
   "cell_type": "markdown",
   "metadata": {
    "id": "wRkSWFb74eOt"
   },
   "source": [
    "### `Problem 15:` Write a list comprehension that can flatten a nested list\n",
    "\n",
    "Input<br>\n",
    "matrix = [<br>\n",
    "  [1,2,3],<br>\n",
    "          [4,5,6],<br>\n",
    "          [7,8,9]<br>]<br>\n",
    "\n",
    "Output:<br>\n",
    "[1, 2, 3, 4, 5, 6, 7, 8, 9]"
   ]
  },
  {
   "cell_type": "code",
   "execution_count": 1,
   "metadata": {
    "id": "jZGQ5el25HFr"
   },
   "outputs": [],
   "source": [
    "# Write code here"
   ]
  },
  {
   "cell_type": "code",
   "execution_count": 5,
   "metadata": {},
   "outputs": [
    {
     "data": {
      "text/plain": [
       "'hki'"
      ]
     },
     "execution_count": 5,
     "metadata": {},
     "output_type": "execute_result"
    }
   ],
   "source": [
    "s = \"parikh\"\n",
    "s[:2:-1] \n",
    "#hki output hoga isska sir aap mujhe batayiye yahana ye output kaise aaya ye kaise indexing check kar raha he"
   ]
  },
  {
   "cell_type": "code",
   "execution_count": 7,
   "metadata": {},
   "outputs": [
    {
     "data": {
      "text/plain": [
       "''"
      ]
     },
     "execution_count": 7,
     "metadata": {},
     "output_type": "execute_result"
    }
   ],
   "source": [
    "s = \"parikh\"\n",
    "s[0:2:-1]"
   ]
  },
  {
   "cell_type": "code",
   "execution_count": 9,
   "metadata": {},
   "outputs": [
    {
     "data": {
      "text/plain": [
       "'hello'"
      ]
     },
     "execution_count": 9,
     "metadata": {},
     "output_type": "execute_result"
    }
   ],
   "source": [
    "p = \"hello\"\n",
    "p[:5:-1]"
   ]
  },
  {
   "cell_type": "code",
   "execution_count": 11,
   "metadata": {},
   "outputs": [
    {
     "data": {
      "text/plain": [
       "''"
      ]
     },
     "execution_count": 11,
     "metadata": {},
     "output_type": "execute_result"
    }
   ],
   "source": [
    "p1 = \"hello\"\n",
    "p1[0:5:-1]"
   ]
  },
  {
   "cell_type": "code",
   "execution_count": null,
   "metadata": {},
   "outputs": [],
   "source": []
  }
 ],
 "metadata": {
  "colab": {
   "provenance": []
  },
  "kernelspec": {
   "display_name": "Python 3 (ipykernel)",
   "language": "python",
   "name": "python3"
  },
  "language_info": {
   "codemirror_mode": {
    "name": "ipython",
    "version": 3
   },
   "file_extension": ".py",
   "mimetype": "text/x-python",
   "name": "python",
   "nbconvert_exporter": "python",
   "pygments_lexer": "ipython3",
   "version": "3.11.8"
  }
 },
 "nbformat": 4,
 "nbformat_minor": 4
}
